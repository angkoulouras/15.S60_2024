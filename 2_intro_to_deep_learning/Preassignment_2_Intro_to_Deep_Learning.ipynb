{
  "cells": [
    {
      "cell_type": "markdown",
      "metadata": {
        "id": "oDT2PYSdB-fw"
      },
      "source": [
        "## __IMPORTANT__\n",
        "__DON'T modify this notebook.__\n",
        "\n",
        "Please read the instructions carefully."
      ]
    },
    {
      "cell_type": "markdown",
      "metadata": {
        "id": "kDY7NQFuA8Z2"
      },
      "source": [
        "# Preassignment 2\n",
        "\n",
        "## Instructions\n",
        "\n",
        "We'll use Google Colab notebook for this and the next session.\n",
        "\n",
        "Google Colab is a user interface to execute Python code. It is extremely similar to Jupyter Notebook, except that it is online and runs on GPUs, for free!\n",
        "\n",
        "To test that you can run things on Colab, first begin by __copying__ this notebook. Go to _File_ and choose _Save a copy in Drive_. If you're not logged into a google account, it will ask you to do so. Then a new tab should open with a new file called \"Copy of Preassignment 3 - Intro to Deep Learning\". That is the file in which you will work for your pre-assignment.\n",
        "\n",
        "Now that you have your own copy of the preassignment, you can proceed to run the following cells:"
      ]
    },
    {
      "cell_type": "code",
      "execution_count": null,
      "metadata": {
        "id": "IyCPIPZ083AC"
      },
      "outputs": [],
      "source": [
        "import numpy as np                   # advanced math library\n",
        "import matplotlib.pyplot as plt      # MATLAB like plotting routines\n",
        "\n",
        "import tensorflow as tf              # Library for working with tensors and autmatic differentiation\n",
        "from tensorflow import keras         # API built on top of tensorflow for deep learning\n",
        "\n",
        "import tensorflow_datasets as tfds   # Library with a catalog of commonly used datasets for ML/DL"
      ]
    },
    {
      "cell_type": "markdown",
      "metadata": {
        "id": "nNpMAsupDRCb"
      },
      "source": [
        "After executing the cell above there shouldn't be any outputs and a green checkmark should appear at the top left of this cell.\n",
        "\n",
        " Note that you didn't need to install any of these libraries; they come pre-installed by default in Colab! (This is not true for all Python libraries, but it is true for most of the most commonly used ones in data science)."
      ]
    },
    {
      "cell_type": "markdown",
      "metadata": {
        "id": "gMfLBZAoEGKN"
      },
      "source": [
        "We can verify the version of the libraries we imported"
      ]
    },
    {
      "cell_type": "code",
      "execution_count": null,
      "metadata": {
        "id": "FyCgWqnFDM1e"
      },
      "outputs": [],
      "source": [
        "# Let's check tensorflow version\n",
        "# The output should be something like '2.7.0' or some number like that\n",
        "\n",
        "tf.__version__"
      ]
    },
    {
      "cell_type": "markdown",
      "metadata": {
        "id": "CJNhagZ-E1aV"
      },
      "source": [
        "Let's test how far we can go with Colab.\n",
        "\n",
        "We will build a small neural network using the libraries we just imported on a dataset we'll also download using the same libraries.\n",
        "\n",
        "Execute the following cells below. Don't worry about any of the details of the code, this is only to test that Colab is working flawlesly for you. At the end of the first session you'll understand exactly what is going on in the code below ;)"
      ]
    },
    {
      "cell_type": "code",
      "execution_count": null,
      "metadata": {
        "id": "6NP-xZQODfff"
      },
      "outputs": [],
      "source": [
        "# Load the TensorBoard notebook extension for hyperparamter tuning\n",
        "%load_ext tensorboard"
      ]
    },
    {
      "cell_type": "code",
      "execution_count": null,
      "metadata": {
        "id": "GMPsiuqHFu-G"
      },
      "outputs": [],
      "source": [
        "# We load the dataset and define de DL model\n",
        "\n",
        "mnist = tf.keras.datasets.mnist\n",
        "\n",
        "(x_train, y_train),(x_test, y_test) = mnist.load_data()\n",
        "x_train, x_test = x_train / 255.0, x_test / 255.0\n",
        "\n",
        "def create_model():\n",
        "  return tf.keras.models.Sequential([\n",
        "    tf.keras.layers.Flatten(input_shape=(28, 28)),\n",
        "    tf.keras.layers.Dense(512, activation='relu'),\n",
        "    tf.keras.layers.Dropout(0.2),\n",
        "    tf.keras.layers.Dense(10, activation='softmax')\n",
        "  ])\n"
      ]
    },
    {
      "cell_type": "code",
      "execution_count": null,
      "metadata": {
        "id": "ZzLvrHSjF1KU"
      },
      "outputs": [],
      "source": [
        "# We create, fir and store the model\n",
        "# Take a screenshot of this cell and the output it generates\n",
        "# It could take a couple of minutes\n",
        "\n",
        "import datetime\n",
        "\n",
        "model = create_model()\n",
        "model.compile(optimizer='adam',\n",
        "              loss='sparse_categorical_crossentropy',\n",
        "              metrics=['accuracy'])\n",
        "\n",
        "log_dir = \"logs/fit/\" + datetime.datetime.now().strftime(\"%Y%m%d-%H%M%S\")\n",
        "tensorboard_callback = tf.keras.callbacks.TensorBoard(log_dir=log_dir, histogram_freq=1)\n",
        "\n",
        "model.fit(x=x_train,\n",
        "          y=y_train,\n",
        "          epochs=5,\n",
        "          validation_data=(x_test, y_test),\n",
        "          callbacks=[tensorboard_callback])"
      ]
    },
    {
      "cell_type": "code",
      "execution_count": null,
      "metadata": {
        "id": "8ILvotmFF7OF"
      },
      "outputs": [],
      "source": [
        "# We can visualize the results of our model using tensorboard\n",
        "# Take another screenshot of this cell and the output it generates.\n",
        "\n",
        "%tensorboard --logdir logs/fit"
      ]
    },
    {
      "cell_type": "markdown",
      "metadata": {
        "id": "KGvh8cDlGnAN"
      },
      "source": [
        "Take a screnshot of the last two outputs and submit it as the preassignment. The screenshots can be in the same document or two different ones."
      ]
    },
    {
      "cell_type": "code",
      "execution_count": null,
      "metadata": {
        "id": "GSfz9dxzew2d"
      },
      "outputs": [],
      "source": []
    }
  ],
  "metadata": {
    "colab": {
      "provenance": []
    },
    "kernelspec": {
      "display_name": "Python 3",
      "name": "python3"
    },
    "language_info": {
      "name": "python"
    }
  },
  "nbformat": 4,
  "nbformat_minor": 0
}
