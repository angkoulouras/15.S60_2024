{
 "cells": [
  {
   "cell_type": "markdown",
   "metadata": {},
   "source": [
    "# Intro to JuMP\n",
    "\n",
    "This notebook is based on materials by Kayla Cummings\n",
    "(https://github.com/kscummings/15.S60_2022/tree/main/6_linear_programming).\n",
    "\n",
    "\n",
    "### Notebook outline\n",
    "\n",
    "1. Build and solve a simple model (easy)\n",
    "2. Incorporate some fancier data pre-processing\n",
    "3. Build and solve a large number of similar LPs (modularize!)\n",
    "\n",
    "_Note_: The preassignment did not include packages Distances, Random, and StatsBase; please install those by uncommenting the line below."
   ]
  },
  {
   "cell_type": "markdown",
   "metadata": {},
   "source": [
    "[JuMP.jl](https://github.com/JuliaOpt/JuMP.jl) is a high-level modeling language for mathematical optimization developed in Julia. It currently supports \n",
    "- a bajillion solvers (Artelys Knitro, BARON, Bonmin, Cbc, Clp, Couenne, CPLEX, ECOS, FICO Xpress, GLPK, Gurobi, Ipopt, MOSEK, NLopt, SCS ...) \n",
    "- many problem classes, including linear programming, (mixed) integer programming, second-order conic programming, semidefinite programming, and nonlinear programming.\n",
    "\n",
    "![figures/supported-solvers.png](figures/supported-solvers.png)"
   ]
  },
  {
   "cell_type": "code",
   "execution_count": 1,
   "metadata": {},
   "outputs": [],
   "source": [
    "# using Pkg; Pkg.add(\"Distances\"); Pkg.add(\"StatsBase\"); Pkg.add(\"Random\")"
   ]
  },
  {
   "cell_type": "code",
   "execution_count": 2,
   "metadata": {},
   "outputs": [
    {
     "name": "stdout",
     "output_type": "stream",
     "text": [
      "Set parameter Username\n",
      "Academic license - for non-commercial use only - expires 2025-01-08\n"
     ]
    }
   ],
   "source": [
    "using JuMP, Gurobi, CSV, DataFrames, Plots, Distances, StatsBase, Random\n",
    "\n",
    "const GRB_ENV = Gurobi.Env();"
   ]
  },
  {
   "cell_type": "markdown",
   "metadata": {},
   "source": [
    "## 1. Building and solving simple models\n",
    "\n",
    "Let's recall the basic syntax of building a linear program in Julia with JuMP."
   ]
  },
  {
   "cell_type": "code",
   "execution_count": 3,
   "metadata": {},
   "outputs": [],
   "source": [
    "#--- generate some random parameters \n",
    "n = 6\n",
    "A = round.(rand(n, n), digits=2)   # random resource matrix\n",
    "b = round.(rand(n) * 5, digits=2); # randm demand"
   ]
  },
  {
   "cell_type": "markdown",
   "metadata": {},
   "source": [
    "How would be formulate the following?\n",
    "\n",
    "\\begin{align}\n",
    "\\min \\quad &e^\\top x \\\\\n",
    "\\text{s.t. } \\quad &A x\\geq b \\\\\n",
    "&x \\geq 0\n",
    "\\end{align}"
   ]
  },
  {
   "cell_type": "code",
   "execution_count": 4,
   "metadata": {},
   "outputs": [],
   "source": [
    "#--- construct the model\n",
    "m = JuMP.Model(() -> Gurobi.Optimizer(GRB_ENV))\n",
    "JuMP.@variable(m, x[1:n] >= 0)\n",
    "JuMP.@constraint(m, resource, A*x .>= b)\n",
    "JuMP.@objective(m, Min, sum(x));"
   ]
  },
  {
   "cell_type": "code",
   "execution_count": 5,
   "metadata": {
    "scrolled": true
   },
   "outputs": [
    {
     "data": {
      "text/latex": [
       "$$ \\begin{aligned}\n",
       "\\min\\quad & x_{1} + x_{2} + x_{3} + x_{4} + x_{5} + x_{6}\\\\\n",
       "\\text{Subject to} \\quad & 0.38 x_{1} + 0.46 x_{2} + 0.07 x_{3} + 0.43 x_{4} + x_{5} + 0.86 x_{6} \\geq 0.57\\\\\n",
       " & 0.55 x_{1} + 0.04 x_{2} + 0.07 x_{3} + 0.91 x_{4} + 0.56 x_{5} + 0.76 x_{6} \\geq 3.35\\\\\n",
       " & 0.15 x_{1} + 0.25 x_{2} + 0.94 x_{3} + 0.59 x_{4} + 0.15 x_{5} + 0.61 x_{6} \\geq 2.03\\\\\n",
       " & 0.68 x_{1} + 0.21 x_{2} + 0.18 x_{3} + 0.38 x_{4} + 0.77 x_{5} + 0.03 x_{6} \\geq 0.77\\\\\n",
       " & 0.98 x_{1} + 0.5 x_{2} + 0.04 x_{3} + 0.97 x_{4} + 0.68 x_{5} + 0.54 x_{6} \\geq 0.62\\\\\n",
       " & 0.86 x_{1} + 0.74 x_{2} + 0.28 x_{3} + 0.63 x_{4} + 0.46 x_{5} + 0.39 x_{6} \\geq 1.89\\\\\n",
       " & x_{1} \\geq 0\\\\\n",
       " & x_{2} \\geq 0\\\\\n",
       " & x_{3} \\geq 0\\\\\n",
       " & x_{4} \\geq 0\\\\\n",
       " & x_{5} \\geq 0\\\\\n",
       " & x_{6} \\geq 0\\\\\n",
       "\\end{aligned} $$"
      ],
      "text/plain": [
       "$$ \\begin{aligned}\n",
       "\\min\\quad & x_{1} + x_{2} + x_{3} + x_{4} + x_{5} + x_{6}\\\\\n",
       "\\text{Subject to} \\quad & 0.38 x_{1} + 0.46 x_{2} + 0.07 x_{3} + 0.43 x_{4} + x_{5} + 0.86 x_{6} \\geq 0.57\\\\\n",
       " & 0.55 x_{1} + 0.04 x_{2} + 0.07 x_{3} + 0.91 x_{4} + 0.56 x_{5} + 0.76 x_{6} \\geq 3.35\\\\\n",
       " & 0.15 x_{1} + 0.25 x_{2} + 0.94 x_{3} + 0.59 x_{4} + 0.15 x_{5} + 0.61 x_{6} \\geq 2.03\\\\\n",
       " & 0.68 x_{1} + 0.21 x_{2} + 0.18 x_{3} + 0.38 x_{4} + 0.77 x_{5} + 0.03 x_{6} \\geq 0.77\\\\\n",
       " & 0.98 x_{1} + 0.5 x_{2} + 0.04 x_{3} + 0.97 x_{4} + 0.68 x_{5} + 0.54 x_{6} \\geq 0.62\\\\\n",
       " & 0.86 x_{1} + 0.74 x_{2} + 0.28 x_{3} + 0.63 x_{4} + 0.46 x_{5} + 0.39 x_{6} \\geq 1.89\\\\\n",
       " & x_{1} \\geq 0\\\\\n",
       " & x_{2} \\geq 0\\\\\n",
       " & x_{3} \\geq 0\\\\\n",
       " & x_{4} \\geq 0\\\\\n",
       " & x_{5} \\geq 0\\\\\n",
       " & x_{6} \\geq 0\\\\\n",
       "\\end{aligned} $$"
      ]
     },
     "execution_count": 5,
     "metadata": {},
     "output_type": "execute_result"
    }
   ],
   "source": [
    "#--- look at it!\n",
    "JuMP.latex_formulation(m)"
   ]
  },
  {
   "cell_type": "code",
   "execution_count": 6,
   "metadata": {
    "scrolled": true
   },
   "outputs": [
    {
     "name": "stdout",
     "output_type": "stream",
     "text": [
      "Gurobi Optimizer version 11.0.0 build v11.0.0rc2 (mac64[rosetta2] - Darwin 23.0.0 23A344)\n",
      "\n",
      "CPU model: Apple M1 Pro\n",
      "Thread count: 10 physical cores, 10 logical processors, using up to 10 threads\n",
      "\n",
      "Optimize a model with 6 rows, 6 columns and 36 nonzeros\n",
      "Model fingerprint: 0x6c41dacd\n",
      "Coefficient statistics:\n",
      "  Matrix range     [3e-02, 1e+00]\n",
      "  Objective range  [1e+00, 1e+00]\n",
      "  Bounds range     [0e+00, 0e+00]\n",
      "  RHS range        [6e-01, 3e+00]\n",
      "Presolve time: 0.00s\n",
      "Presolved: 6 rows, 6 columns, 36 nonzeros\n",
      "\n",
      "Iteration    Objective       Primal Inf.    Dual Inf.      Time\n",
      "       0    0.0000000e+00   9.230000e+00   0.000000e+00      0s\n",
      "       1    3.6813187e+00   0.000000e+00   0.000000e+00      0s\n",
      "\n",
      "Solved in 1 iterations and 0.01 seconds (0.00 work units)\n",
      "Optimal objective  3.681318681e+00\n",
      "\n",
      "User-callback calls 42, time in user-callback 0.00 sec\n"
     ]
    }
   ],
   "source": [
    "#--- solve!\n",
    "JuMP.optimize!(m)"
   ]
  },
  {
   "cell_type": "code",
   "execution_count": 7,
   "metadata": {},
   "outputs": [
    {
     "data": {
      "text/plain": [
       "3.681318681318681"
      ]
     },
     "execution_count": 7,
     "metadata": {},
     "output_type": "execute_result"
    }
   ],
   "source": [
    "#--- optimal value?\n",
    "obj = JuMP.objective_value(m)"
   ]
  },
  {
   "cell_type": "markdown",
   "metadata": {},
   "source": [
    "### That's quite the print-out! What do we do with it? \n",
    "The solver log has some useful information! ([Here](https://www.gurobi.com/documentation/11.0/refman/logging.html) is a comprehensive summary of Gurobi logging.)\n",
    "\n",
    "* Summary of model size\n",
    "* Parameter ranges (troubleshoot numerical errors)\n",
    "* Dual simplex solution progress\n",
    "    * Objective value of current basis\n",
    "    * Magnitudes of primal and dual infeasibility\n",
    "    * Iteration and time elapsed\n",
    "* Objective value\n",
    "* Tottal solve time\n",
    "* Callback summaries\n",
    "\n",
    "However, if you want to turn it off..."
   ]
  },
  {
   "cell_type": "code",
   "execution_count": 8,
   "metadata": {},
   "outputs": [],
   "source": [
    "solver = JuMP.optimizer_with_attributes(() -> Gurobi.Optimizer(GRB_ENV), \"OutputFlag\" => 0)\n",
    "m = JuMP.Model(solver)\n",
    "\n",
    "# while we're at it... an equivalent way to formulate, without matrix ops\n",
    "JuMP.@variable(m, x[1:n] >= 0)\n",
    "JuMP.@constraint(m, resource[i=1:n], sum(A[i,j] * x[j] for j in 1:n) >= b[i])\n",
    "JuMP.@objective(m, Min, sum(x[j] for j in 1:n));"
   ]
  },
  {
   "cell_type": "code",
   "execution_count": 9,
   "metadata": {},
   "outputs": [],
   "source": [
    "#--- so quiet...\n",
    "JuMP.optimize!(m)"
   ]
  },
  {
   "cell_type": "code",
   "execution_count": 10,
   "metadata": {},
   "outputs": [
    {
     "data": {
      "text/plain": [
       "true"
      ]
     },
     "execution_count": 10,
     "metadata": {},
     "output_type": "execute_result"
    }
   ],
   "source": [
    "#--- equivalent?\n",
    "JuMP.objective_value(m) == obj"
   ]
  },
  {
   "cell_type": "markdown",
   "metadata": {},
   "source": [
    "### Gurobi parameters\n",
    "\n",
    "Gurobi offers a lot of solver parameters. \n",
    "Here are just a few:\n",
    "\n",
    "* ``TimeLimit``: Max time solver will run (in seconds)\n",
    "* ``NodeLimit``: Max nodes to explore before solver quits\n",
    "* ``MIPGap``: Termination criterion for relative gap $\\frac{UB-LB}{LB}$.\n",
    "* ``MIPFocus``: High-level controls on solver priority (proving optimality or increasing bound or finding optimal solution).\n",
    "\n",
    "Set their values in the solver definition.\n",
    "```\n",
    "solver = JuMP.optimizer_with_attributes(() -> Gurobi.Optimizer(GRB_ENV), \"OutputFlag\" => 0, \"TimeLimit\" => 60)\n",
    "```\n",
    "\n",
    "\n",
    "Some parameters for simplex method and interior point method (barrier method)\n",
    "\n",
    "\n",
    "The full list of all parameters https://www.gurobi.com/documentation/11.0/refman/parameters.html\n",
    "\n",
    "![figures/example_parameters.png](figures/example_parameters.png)\n",
    "\n"
   ]
  },
  {
   "cell_type": "markdown",
   "metadata": {},
   "source": [
    "### Common model queries\n",
    "\n",
    "What other information do we want to squeeze out of our model?\n",
    "* Primal and dual solutions\n",
    "* Termination status (possible outcomes [here](https://jump.dev/JuMP.jl/stable/moi/reference/models/#MathOptInterface.TerminationStatusCode))"
   ]
  },
  {
   "cell_type": "code",
   "execution_count": 11,
   "metadata": {},
   "outputs": [
    {
     "name": "stdout",
     "output_type": "stream",
     "text": [
      "JuMP.value.(x) = [0.0, 0.0, 0.0, 3.681318681318681, 0.0, 0.0]\n"
     ]
    }
   ],
   "source": [
    "@show JuMP.value.(x);                # primal solution"
   ]
  },
  {
   "cell_type": "code",
   "execution_count": 12,
   "metadata": {},
   "outputs": [
    {
     "name": "stdout",
     "output_type": "stream",
     "text": [
      "JuMP.dual.(resource) = [0.0, 1.0989010989010988, 0.0, 0.0, 0.0, 0.0]\n"
     ]
    }
   ],
   "source": [
    "@show JuMP.dual.(resource);  # dual solution accociated with the constraint \"resource\""
   ]
  },
  {
   "cell_type": "code",
   "execution_count": 13,
   "metadata": {},
   "outputs": [
    {
     "name": "stdout",
     "output_type": "stream",
     "text": [
      "JuMP.termination_status(m) = MathOptInterface.OPTIMAL\n"
     ]
    }
   ],
   "source": [
    "@show JuMP.termination_status(m);     # did the model get solved to optimality?"
   ]
  },
  {
   "cell_type": "markdown",
   "metadata": {},
   "source": [
    "### Exercise\n",
    "\n",
    "Implement and solve the dual of our tiny optimization model up there. Verify that you get the same objective value!"
   ]
  },
  {
   "cell_type": "code",
   "execution_count": null,
   "metadata": {},
   "outputs": [],
   "source": [
    "dual_problem = JuMP.Model(() -> Gurobi.Optimizer(GRB_ENV))\n",
    "\n",
    "# Define variables, constraints, the objective function and solve the problem\n",
    "####\n",
    "#### YOUR CODE HERE\n",
    "####"
   ]
  },
  {
   "cell_type": "code",
   "execution_count": null,
   "metadata": {},
   "outputs": [],
   "source": [
    "# Check if you're correct\n",
    "abs(JuMP.objective_value(dual_problem) - obj) < 1e-5"
   ]
  },
  {
   "cell_type": "markdown",
   "metadata": {},
   "source": [
    "### Where to get help\n",
    "\n",
    "- JuMP docs https://jump.dev/JuMP.jl/stable/\n",
    "- JuMP issues https://github.com/JuliaOpt/JuMP.jl/issues\n",
    "- Discourse https://discourse.julialang.org/c/domain/opt\n",
    "- JuMP style guide https://jump.dev/JuMP.jl/stable/developers/style/\n",
    "- JuMP supported solvers https://jump.dev/JuMP.jl/stable/installation/#Supported-solvers\n",
    "- Some (old but useful) tutorials on JuMP https://github.com/jump-dev/JuMPTutorials.jl"
   ]
  },
  {
   "cell_type": "markdown",
   "metadata": {},
   "source": [
    "## 2. Building a model with fancy data pre-processing\n",
    "\n",
    "That was great and all, but what about the unsexy side of things where I have a bunch of datasets that I need to translate into model inputs? How do I do that and stay organized?? Let's set up a case study."
   ]
  },
  {
   "cell_type": "markdown",
   "metadata": {},
   "source": [
    "Greater Boston Area needs to make sure that its citizens are vaccinated from a latest varant of COVID. Their goal is to vaccinate everyone. Let's respect a statewide budget and minimize total distance traveled by those being vaccinated. Where should GBA set up temporary mass vaccination sites?\n",
    "\n",
    "**Sets**\n",
    "* Cities and towns $C$\n",
    "* Potential vaccination facilities $F$\n",
    "\n",
    "**Parameters**\n",
    "* $r_{j}$ - number of persons in city $j \\in C$ who need to be vaccinated \n",
    "* $d_{ij}$ - distance from facility $i \\in F$ to city $j \\in C$ (assume the same for everyone in area $j$)\n",
    "* $K_i$ - fixed cost of opening facility $i \\in F$ \n",
    "* $P_i$ - number of persons who can be vaccinated at facility $i \\in F$, assuming the facility is open\n",
    "* $B$ - budget for opening facilities\n",
    "* $L$ - maximum number of vaccination sites open\n",
    "\n",
    "**Decisions**\n",
    "* $x_{ij}$ - number of people in city $j \\in C$ vaccinated at site $i \\in F$ \n",
    "* $y_i$ - whether facility $i \\in F$ is open"
   ]
  },
  {
   "cell_type": "markdown",
   "metadata": {},
   "source": [
    "**Formulation**\n",
    "\n",
    "\\begin{align}\n",
    "\\min \\quad &\\sum_{i \\in F} \\sum_{j \\in C} d_{ij} \\cdot x_{ij} \\\\\n",
    "\\text{s.t. } \\quad &\\sum_{i \\in F} K_i \\cdot y_i \\leq B && &&\\text{Budget} \\\\\n",
    "&\\sum_{i \\in F} y_i \\leq L && &&\\text{Location limit}\\\\\n",
    "&\\sum_{j \\in C}x_{ij} \\leq P_i \\cdot y_{i} &&i \\in F &&\\text{Capacity} \\\\\n",
    "&\\sum_{i \\in F}x_{ij} = r_{j} &&j \\in C &&\\text{Demand} \\\\\n",
    "&x_{ij} \\geq 0 &&i \\in F, j \\in C \\\\\n",
    "&y_{i} \\in \\{0,1\\} &&i \\in F \\\\\n",
    "\\end{align}"
   ]
  },
  {
   "cell_type": "markdown",
   "metadata": {},
   "source": [
    "### 2.0 From raw data to formatted data\n",
    "\n",
    "* MA population at ZIP code level ([source](https://censusreporter.org/data/table/?table=B01003))\n",
    "* Prettier ZIP code names ([source](https://www.zip-codes.com/state/ma.asp))\n",
    "* Potential facility locations and their capacities/costs (source: simulated in Python. The script is in the raw data directory)"
   ]
  },
  {
   "cell_type": "markdown",
   "metadata": {},
   "source": [
    "### 2.1 From formatted data to model inputs\n",
    "\n",
    "Let's read in our formatted data toward constructing the sets and parameters that we need."
   ]
  },
  {
   "cell_type": "code",
   "execution_count": 14,
   "metadata": {},
   "outputs": [],
   "source": [
    "#--- data paths\n",
    "data_dir = joinpath(\"data\", \"formatted\")\n",
    "population_data_path = joinpath(data_dir, \"ma_population.csv\")\n",
    "facility_data_path = joinpath(data_dir, \"facilities.csv\");"
   ]
  },
  {
   "cell_type": "code",
   "execution_count": 15,
   "metadata": {
    "scrolled": true
   },
   "outputs": [
    {
     "data": {
      "text/html": [
       "<div><div style = \"float: left;\"><span>162×8 DataFrame</span></div><div style = \"float: right;\"><span style = \"font-style: italic;\">137 rows omitted</span></div><div style = \"clear: both;\"></div></div><div class = \"data-frame\" style = \"overflow-x: scroll;\"><table class = \"data-frame\" style = \"margin-bottom: 6px;\"><thead><tr class = \"header\"><th class = \"rowNumber\" style = \"font-weight: bold; text-align: right;\">Row</th><th style = \"text-align: left;\">geoid</th><th style = \"text-align: left;\">population</th><th style = \"text-align: left;\">pop_error</th><th style = \"text-align: left;\">longitude</th><th style = \"text-align: left;\">latitude</th><th style = \"text-align: left;\">city</th><th style = \"text-align: left;\">county</th><th style = \"text-align: left;\">zip_code</th></tr><tr class = \"subheader headerLastRow\"><th class = \"rowNumber\" style = \"font-weight: bold; text-align: right;\"></th><th title = \"String15\" style = \"text-align: left;\">String15</th><th title = \"Float64\" style = \"text-align: left;\">Float64</th><th title = \"Float64\" style = \"text-align: left;\">Float64</th><th title = \"Float64\" style = \"text-align: left;\">Float64</th><th title = \"Float64\" style = \"text-align: left;\">Float64</th><th title = \"String31\" style = \"text-align: left;\">String31</th><th title = \"String15\" style = \"text-align: left;\">String15</th><th title = \"String7\" style = \"text-align: left;\">String7</th></tr></thead><tbody><tr><td class = \"rowNumber\" style = \"font-weight: bold; text-align: right;\">1</td><td style = \"text-align: left;\">86000US01730</td><td style = \"text-align: right;\">14070.0</td><td style = \"text-align: right;\">52.0</td><td style = \"text-align: right;\">-71.2783</td><td style = \"text-align: right;\">42.4969</td><td style = \"text-align: left;\">Bedford</td><td style = \"text-align: left;\">Middlesex</td><td style = \"text-align: left;\">z01730</td></tr><tr><td class = \"rowNumber\" style = \"font-weight: bold; text-align: right;\">2</td><td style = \"text-align: left;\">86000US01731</td><td style = \"text-align: right;\">2059.0</td><td style = \"text-align: right;\">142.0</td><td style = \"text-align: right;\">-71.2795</td><td style = \"text-align: right;\">42.4568</td><td style = \"text-align: left;\">Hanscom AFB</td><td style = \"text-align: left;\">Middlesex</td><td style = \"text-align: left;\">z01731</td></tr><tr><td class = \"rowNumber\" style = \"font-weight: bold; text-align: right;\">3</td><td style = \"text-align: left;\">86000US01801</td><td style = \"text-align: right;\">40359.0</td><td style = \"text-align: right;\">91.0</td><td style = \"text-align: right;\">-71.1542</td><td style = \"text-align: right;\">42.4869</td><td style = \"text-align: left;\">Woburn</td><td style = \"text-align: left;\">Middlesex</td><td style = \"text-align: left;\">z01801</td></tr><tr><td class = \"rowNumber\" style = \"font-weight: bold; text-align: right;\">4</td><td style = \"text-align: left;\">86000US01803</td><td style = \"text-align: right;\">27650.0</td><td style = \"text-align: right;\">67.0</td><td style = \"text-align: right;\">-71.2026</td><td style = \"text-align: right;\">42.5022</td><td style = \"text-align: left;\">Burlington</td><td style = \"text-align: left;\">Middlesex</td><td style = \"text-align: left;\">z01803</td></tr><tr><td class = \"rowNumber\" style = \"font-weight: bold; text-align: right;\">5</td><td style = \"text-align: left;\">86000US01810</td><td style = \"text-align: right;\">35816.0</td><td style = \"text-align: right;\">55.0</td><td style = \"text-align: right;\">-71.1651</td><td style = \"text-align: right;\">42.6465</td><td style = \"text-align: left;\">Andover</td><td style = \"text-align: left;\">Essex</td><td style = \"text-align: left;\">z01810</td></tr><tr><td class = \"rowNumber\" style = \"font-weight: bold; text-align: right;\">6</td><td style = \"text-align: left;\">86000US01821</td><td style = \"text-align: right;\">32797.0</td><td style = \"text-align: right;\">525.0</td><td style = \"text-align: right;\">-71.2522</td><td style = \"text-align: right;\">42.5502</td><td style = \"text-align: left;\">Billerica</td><td style = \"text-align: left;\">Middlesex</td><td style = \"text-align: left;\">z01821</td></tr><tr><td class = \"rowNumber\" style = \"font-weight: bold; text-align: right;\">7</td><td style = \"text-align: left;\">86000US01833</td><td style = \"text-align: right;\">8695.0</td><td style = \"text-align: right;\">20.0</td><td style = \"text-align: right;\">-70.9821</td><td style = \"text-align: right;\">42.724</td><td style = \"text-align: left;\">Georgetown</td><td style = \"text-align: left;\">Essex</td><td style = \"text-align: left;\">z01833</td></tr><tr><td class = \"rowNumber\" style = \"font-weight: bold; text-align: right;\">8</td><td style = \"text-align: left;\">86000US01840</td><td style = \"text-align: right;\">5573.0</td><td style = \"text-align: right;\">567.0</td><td style = \"text-align: right;\">-71.1602</td><td style = \"text-align: right;\">42.7069</td><td style = \"text-align: left;\">Lawrence</td><td style = \"text-align: left;\">Essex</td><td style = \"text-align: left;\">z01840</td></tr><tr><td class = \"rowNumber\" style = \"font-weight: bold; text-align: right;\">9</td><td style = \"text-align: left;\">86000US01841</td><td style = \"text-align: right;\">49367.0</td><td style = \"text-align: right;\">1134.0</td><td style = \"text-align: right;\">-71.1651</td><td style = \"text-align: right;\">42.7108</td><td style = \"text-align: left;\">Lawrence</td><td style = \"text-align: left;\">Essex</td><td style = \"text-align: left;\">z01841</td></tr><tr><td class = \"rowNumber\" style = \"font-weight: bold; text-align: right;\">10</td><td style = \"text-align: left;\">86000US01843</td><td style = \"text-align: right;\">25002.0</td><td style = \"text-align: right;\">1129.0</td><td style = \"text-align: right;\">-71.161</td><td style = \"text-align: right;\">42.6898</td><td style = \"text-align: left;\">Lawrence</td><td style = \"text-align: left;\">Essex</td><td style = \"text-align: left;\">z01843</td></tr><tr><td class = \"rowNumber\" style = \"font-weight: bold; text-align: right;\">11</td><td style = \"text-align: left;\">86000US01844</td><td style = \"text-align: right;\">50282.0</td><td style = \"text-align: right;\">59.0</td><td style = \"text-align: right;\">-71.1889</td><td style = \"text-align: right;\">42.734</td><td style = \"text-align: left;\">Methuen</td><td style = \"text-align: left;\">Essex</td><td style = \"text-align: left;\">z01844</td></tr><tr><td class = \"rowNumber\" style = \"font-weight: bold; text-align: right;\">12</td><td style = \"text-align: left;\">86000US01845</td><td style = \"text-align: right;\">30842.0</td><td style = \"text-align: right;\">28.0</td><td style = \"text-align: right;\">-71.0865</td><td style = \"text-align: right;\">42.6713</td><td style = \"text-align: left;\">North Andover</td><td style = \"text-align: left;\">Essex</td><td style = \"text-align: left;\">z01845</td></tr><tr><td class = \"rowNumber\" style = \"font-weight: bold; text-align: right;\">13</td><td style = \"text-align: left;\">86000US01852</td><td style = \"text-align: right;\">35532.0</td><td style = \"text-align: right;\">909.0</td><td style = \"text-align: right;\">-71.2954</td><td style = \"text-align: right;\">42.6323</td><td style = \"text-align: left;\">Lowell</td><td style = \"text-align: left;\">Middlesex</td><td style = \"text-align: left;\">z01852</td></tr><tr><td style = \"text-align: right;\">&vellip;</td><td style = \"text-align: right;\">&vellip;</td><td style = \"text-align: right;\">&vellip;</td><td style = \"text-align: right;\">&vellip;</td><td style = \"text-align: right;\">&vellip;</td><td style = \"text-align: right;\">&vellip;</td><td style = \"text-align: right;\">&vellip;</td><td style = \"text-align: right;\">&vellip;</td><td style = \"text-align: right;\">&vellip;</td></tr><tr><td class = \"rowNumber\" style = \"font-weight: bold; text-align: right;\">151</td><td style = \"text-align: left;\">86000US02465</td><td style = \"text-align: right;\">11814.0</td><td style = \"text-align: right;\">612.0</td><td style = \"text-align: right;\">-71.2267</td><td style = \"text-align: right;\">42.3492</td><td style = \"text-align: left;\">West Newton</td><td style = \"text-align: left;\">Middlesex</td><td style = \"text-align: left;\">z02465</td></tr><tr><td class = \"rowNumber\" style = \"font-weight: bold; text-align: right;\">152</td><td style = \"text-align: left;\">86000US02466</td><td style = \"text-align: right;\">8929.0</td><td style = \"text-align: right;\">506.0</td><td style = \"text-align: right;\">-71.248</td><td style = \"text-align: right;\">42.3441</td><td style = \"text-align: left;\">Auburndale</td><td style = \"text-align: left;\">Middlesex</td><td style = \"text-align: left;\">z02466</td></tr><tr><td class = \"rowNumber\" style = \"font-weight: bold; text-align: right;\">153</td><td style = \"text-align: left;\">86000US02467</td><td style = \"text-align: right;\">22269.0</td><td style = \"text-align: right;\">921.0</td><td style = \"text-align: right;\">-71.1612</td><td style = \"text-align: right;\">42.3164</td><td style = \"text-align: left;\">Chestnut Hill</td><td style = \"text-align: left;\">Middlesex</td><td style = \"text-align: left;\">z02467</td></tr><tr><td class = \"rowNumber\" style = \"font-weight: bold; text-align: right;\">154</td><td style = \"text-align: left;\">86000US02468</td><td style = \"text-align: right;\">5623.0</td><td style = \"text-align: right;\">315.0</td><td style = \"text-align: right;\">-71.2307</td><td style = \"text-align: right;\">42.3273</td><td style = \"text-align: left;\">Waban</td><td style = \"text-align: left;\">Middlesex</td><td style = \"text-align: left;\">z02468</td></tr><tr><td class = \"rowNumber\" style = \"font-weight: bold; text-align: right;\">155</td><td style = \"text-align: left;\">86000US02472</td><td style = \"text-align: right;\">35518.0</td><td style = \"text-align: right;\">89.0</td><td style = \"text-align: right;\">-71.1773</td><td style = \"text-align: right;\">42.37</td><td style = \"text-align: left;\">Watertown</td><td style = \"text-align: left;\">Middlesex</td><td style = \"text-align: left;\">z02472</td></tr><tr><td class = \"rowNumber\" style = \"font-weight: bold; text-align: right;\">156</td><td style = \"text-align: left;\">86000US02474</td><td style = \"text-align: right;\">27878.0</td><td style = \"text-align: right;\">577.0</td><td style = \"text-align: right;\">-71.1566</td><td style = \"text-align: right;\">42.4202</td><td style = \"text-align: left;\">Arlington</td><td style = \"text-align: left;\">Middlesex</td><td style = \"text-align: left;\">z02474</td></tr><tr><td class = \"rowNumber\" style = \"font-weight: bold; text-align: right;\">157</td><td style = \"text-align: left;\">86000US02476</td><td style = \"text-align: right;\">17426.0</td><td style = \"text-align: right;\">577.0</td><td style = \"text-align: right;\">-71.1752</td><td style = \"text-align: right;\">42.4162</td><td style = \"text-align: left;\">Arlington</td><td style = \"text-align: left;\">Middlesex</td><td style = \"text-align: left;\">z02476</td></tr><tr><td class = \"rowNumber\" style = \"font-weight: bold; text-align: right;\">158</td><td style = \"text-align: left;\">86000US02478</td><td style = \"text-align: right;\">26099.0</td><td style = \"text-align: right;\">34.0</td><td style = \"text-align: right;\">-71.1795</td><td style = \"text-align: right;\">42.396</td><td style = \"text-align: left;\">Belmont</td><td style = \"text-align: left;\">Middlesex</td><td style = \"text-align: left;\">z02478</td></tr><tr><td class = \"rowNumber\" style = \"font-weight: bold; text-align: right;\">159</td><td style = \"text-align: left;\">86000US02481</td><td style = \"text-align: right;\">16140.0</td><td style = \"text-align: right;\">461.0</td><td style = \"text-align: right;\">-71.2743</td><td style = \"text-align: right;\">42.3129</td><td style = \"text-align: left;\">Wellesley Hills</td><td style = \"text-align: left;\">Norfolk</td><td style = \"text-align: left;\">z02481</td></tr><tr><td class = \"rowNumber\" style = \"font-weight: bold; text-align: right;\">160</td><td style = \"text-align: left;\">86000US02482</td><td style = \"text-align: right;\">10855.0</td><td style = \"text-align: right;\">445.0</td><td style = \"text-align: right;\">-71.2999</td><td style = \"text-align: right;\">42.2939</td><td style = \"text-align: left;\">Wellesley</td><td style = \"text-align: left;\">Norfolk</td><td style = \"text-align: left;\">z02482</td></tr><tr><td class = \"rowNumber\" style = \"font-weight: bold; text-align: right;\">161</td><td style = \"text-align: left;\">86000US02492</td><td style = \"text-align: right;\">20571.0</td><td style = \"text-align: right;\">428.0</td><td style = \"text-align: right;\">-71.2437</td><td style = \"text-align: right;\">42.2761</td><td style = \"text-align: left;\">Needham</td><td style = \"text-align: left;\">Norfolk</td><td style = \"text-align: left;\">z02492</td></tr><tr><td class = \"rowNumber\" style = \"font-weight: bold; text-align: right;\">162</td><td style = \"text-align: left;\">86000US02494</td><td style = \"text-align: right;\">10399.0</td><td style = \"text-align: right;\">429.0</td><td style = \"text-align: right;\">-71.2321</td><td style = \"text-align: right;\">42.2997</td><td style = \"text-align: left;\">Needham Heights</td><td style = \"text-align: left;\">Norfolk</td><td style = \"text-align: left;\">z02494</td></tr></tbody></table></div>"
      ],
      "text/latex": [
       "\\begin{tabular}{r|cccccccc}\n",
       "\t& geoid & population & pop\\_error & longitude & latitude & city & county & \\\\\n",
       "\t\\hline\n",
       "\t& String15 & Float64 & Float64 & Float64 & Float64 & String31 & String15 & \\\\\n",
       "\t\\hline\n",
       "\t1 & 86000US01730 & 14070.0 & 52.0 & -71.2783 & 42.4969 & Bedford & Middlesex & $\\dots$ \\\\\n",
       "\t2 & 86000US01731 & 2059.0 & 142.0 & -71.2795 & 42.4568 & Hanscom AFB & Middlesex & $\\dots$ \\\\\n",
       "\t3 & 86000US01801 & 40359.0 & 91.0 & -71.1542 & 42.4869 & Woburn & Middlesex & $\\dots$ \\\\\n",
       "\t4 & 86000US01803 & 27650.0 & 67.0 & -71.2026 & 42.5022 & Burlington & Middlesex & $\\dots$ \\\\\n",
       "\t5 & 86000US01810 & 35816.0 & 55.0 & -71.1651 & 42.6465 & Andover & Essex & $\\dots$ \\\\\n",
       "\t6 & 86000US01821 & 32797.0 & 525.0 & -71.2522 & 42.5502 & Billerica & Middlesex & $\\dots$ \\\\\n",
       "\t7 & 86000US01833 & 8695.0 & 20.0 & -70.9821 & 42.724 & Georgetown & Essex & $\\dots$ \\\\\n",
       "\t8 & 86000US01840 & 5573.0 & 567.0 & -71.1602 & 42.7069 & Lawrence & Essex & $\\dots$ \\\\\n",
       "\t9 & 86000US01841 & 49367.0 & 1134.0 & -71.1651 & 42.7108 & Lawrence & Essex & $\\dots$ \\\\\n",
       "\t10 & 86000US01843 & 25002.0 & 1129.0 & -71.161 & 42.6898 & Lawrence & Essex & $\\dots$ \\\\\n",
       "\t11 & 86000US01844 & 50282.0 & 59.0 & -71.1889 & 42.734 & Methuen & Essex & $\\dots$ \\\\\n",
       "\t12 & 86000US01845 & 30842.0 & 28.0 & -71.0865 & 42.6713 & North Andover & Essex & $\\dots$ \\\\\n",
       "\t13 & 86000US01852 & 35532.0 & 909.0 & -71.2954 & 42.6323 & Lowell & Middlesex & $\\dots$ \\\\\n",
       "\t14 & 86000US01862 & 10623.0 & 540.0 & -71.2934 & 42.5749 & North Billerica & Middlesex & $\\dots$ \\\\\n",
       "\t15 & 86000US01864 & 15581.0 & 23.0 & -71.0875 & 42.5816 & North Reading & Middlesex & $\\dots$ \\\\\n",
       "\t16 & 86000US01867 & 25077.0 & 85.0 & -71.1055 & 42.5351 & Reading & Middlesex & $\\dots$ \\\\\n",
       "\t17 & 86000US01876 & 30878.0 & 130.0 & -71.2275 & 42.6122 & Tewksbury & Middlesex & $\\dots$ \\\\\n",
       "\t18 & 86000US01880 & 26720.0 & 92.0 & -71.067 & 42.5023 & Wakefield & Middlesex & $\\dots$ \\\\\n",
       "\t19 & 86000US01887 & 23377.0 & 45.0 & -71.1654 & 42.5609 & Wilmington & Middlesex & $\\dots$ \\\\\n",
       "\t20 & 86000US01890 & 22738.0 & 35.0 & -71.1463 & 42.4518 & Winchester & Middlesex & $\\dots$ \\\\\n",
       "\t21 & 86000US01901 & 2135.0 & 469.0 & -70.9465 & 42.4607 & Lynn & Essex & $\\dots$ \\\\\n",
       "\t22 & 86000US01902 & 49641.0 & 1298.0 & -70.9399 & 42.4707 & Lynn & Essex & $\\dots$ \\\\\n",
       "\t23 & 86000US01904 & 17294.0 & 1097.0 & -70.9727 & 42.4915 & Lynn & Essex & $\\dots$ \\\\\n",
       "\t24 & 86000US01905 & 24580.0 & 922.0 & -70.9755 & 42.4658 & Lynn & Essex & $\\dots$ \\\\\n",
       "\t25 & 86000US01906 & 28222.0 & 42.0 & -71.0144 & 42.468 & Saugus & Essex & $\\dots$ \\\\\n",
       "\t26 & 86000US01907 & 15278.0 & 187.0 & -70.9056 & 42.4748 & Swampscott & Essex & $\\dots$ \\\\\n",
       "\t27 & 86000US01908 & 3502.0 & 20.0 & -70.9259 & 42.4288 & Nahant & Essex & $\\dots$ \\\\\n",
       "\t28 & 86000US01915 & 41885.0 & 25.0 & -70.8618 & 42.5672 & Beverly & Essex & $\\dots$ \\\\\n",
       "\t29 & 86000US01921 & 8282.0 & 16.0 & -71.019 & 42.6815 & Boxford & Essex & $\\dots$ \\\\\n",
       "\t30 & 86000US01923 & 27406.0 & 44.0 & -70.9493 & 42.574 & Danvers & Essex & $\\dots$ \\\\\n",
       "\t$\\dots$ & $\\dots$ & $\\dots$ & $\\dots$ & $\\dots$ & $\\dots$ & $\\dots$ & $\\dots$ &  \\\\\n",
       "\\end{tabular}\n"
      ],
      "text/plain": [
       "\u001b[1m162×8 DataFrame\u001b[0m\n",
       "\u001b[1m Row \u001b[0m│\u001b[1m geoid        \u001b[0m\u001b[1m population \u001b[0m\u001b[1m pop_error \u001b[0m\u001b[1m longitude \u001b[0m\u001b[1m latitude \u001b[0m\u001b[1m city         \u001b[0m ⋯\n",
       "     │\u001b[90m String15     \u001b[0m\u001b[90m Float64    \u001b[0m\u001b[90m Float64   \u001b[0m\u001b[90m Float64   \u001b[0m\u001b[90m Float64  \u001b[0m\u001b[90m String31     \u001b[0m ⋯\n",
       "─────┼──────────────────────────────────────────────────────────────────────────\n",
       "   1 │ 86000US01730     14070.0       52.0   -71.2783   42.4969  Bedford       ⋯\n",
       "   2 │ 86000US01731      2059.0      142.0   -71.2795   42.4568  Hanscom AFB\n",
       "   3 │ 86000US01801     40359.0       91.0   -71.1542   42.4869  Woburn\n",
       "   4 │ 86000US01803     27650.0       67.0   -71.2026   42.5022  Burlington\n",
       "   5 │ 86000US01810     35816.0       55.0   -71.1651   42.6465  Andover       ⋯\n",
       "   6 │ 86000US01821     32797.0      525.0   -71.2522   42.5502  Billerica\n",
       "   7 │ 86000US01833      8695.0       20.0   -70.9821   42.724   Georgetown\n",
       "   8 │ 86000US01840      5573.0      567.0   -71.1602   42.7069  Lawrence\n",
       "   9 │ 86000US01841     49367.0     1134.0   -71.1651   42.7108  Lawrence      ⋯\n",
       "  10 │ 86000US01843     25002.0     1129.0   -71.161    42.6898  Lawrence\n",
       "  11 │ 86000US01844     50282.0       59.0   -71.1889   42.734   Methuen\n",
       "  ⋮  │      ⋮            ⋮           ⋮          ⋮         ⋮              ⋮     ⋱\n",
       " 153 │ 86000US02467     22269.0      921.0   -71.1612   42.3164  Chestnut Hill\n",
       " 154 │ 86000US02468      5623.0      315.0   -71.2307   42.3273  Waban         ⋯\n",
       " 155 │ 86000US02472     35518.0       89.0   -71.1773   42.37    Watertown\n",
       " 156 │ 86000US02474     27878.0      577.0   -71.1566   42.4202  Arlington\n",
       " 157 │ 86000US02476     17426.0      577.0   -71.1752   42.4162  Arlington\n",
       " 158 │ 86000US02478     26099.0       34.0   -71.1795   42.396   Belmont       ⋯\n",
       " 159 │ 86000US02481     16140.0      461.0   -71.2743   42.3129  Wellesley Hil\n",
       " 160 │ 86000US02482     10855.0      445.0   -71.2999   42.2939  Wellesley\n",
       " 161 │ 86000US02492     20571.0      428.0   -71.2437   42.2761  Needham\n",
       " 162 │ 86000US02494     10399.0      429.0   -71.2321   42.2997  Needham Heigh ⋯\n",
       "\u001b[36m                                                  3 columns and 141 rows omitted\u001b[0m"
      ]
     },
     "execution_count": 15,
     "metadata": {},
     "output_type": "execute_result"
    }
   ],
   "source": [
    "#--- population data\n",
    "population_data = CSV.read(population_data_path,DataFrame)"
   ]
  },
  {
   "cell_type": "code",
   "execution_count": 17,
   "metadata": {
    "scrolled": true
   },
   "outputs": [
    {
     "data": {
      "text/html": [
       "<div><div style = \"float: left;\"><span>50×5 DataFrame</span></div><div style = \"float: right;\"><span style = \"font-style: italic;\">25 rows omitted</span></div><div style = \"clear: both;\"></div></div><div class = \"data-frame\" style = \"overflow-x: scroll;\"><table class = \"data-frame\" style = \"margin-bottom: 6px;\"><thead><tr class = \"header\"><th class = \"rowNumber\" style = \"font-weight: bold; text-align: right;\">Row</th><th style = \"text-align: left;\">latitude</th><th style = \"text-align: left;\">longitude</th><th style = \"text-align: left;\">capacity</th><th style = \"text-align: left;\">fixed_cost</th><th style = \"text-align: left;\">facility_id</th></tr><tr class = \"subheader headerLastRow\"><th class = \"rowNumber\" style = \"font-weight: bold; text-align: right;\"></th><th title = \"Float64\" style = \"text-align: left;\">Float64</th><th title = \"Float64\" style = \"text-align: left;\">Float64</th><th title = \"Float64\" style = \"text-align: left;\">Float64</th><th title = \"Float64\" style = \"text-align: left;\">Float64</th><th title = \"String7\" style = \"text-align: left;\">String7</th></tr></thead><tbody><tr><td class = \"rowNumber\" style = \"font-weight: bold; text-align: right;\">1</td><td style = \"text-align: right;\">42.467</td><td style = \"text-align: right;\">-71.1851</td><td style = \"text-align: right;\">403680.0</td><td style = \"text-align: right;\">4.0458e5</td><td style = \"text-align: left;\">fac3</td></tr><tr><td class = \"rowNumber\" style = \"font-weight: bold; text-align: right;\">2</td><td style = \"text-align: right;\">42.5802</td><td style = \"text-align: right;\">-70.7361</td><td style = \"text-align: right;\">53920.0</td><td style = \"text-align: right;\">54819.7</td><td style = \"text-align: left;\">fac36</td></tr><tr><td class = \"rowNumber\" style = \"font-weight: bold; text-align: right;\">3</td><td style = \"text-align: right;\">42.4578</td><td style = \"text-align: right;\">-71.0891</td><td style = \"text-align: right;\">227470.0</td><td style = \"text-align: right;\">2.2837e5</td><td style = \"text-align: left;\">fac20</td></tr><tr><td class = \"rowNumber\" style = \"font-weight: bold; text-align: right;\">4</td><td style = \"text-align: right;\">42.5532</td><td style = \"text-align: right;\">-71.1816</td><td style = \"text-align: right;\">233860.0</td><td style = \"text-align: right;\">2.3476e5</td><td style = \"text-align: left;\">fac19</td></tr><tr><td class = \"rowNumber\" style = \"font-weight: bold; text-align: right;\">5</td><td style = \"text-align: right;\">42.587</td><td style = \"text-align: right;\">-71.2954</td><td style = \"text-align: right;\">106320.0</td><td style = \"text-align: right;\">1.0722e5</td><td style = \"text-align: left;\">fac14</td></tr><tr><td class = \"rowNumber\" style = \"font-weight: bold; text-align: right;\">6</td><td style = \"text-align: right;\">42.4348</td><td style = \"text-align: right;\">-70.8908</td><td style = \"text-align: right;\">35110.0</td><td style = \"text-align: right;\">36009.7</td><td style = \"text-align: left;\">fac27</td></tr><tr><td class = \"rowNumber\" style = \"font-weight: bold; text-align: right;\">7</td><td style = \"text-align: right;\">42.683</td><td style = \"text-align: right;\">-70.8731</td><td style = \"text-align: right;\">63810.0</td><td style = \"text-align: right;\">64709.7</td><td style = \"text-align: left;\">fac41</td></tr><tr><td class = \"rowNumber\" style = \"font-weight: bold; text-align: right;\">8</td><td style = \"text-align: right;\">42.2029</td><td style = \"text-align: right;\">-70.8373</td><td style = \"text-align: right;\">84930.0</td><td style = \"text-align: right;\">85829.7</td><td style = \"text-align: left;\">fac47</td></tr><tr><td class = \"rowNumber\" style = \"font-weight: bold; text-align: right;\">9</td><td style = \"text-align: right;\">42.5806</td><td style = \"text-align: right;\">-70.9341</td><td style = \"text-align: right;\">274150.0</td><td style = \"text-align: right;\">2.7505e5</td><td style = \"text-align: left;\">fac30</td></tr><tr><td class = \"rowNumber\" style = \"font-weight: bold; text-align: right;\">10</td><td style = \"text-align: right;\">42.5048</td><td style = \"text-align: right;\">-71.0934</td><td style = \"text-align: right;\">276590.0</td><td style = \"text-align: right;\">2.7749e5</td><td style = \"text-align: left;\">fac4</td></tr><tr><td class = \"rowNumber\" style = \"font-weight: bold; text-align: right;\">11</td><td style = \"text-align: right;\">42.4405</td><td style = \"text-align: right;\">-70.9838</td><td style = \"text-align: right;\">245890.0</td><td style = \"text-align: right;\">2.4679e5</td><td style = \"text-align: left;\">fac24</td></tr><tr><td class = \"rowNumber\" style = \"font-weight: bold; text-align: right;\">12</td><td style = \"text-align: right;\">42.4798</td><td style = \"text-align: right;\">-71.3128</td><td style = \"text-align: right;\">140790.0</td><td style = \"text-align: right;\">1.4169e5</td><td style = \"text-align: left;\">fac1</td></tr><tr><td class = \"rowNumber\" style = \"font-weight: bold; text-align: right;\">13</td><td style = \"text-align: right;\">42.5506</td><td style = \"text-align: right;\">-71.1175</td><td style = \"text-align: right;\">267290.0</td><td style = \"text-align: right;\">2.6819e5</td><td style = \"text-align: left;\">fac18</td></tr><tr><td style = \"text-align: right;\">&vellip;</td><td style = \"text-align: right;\">&vellip;</td><td style = \"text-align: right;\">&vellip;</td><td style = \"text-align: right;\">&vellip;</td><td style = \"text-align: right;\">&vellip;</td><td style = \"text-align: right;\">&vellip;</td></tr><tr><td class = \"rowNumber\" style = \"font-weight: bold; text-align: right;\">39</td><td style = \"text-align: right;\">42.3345</td><td style = \"text-align: right;\">-71.1959</td><td style = \"text-align: right;\">252740.0</td><td style = \"text-align: right;\">2.5364e5</td><td style = \"text-align: left;\">fac48</td></tr><tr><td class = \"rowNumber\" style = \"font-weight: bold; text-align: right;\">40</td><td style = \"text-align: right;\">42.3079</td><td style = \"text-align: right;\">-71.2917</td><td style = \"text-align: right;\">60530.0</td><td style = \"text-align: right;\">61429.7</td><td style = \"text-align: left;\">fac49</td></tr><tr><td class = \"rowNumber\" style = \"font-weight: bold; text-align: right;\">41</td><td style = \"text-align: right;\">42.4584</td><td style = \"text-align: right;\">-70.8356</td><td style = \"text-align: right;\">152870.0</td><td style = \"text-align: right;\">1.5377e5</td><td style = \"text-align: left;\">fac26</td></tr><tr><td class = \"rowNumber\" style = \"font-weight: bold; text-align: right;\">42</td><td style = \"text-align: right;\">42.6508</td><td style = \"text-align: right;\">-71.3186</td><td style = \"text-align: right;\">355410.0</td><td style = \"text-align: right;\">3.5631e5</td><td style = \"text-align: left;\">fac13</td></tr><tr><td class = \"rowNumber\" style = \"font-weight: bold; text-align: right;\">43</td><td style = \"text-align: right;\">42.4793</td><td style = \"text-align: right;\">-70.906</td><td style = \"text-align: right;\">496500.0</td><td style = \"text-align: right;\">4.974e5</td><td style = \"text-align: left;\">fac22</td></tr><tr><td class = \"rowNumber\" style = \"font-weight: bold; text-align: right;\">44</td><td style = \"text-align: right;\">42.5714</td><td style = \"text-align: right;\">-71.0846</td><td style = \"text-align: right;\">526370.0</td><td style = \"text-align: right;\">5.2727e5</td><td style = \"text-align: left;\">fac39</td></tr><tr><td class = \"rowNumber\" style = \"font-weight: bold; text-align: right;\">45</td><td style = \"text-align: right;\">42.6297</td><td style = \"text-align: right;\">-70.6275</td><td style = \"text-align: right;\">72400.0</td><td style = \"text-align: right;\">73299.7</td><td style = \"text-align: left;\">fac40</td></tr><tr><td class = \"rowNumber\" style = \"font-weight: bold; text-align: right;\">46</td><td style = \"text-align: right;\">42.6878</td><td style = \"text-align: right;\">-71.2009</td><td style = \"text-align: right;\">308510.0</td><td style = \"text-align: right;\">3.0941e5</td><td style = \"text-align: left;\">fac12</td></tr><tr><td class = \"rowNumber\" style = \"font-weight: bold; text-align: right;\">47</td><td style = \"text-align: right;\">42.7763</td><td style = \"text-align: right;\">-71.1733</td><td style = \"text-align: right;\">502910.0</td><td style = \"text-align: right;\">5.0381e5</td><td style = \"text-align: left;\">fac11</td></tr><tr><td class = \"rowNumber\" style = \"font-weight: bold; text-align: right;\">48</td><td style = \"text-align: right;\">42.6178</td><td style = \"text-align: right;\">-71.1987</td><td style = \"text-align: right;\">98810.0</td><td style = \"text-align: right;\">99709.7</td><td style = \"text-align: left;\">fac38</td></tr><tr><td class = \"rowNumber\" style = \"font-weight: bold; text-align: right;\">49</td><td style = \"text-align: right;\">42.6708</td><td style = \"text-align: right;\">-70.8789</td><td style = \"text-align: right;\">37540.0</td><td style = \"text-align: right;\">38439.7</td><td style = \"text-align: left;\">fac31</td></tr><tr><td class = \"rowNumber\" style = \"font-weight: bold; text-align: right;\">50</td><td style = \"text-align: right;\">42.7547</td><td style = \"text-align: right;\">-71.1712</td><td style = \"text-align: right;\">250110.0</td><td style = \"text-align: right;\">2.5101e5</td><td style = \"text-align: left;\">fac10</td></tr></tbody></table></div>"
      ],
      "text/latex": [
       "\\begin{tabular}{r|ccccc}\n",
       "\t& latitude & longitude & capacity & fixed\\_cost & facility\\_id\\\\\n",
       "\t\\hline\n",
       "\t& Float64 & Float64 & Float64 & Float64 & String7\\\\\n",
       "\t\\hline\n",
       "\t1 & 42.467 & -71.1851 & 403680.0 & 4.0458e5 & fac3 \\\\\n",
       "\t2 & 42.5802 & -70.7361 & 53920.0 & 54819.7 & fac36 \\\\\n",
       "\t3 & 42.4578 & -71.0891 & 227470.0 & 2.2837e5 & fac20 \\\\\n",
       "\t4 & 42.5532 & -71.1816 & 233860.0 & 2.3476e5 & fac19 \\\\\n",
       "\t5 & 42.587 & -71.2954 & 106320.0 & 1.0722e5 & fac14 \\\\\n",
       "\t6 & 42.4348 & -70.8908 & 35110.0 & 36009.7 & fac27 \\\\\n",
       "\t7 & 42.683 & -70.8731 & 63810.0 & 64709.7 & fac41 \\\\\n",
       "\t8 & 42.2029 & -70.8373 & 84930.0 & 85829.7 & fac47 \\\\\n",
       "\t9 & 42.5806 & -70.9341 & 274150.0 & 2.7505e5 & fac30 \\\\\n",
       "\t10 & 42.5048 & -71.0934 & 276590.0 & 2.7749e5 & fac4 \\\\\n",
       "\t11 & 42.4405 & -70.9838 & 245890.0 & 2.4679e5 & fac24 \\\\\n",
       "\t12 & 42.4798 & -71.3128 & 140790.0 & 1.4169e5 & fac1 \\\\\n",
       "\t13 & 42.5506 & -71.1175 & 267290.0 & 2.6819e5 & fac18 \\\\\n",
       "\t14 & 42.4724 & -70.8632 & 418940.0 & 4.1984e5 & fac28 \\\\\n",
       "\t15 & 42.4864 & -71.2728 & 328060.0 & 3.2896e5 & fac6 \\\\\n",
       "\t16 & 42.4821 & -71.328 & 20680.0 & 21579.7 & fac2 \\\\\n",
       "\t17 & 42.584 & -70.8468 & 52490.0 & 53389.7 & fac45 \\\\\n",
       "\t18 & 42.6202 & -70.9565 & 65770.0 & 66669.7 & fac44 \\\\\n",
       "\t19 & 42.5314 & -70.8528 & 430420.0 & 4.3132e5 & fac42 \\\\\n",
       "\t20 & 42.5977 & -71.055 & 1890.0 & 2789.69 & fac33 \\\\\n",
       "\t21 & 42.4692 & -71.0583 & 134830.0 & 1.3573e5 & fac35 \\\\\n",
       "\t22 & 42.4769 & -70.8911 & 205090.0 & 2.0599e5 & fac37 \\\\\n",
       "\t23 & 42.5804 & -70.5854 & 301710.0 & 3.0261e5 & fac32 \\\\\n",
       "\t24 & 42.6403 & -71.1881 & 358250.0 & 3.5915e5 & fac5 \\\\\n",
       "\t25 & 42.6251 & -71.1468 & 493760.0 & 4.9466e5 & fac9 \\\\\n",
       "\t26 & 42.6292 & -71.2063 & 308870.0 & 3.0977e5 & fac17 \\\\\n",
       "\t27 & 42.5521 & -70.9405 & 282310.0 & 2.8321e5 & fac25 \\\\\n",
       "\t28 & 42.5698 & -71.1653 & 155900.0 & 1.568e5 & fac15 \\\\\n",
       "\t29 & 42.3844 & -70.9015 & 21440.0 & 22339.7 & fac21 \\\\\n",
       "\t30 & 42.6767 & -71.1279 & 55820.0 & 56719.7 & fac8 \\\\\n",
       "\t$\\dots$ & $\\dots$ & $\\dots$ & $\\dots$ & $\\dots$ & $\\dots$ \\\\\n",
       "\\end{tabular}\n"
      ],
      "text/plain": [
       "\u001b[1m50×5 DataFrame\u001b[0m\n",
       "\u001b[1m Row \u001b[0m│\u001b[1m latitude \u001b[0m\u001b[1m longitude \u001b[0m\u001b[1m capacity \u001b[0m\u001b[1m fixed_cost   \u001b[0m\u001b[1m facility_id \u001b[0m\n",
       "     │\u001b[90m Float64  \u001b[0m\u001b[90m Float64   \u001b[0m\u001b[90m Float64  \u001b[0m\u001b[90m Float64      \u001b[0m\u001b[90m String7     \u001b[0m\n",
       "─────┼──────────────────────────────────────────────────────────\n",
       "   1 │  42.467    -71.1851  403680.0      4.0458e5  fac3\n",
       "   2 │  42.5802   -70.7361   53920.0  54819.7       fac36\n",
       "   3 │  42.4578   -71.0891  227470.0      2.2837e5  fac20\n",
       "   4 │  42.5532   -71.1816  233860.0      2.3476e5  fac19\n",
       "   5 │  42.587    -71.2954  106320.0      1.0722e5  fac14\n",
       "   6 │  42.4348   -70.8908   35110.0  36009.7       fac27\n",
       "   7 │  42.683    -70.8731   63810.0  64709.7       fac41\n",
       "   8 │  42.2029   -70.8373   84930.0  85829.7       fac47\n",
       "   9 │  42.5806   -70.9341  274150.0      2.7505e5  fac30\n",
       "  10 │  42.5048   -71.0934  276590.0      2.7749e5  fac4\n",
       "  11 │  42.4405   -70.9838  245890.0      2.4679e5  fac24\n",
       "  ⋮  │    ⋮          ⋮         ⋮           ⋮             ⋮\n",
       "  41 │  42.4584   -70.8356  152870.0      1.5377e5  fac26\n",
       "  42 │  42.6508   -71.3186  355410.0      3.5631e5  fac13\n",
       "  43 │  42.4793   -70.906   496500.0      4.974e5   fac22\n",
       "  44 │  42.5714   -71.0846  526370.0      5.2727e5  fac39\n",
       "  45 │  42.6297   -70.6275   72400.0  73299.7       fac40\n",
       "  46 │  42.6878   -71.2009  308510.0      3.0941e5  fac12\n",
       "  47 │  42.7763   -71.1733  502910.0      5.0381e5  fac11\n",
       "  48 │  42.6178   -71.1987   98810.0  99709.7       fac38\n",
       "  49 │  42.6708   -70.8789   37540.0  38439.7       fac31\n",
       "  50 │  42.7547   -71.1712  250110.0      2.5101e5  fac10\n",
       "\u001b[36m                                                 29 rows omitted\u001b[0m"
      ]
     },
     "execution_count": 17,
     "metadata": {},
     "output_type": "execute_result"
    }
   ],
   "source": [
    "#--- facility data (simulated)\n",
    "facility_data = CSV.read(facility_data_path,DataFrame)"
   ]
  },
  {
   "cell_type": "code",
   "execution_count": null,
   "metadata": {},
   "outputs": [],
   "source": [
    "#--- visualize\n",
    "scatter(population_data[:, \"longitude\"], population_data[:, \"latitude\"], markersize=0.0002*population_data[:, \"population\"], label=\"Population\")\n",
    "scatter!(facility_data[:, \"longitude\"], facility_data[:, \"latitude\"], color=\"red\", markersize=0.00002*facility_data[:, \"capacity\"],label=\"Facilities\")"
   ]
  },
  {
   "cell_type": "markdown",
   "metadata": {},
   "source": [
    "Imagine a map of the GBA underneath the dots... ;)"
   ]
  },
  {
   "cell_type": "markdown",
   "metadata": {},
   "source": [
    "### What input formatting needs to be done?\n",
    "\n",
    "Some model attributes are straightforward translations of dataframe columns:\n",
    "* zip codes and facility IDs - $C, F$\n",
    "* facility capacities - $P$\n",
    "* fixed facility costs - $K$\n",
    "* demand - $r$\n",
    "\n",
    "Others are constants:\n",
    "* budget - $B$\n",
    "* max number of facilities - $L$\n",
    "\n",
    "And some need to be computed:\n",
    "* distances between facilities and residents - $d$"
   ]
  },
  {
   "cell_type": "markdown",
   "metadata": {},
   "source": [
    "### Collecting all of the model components\n",
    "\n",
    "This is a lot of stuff to keep track of. How can I keep everything organized?\n",
    "\n",
    "We will create a Julia struct, which is a flexible data structure that can keep track of attributes of all types. If you are familiar with Python, a struct is analogous to a class, but we cannot assign methods to it."
   ]
  },
  {
   "cell_type": "code",
   "execution_count": null,
   "metadata": {},
   "outputs": [],
   "source": [
    "struct FacilityLocationData\n",
    "    #--- constants \n",
    "    L::Int64        # location limit\n",
    "    B::Float64      # budget\n",
    "    \n",
    "    #--- sets\n",
    "    C::Vector{String}  # zip codes \n",
    "    F::Vector{String}  # facility IDs\n",
    "    \n",
    "    #--- parameters\n",
    "    r::Dict{String,Int64}                  # demand \n",
    "    P::Dict{String,Int64}                  # facility capacity\n",
    "    K::Dict{String,Float64}                # fixed cost\n",
    "    d::Dict{Tuple{String,String},Float64}  # distances\n",
    "    \n",
    "    #--- extra information\n",
    "    city_county::Dict{String,String}             # city/county zip code map\n",
    "    population_gps::Dict{String,Tuple{Float64,Float64}} # GPS points of each zip code\n",
    "    facility_gps::Dict{String,Tuple{Float64,Float64}} # GPS points of each facility\n",
    "end"
   ]
  },
  {
   "cell_type": "markdown",
   "metadata": {},
   "source": [
    "We cannot change the struct once it has been created. If we want to be able to change values, we create a mutable struct instead. (Just put the word \"mutable\" in front of struct at the top of the previous cell.)\n",
    "\n",
    "Let's build a constructor for our FacilityLocationData data structure. We are taking advantage of the fact that Julia functions can have many _methods_."
   ]
  },
  {
   "cell_type": "markdown",
   "metadata": {},
   "source": [
    "### Exercise\n",
    "\n",
    "Part of the constructor has been completed before you. But part of it hasn't... fill in the missing model components."
   ]
  },
  {
   "cell_type": "code",
   "execution_count": null,
   "metadata": {},
   "outputs": [],
   "source": [
    "\"\"\"\n",
    "CONSTRUCTOR\n",
    "\n",
    "### Keywords\n",
    "* `pop_fp` - MA population filepath\n",
    "* `fac_fp` - facility location filepath\n",
    "* `L` - max facility locations that can be opened\n",
    "* `B` - budget\n",
    "\"\"\"\n",
    "function FacilityLocationData(\n",
    "        pop_fp::String,\n",
    "        fac_fp::String,\n",
    "        L::Int64=20,\n",
    "        B::Float64=4e6\n",
    "    )\n",
    "    # read in raw data\n",
    "    # note: this code is redundant with the above code, but that was preliminary data exploration!\n",
    "    population_data = CSV.read(pop_fp, DataFrame)\n",
    "    population_data[:, \"zip_code\"] = replace.(population_data[:, \"zip_code\"], \"z\" => \"\")\n",
    "    facility_data = CSV.read(fac_fp, DataFrame)\n",
    "    \n",
    "    # sets\n",
    "    C = String.(population_data[:, \"zip_code\"])\n",
    "    F = String.(facility_data[:, \"facility_id\"])\n",
    "    \n",
    "    # some extra info available in the pop dataframe\n",
    "    city_county = Dict{String,String}(\n",
    "        row[\"zip_code\"] => row[\"city\"] .* \", \" .* row[\"county\"] for row in eachrow(population_data) \n",
    "            if (!ismissing(row[\"city\"]) & !ismissing(row[\"county\"]))\n",
    "    )\n",
    "    population_gps = Dict{String,Tuple{Float64,Float64}}(\n",
    "        population_data[:, \"zip_code\"] .=> tuple.(population_data[:, \"latitude\"], population_data[:, \"longitude\"])\n",
    "    )\n",
    "    facility_gps = Dict{String,Tuple{Float64,Float64}}(\n",
    "        facility_data[:, \"facility_id\"] .=> tuple.(facility_data[:, \"latitude\"], facility_data[:, \"longitude\"])\n",
    "    )\n",
    "\n",
    "    # facility capacity and fixed cost parameters\n",
    "    P = Dict{String,Int64}(F .=> facility_data[:, \"capacity\"]) \n",
    "    K = Dict{String,Float64}(F .=> facility_data[:, \"fixed_cost\"])\n",
    "                    \n",
    "    # demand parameters\n",
    "    r = Dict{String,Int64}(population_data[:, \"zip_code\"] .=> population_data[:, \"population\"])\n",
    "                \n",
    "    # distances\n",
    "    hav = Distances.Haversine(3958.8); # the radius of Earth in miles\n",
    "    d = Dict{Tuple{String,String},Float64}(\n",
    "        (res, fac) => Distances.evaluate(hav, rgps, fgps) for (res, rgps) in population_gps for (fac, fgps) in facility_gps\n",
    "    )\n",
    "                            \n",
    "    return FacilityLocationData(L, B, C, F, r, P, K, d, city_county, population_gps, facility_gps)\n",
    "end"
   ]
  },
  {
   "cell_type": "code",
   "execution_count": null,
   "metadata": {},
   "outputs": [],
   "source": [
    "FLD = FacilityLocationData(population_data_path, facility_data_path);"
   ]
  },
  {
   "cell_type": "markdown",
   "metadata": {},
   "source": [
    "Now we can access any model attribute by name. Try it out!"
   ]
  },
  {
   "cell_type": "code",
   "execution_count": null,
   "metadata": {},
   "outputs": [],
   "source": [
    "# budget\n",
    "@show FLD.B;"
   ]
  },
  {
   "cell_type": "code",
   "execution_count": null,
   "metadata": {},
   "outputs": [],
   "source": [
    "# zip codes\n",
    "@show FLD.C;"
   ]
  },
  {
   "cell_type": "code",
   "execution_count": null,
   "metadata": {},
   "outputs": [],
   "source": [
    "# facility capacity\n",
    "@show FLD.P;"
   ]
  },
  {
   "cell_type": "markdown",
   "metadata": {},
   "source": [
    "What was the point of all of that? Can't we just use the parameter names themselves?\n",
    "\n",
    "Well, good extensible code is _modularized_! By limiting all of our model components to one data structure, we have drastically simplified the arguments to any functions that build and solve models.\n",
    "\n",
    "We want code that looks roughly like this:\n",
    "\n",
    "```\n",
    "FLD = FacilityLocationData(data_dir)\n",
    "model = build_model(FLD)\n",
    "solution = solve_model(model)\n",
    "```\n",
    "\n",
    "Look how lovely and legible that is! As we know, line 1 hides a lot of work. But now we have designed narrative, extensible code. If we need more info, we can go to the function(s) containing that info. Let's get to work on lines 2 and 3..."
   ]
  },
  {
   "cell_type": "markdown",
   "metadata": {},
   "source": [
    "### 2.2 Model formulation\n",
    "\n",
    "Now what? Let's work on a `build_model` function.\n",
    "\n"
   ]
  },
  {
   "cell_type": "markdown",
   "metadata": {},
   "source": [
    "### Exercise\n",
    "\n",
    "Formulate the above model in JuMP using the inputs we just formatted.\n",
    "\n",
    "Before you begin, here is some syntax that may be useful.\n",
    "\n",
    "```\n",
    "@variables m begin\n",
    "    variable1_name >= 0\n",
    "    variable2_name, Bin\n",
    "end\n",
    "\n",
    "@constraints m begin\n",
    "    opt_constraint1_name, constraint1\n",
    "    opt_constraint2_name[constraint2_index], constraint2\n",
    "end\n",
    "```\n",
    "\n",
    "The above is a less verbose, equivalent way of coding:\n",
    "```\n",
    "@variable(m, variable1_name >= 0)\n",
    "@variable(m, variable2_name, Bin)\n",
    "@constraint(m, opt_constraint1_name, constraint1)\n",
    "@constraint(m, opt_constraint2_name[constraint2_index], constraint2)\n",
    "```"
   ]
  },
  {
   "cell_type": "markdown",
   "metadata": {},
   "source": [
    "As a reminder, here's the formulation.\n",
    "\n",
    "\n",
    "\\begin{align}\n",
    "\\min \\quad &\\sum_{i \\in F} \\sum_{j \\in C} d_{ij} \\cdot x_{ij} \\\\\n",
    "\\text{s.t. } \\quad &\\sum_{i \\in F} K_i \\cdot y_i \\leq B && &&\\text{Budget} \\\\\n",
    "&\\sum_{i \\in F} y_i \\leq L && &&\\text{Location limit}\\\\\n",
    "&\\sum_{j \\in C}x_{ij} \\leq P_i \\cdot y_{i} &&i \\in F &&\\text{Capacity} \\\\\n",
    "&\\sum_{i \\in F}x_{ij} = r_{j} &&j \\in C &&\\text{Demand} \\\\\n",
    "&x_{ij} \\geq 0 &&i \\in F, j \\in C \\\\\n",
    "&y_{i} \\in \\{0,1\\} &&i \\in F \\\\\n",
    "\\end{align}"
   ]
  },
  {
   "cell_type": "code",
   "execution_count": null,
   "metadata": {},
   "outputs": [],
   "source": [
    "\"\"\"\n",
    "Build MA facility location model.\n",
    "\n",
    "### Keywords \n",
    "* `FLD` - FacilityLocationData\n",
    "### Returns\n",
    "* JuMP.Model representation of MA's mass vaccination site problem\n",
    "\"\"\"\n",
    "function build_model(FLD::FacilityLocationData)\n",
    "    m = JuMP.Model(Gurobi.Optimizer)\n",
    "    \n",
    "    @variables m begin \n",
    "        x[FLD.F, FLD.C] >= 0\n",
    "        y[FLD.F], Bin\n",
    "    end\n",
    "    # this is the same with:\n",
    "    # YOUR CODE HERE\n",
    "    # define variables in our old way\n",
    "    \n",
    "    @expression(m, budget, sum(FLD.K[i] * y[i] for i in FLD.F))\n",
    "    \n",
    "    @constraints m begin \n",
    "        budget <= FLD.B\n",
    "        num_loc, sum(y) <= FLD.L\n",
    "        capacity[i in FLD.F], sum(x[i,:]) <= FLD.P[i] * y[i]\n",
    "        demand[j in FLD.C], sum(x[:,j]) == FLD.r[j]\n",
    "    end\n",
    "    # this is the same with:\n",
    "    # YOUR CODE HERE\n",
    "    # define constraints in our old way\n",
    "    \n",
    "    \n",
    "    @objective(m, Min, sum(FLD.d[(j,i)] * x[i,j] for i in FLD.F for j in FLD.C))\n",
    "                                        \n",
    "    return m\n",
    "end"
   ]
  },
  {
   "cell_type": "code",
   "execution_count": null,
   "metadata": {},
   "outputs": [],
   "source": [
    "#--- try it out!\n",
    "m = build_model(FLD)"
   ]
  },
  {
   "cell_type": "markdown",
   "metadata": {},
   "source": [
    "### 2.3 Solve model\n",
    "\n",
    "Let's build a function to solve our model. Then we can explore and interpret our optimal solution."
   ]
  },
  {
   "cell_type": "code",
   "execution_count": null,
   "metadata": {},
   "outputs": [],
   "source": [
    "\"\"\"\n",
    "Solve a mass COVID vaccination facility location model \n",
    "\n",
    "### Keywords \n",
    "* `model` - the model\n",
    "### Returns \n",
    "* termination status\n",
    "* objective value\n",
    "* optimal solution (x, y)\n",
    "\"\"\"\n",
    "function solve_model(model::JuMP.Model)\n",
    "    JuMP.optimize!(model)\n",
    "    term_status = JuMP.termination_status(model)\n",
    "    if term_status == MOI.OPTIMAL\n",
    "        obj = JuMP.objective_value(model)\n",
    "        x_val = JuMP.value.(model[:x])\n",
    "        y_val = JuMP.value.(model[:y])\n",
    "        #JuMP.value(model[:budget])\n",
    "        return term_status, obj, (x_val, y_val)\n",
    "    end\n",
    "    return term_status, nothing, nothing\n",
    "end\n",
    "# this function is looking the other way while we talk about type stability..."
   ]
  },
  {
   "cell_type": "code",
   "execution_count": null,
   "metadata": {},
   "outputs": [],
   "source": [
    "ts, obj, (x_val, y_val) = solve_model(m);"
   ]
  },
  {
   "cell_type": "markdown",
   "metadata": {},
   "source": [
    "### 2.4 Put it all together\n",
    "\n",
    "Let's see our three-line script in action :-)"
   ]
  },
  {
   "cell_type": "code",
   "execution_count": null,
   "metadata": {},
   "outputs": [],
   "source": [
    "F = FacilityLocationData(population_data_path, facility_data_path)\n",
    "m = build_model(F)\n",
    "ts, obj, sol = solve_model(m);"
   ]
  },
  {
   "cell_type": "markdown",
   "metadata": {},
   "source": [
    "## 3. Analyze outputs\n",
    "\n",
    "There are a few scenarios where our 3-line script is going to save us a lot of trouble:\n",
    "* Different (but very similar) datasets - e.g., repeat for all 50 states, not just MA\n",
    "* Sensitivity analysis\n",
    "\n",
    "### Exercise\n",
    "Let's do a little bit of the latter. We will plot the effect of budget on total distance traveled by all residents to get their vaccines. Fix the number of facilities at 20."
   ]
  },
  {
   "cell_type": "code",
   "execution_count": null,
   "metadata": {},
   "outputs": [],
   "source": [
    "budget = [3 + i * .2 for i in 0:10] .* 10^6\n",
    "NB = length(budget)\n",
    "dist = Float64[NaN for _ in 1:NB]\n",
    "\n",
    "##### YOUR CODE HERE\n"
   ]
  },
  {
   "cell_type": "code",
   "execution_count": null,
   "metadata": {
    "scrolled": true
   },
   "outputs": [],
   "source": [
    "scatter(budget, dist, ylab=\"Total distance traveled\", xlab=\"Budget\", legend=false)"
   ]
  },
  {
   "cell_type": "markdown",
   "metadata": {},
   "source": [
    "Check: is the distance decreasing as budget increases?"
   ]
  },
  {
   "cell_type": "markdown",
   "metadata": {},
   "source": [
    "# Appendix\n",
    "\n",
    "Here's how the facility data was simulated."
   ]
  },
  {
   "cell_type": "code",
   "execution_count": null,
   "metadata": {},
   "outputs": [],
   "source": [
    "# using Pkg; Pkg.add(\"Distributions\")\n",
    "using Distributions, Random\n",
    "Random.seed!(47)\n",
    "pop_vec = population_data[:, \"population\"]\n",
    "num_facilities = 50\n",
    "\n",
    "# distributions\n",
    "dist_lat = Normal.(population_data[:,\"latitude\"], 0.05)\n",
    "dist_lon = Normal.(population_data[:, \"longitude\"], 0.05)\n",
    "dist_cap = Normal(100, 10)\n",
    "dist_fc = Normal(1e3, 100)\n",
    "\n",
    "# locations (who knows if these are even in MA? on land??? oh well!)\n",
    "fac_lat = rand.(dist_lat)\n",
    "fac_lon = rand.(dist_lon)\n",
    "\n",
    "# parameters\n",
    "P = max.(round.(pop_vec .* 10 .+ rand(dist_cap)), 0)\n",
    "K = pop_vec .* 10 .+ rand(dist_fc)\n",
    "\n",
    "# facility IDs\n",
    "facility_id = \"fac\" .* string.([i for i in 1:length(fac_lat)])\n",
    "\n",
    "# format into a CSV\n",
    "facilities = DataFrame(latitude = fac_lat, longitude = fac_lon, capacity = P, fixed_cost = K, facility_id = facility_id)\n",
    "fac_idx = StatsBase.sample(1:nrow(facility_data), num_facilities, replace=false)\n",
    "facilities = facilities[fac_idx, :]  \n",
    "CSV.write(joinpath(\"data\", \"formatted\", \"facilities.csv\"), facilities);"
   ]
  },
  {
   "cell_type": "code",
   "execution_count": null,
   "metadata": {},
   "outputs": [],
   "source": []
  }
 ],
 "metadata": {
  "kernelspec": {
   "display_name": "Julia 1.10.0",
   "language": "julia",
   "name": "julia-1.10"
  },
  "language_info": {
   "file_extension": ".jl",
   "mimetype": "application/julia",
   "name": "julia",
   "version": "1.10.0"
  }
 },
 "nbformat": 4,
 "nbformat_minor": 2
}
