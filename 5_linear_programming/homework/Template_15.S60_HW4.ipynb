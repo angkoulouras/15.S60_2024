{
 "cells": [
  {
   "cell_type": "code",
   "execution_count": 4,
   "metadata": {},
   "outputs": [],
   "source": [
    "using Gurobi, JuMP\n",
    "using CSV, DataFrames"
   ]
  },
  {
   "attachments": {},
   "cell_type": "markdown",
   "metadata": {},
   "source": [
    "## Read CSV"
   ]
  },
  {
   "cell_type": "code",
   "execution_count": 6,
   "metadata": {},
   "outputs": [
    {
     "data": {
      "text/html": [
       "<div class=\"data-frame\"><p>26 rows × 3 columns</p><table class=\"data-frame\"><thead><tr><th></th><th>row</th><th>col</th><th>val</th></tr><tr><th></th><th title=\"Int64\">Int64</th><th title=\"Int64\">Int64</th><th title=\"Int64\">Int64</th></tr></thead><tbody><tr><th>1</th><td>1</td><td>9</td><td>2</td></tr><tr><th>2</th><td>2</td><td>7</td><td>9</td></tr><tr><th>3</th><td>2</td><td>8</td><td>4</td></tr><tr><th>4</th><td>3</td><td>3</td><td>3</td></tr><tr><th>5</th><td>3</td><td>9</td><td>5</td></tr><tr><th>6</th><td>4</td><td>2</td><td>9</td></tr><tr><th>7</th><td>4</td><td>3</td><td>2</td></tr><tr><th>8</th><td>4</td><td>4</td><td>3</td></tr><tr><th>9</th><td>4</td><td>6</td><td>5</td></tr><tr><th>10</th><td>4</td><td>8</td><td>7</td></tr><tr><th>11</th><td>4</td><td>9</td><td>4</td></tr><tr><th>12</th><td>5</td><td>1</td><td>8</td></tr><tr><th>13</th><td>5</td><td>2</td><td>4</td></tr><tr><th>14</th><td>6</td><td>2</td><td>6</td></tr><tr><th>15</th><td>6</td><td>3</td><td>7</td></tr><tr><th>16</th><td>6</td><td>5</td><td>9</td></tr><tr><th>17</th><td>6</td><td>6</td><td>8</td></tr><tr><th>18</th><td>7</td><td>4</td><td>7</td></tr><tr><th>19</th><td>7</td><td>6</td><td>6</td></tr><tr><th>20</th><td>8</td><td>4</td><td>9</td></tr><tr><th>21</th><td>8</td><td>8</td><td>2</td></tr><tr><th>22</th><td>9</td><td>1</td><td>4</td></tr><tr><th>23</th><td>9</td><td>3</td><td>8</td></tr><tr><th>24</th><td>9</td><td>4</td><td>5</td></tr><tr><th>&vellip;</th><td>&vellip;</td><td>&vellip;</td><td>&vellip;</td></tr></tbody></table></div>"
      ],
      "text/latex": [
       "\\begin{tabular}{r|ccc}\n",
       "\t& row & col & val\\\\\n",
       "\t\\hline\n",
       "\t& Int64 & Int64 & Int64\\\\\n",
       "\t\\hline\n",
       "\t1 & 1 & 9 & 2 \\\\\n",
       "\t2 & 2 & 7 & 9 \\\\\n",
       "\t3 & 2 & 8 & 4 \\\\\n",
       "\t4 & 3 & 3 & 3 \\\\\n",
       "\t5 & 3 & 9 & 5 \\\\\n",
       "\t6 & 4 & 2 & 9 \\\\\n",
       "\t7 & 4 & 3 & 2 \\\\\n",
       "\t8 & 4 & 4 & 3 \\\\\n",
       "\t9 & 4 & 6 & 5 \\\\\n",
       "\t10 & 4 & 8 & 7 \\\\\n",
       "\t11 & 4 & 9 & 4 \\\\\n",
       "\t12 & 5 & 1 & 8 \\\\\n",
       "\t13 & 5 & 2 & 4 \\\\\n",
       "\t14 & 6 & 2 & 6 \\\\\n",
       "\t15 & 6 & 3 & 7 \\\\\n",
       "\t16 & 6 & 5 & 9 \\\\\n",
       "\t17 & 6 & 6 & 8 \\\\\n",
       "\t18 & 7 & 4 & 7 \\\\\n",
       "\t19 & 7 & 6 & 6 \\\\\n",
       "\t20 & 8 & 4 & 9 \\\\\n",
       "\t21 & 8 & 8 & 2 \\\\\n",
       "\t22 & 9 & 1 & 4 \\\\\n",
       "\t23 & 9 & 3 & 8 \\\\\n",
       "\t24 & 9 & 4 & 5 \\\\\n",
       "\t$\\dots$ & $\\dots$ & $\\dots$ & $\\dots$ \\\\\n",
       "\\end{tabular}\n"
      ],
      "text/plain": [
       "\u001b[1m26×3 DataFrame\u001b[0m\n",
       "\u001b[1m Row \u001b[0m│\u001b[1m row   \u001b[0m\u001b[1m col   \u001b[0m\u001b[1m val   \u001b[0m\n",
       "\u001b[1m     \u001b[0m│\u001b[90m Int64 \u001b[0m\u001b[90m Int64 \u001b[0m\u001b[90m Int64 \u001b[0m\n",
       "─────┼─────────────────────\n",
       "   1 │     1      9      2\n",
       "   2 │     2      7      9\n",
       "   3 │     2      8      4\n",
       "   4 │     3      3      3\n",
       "   5 │     3      9      5\n",
       "   6 │     4      2      9\n",
       "   7 │     4      3      2\n",
       "   8 │     4      4      3\n",
       "  ⋮  │   ⋮      ⋮      ⋮\n",
       "  20 │     8      4      9\n",
       "  21 │     8      8      2\n",
       "  22 │     9      1      4\n",
       "  23 │     9      3      8\n",
       "  24 │     9      4      5\n",
       "  25 │     9      7      3\n",
       "  26 │     9      8      6\n",
       "\u001b[36m            11 rows omitted\u001b[0m"
      ]
     },
     "metadata": {},
     "output_type": "display_data"
    }
   ],
   "source": [
    "data = CSV.read(\"sudoku_inputs.csv\", DataFrame)\n",
    "data"
   ]
  },
  {
   "attachments": {},
   "cell_type": "markdown",
   "metadata": {},
   "source": [
    "## Create model"
   ]
  },
  {
   "cell_type": "code",
   "execution_count": 8,
   "metadata": {},
   "outputs": [
    {
     "name": "stdout",
     "output_type": "stream",
     "text": [
      "Set parameter Username\n",
      "Academic license - for non-commercial use only - expires 2024-06-07\n"
     ]
    },
    {
     "data": {
      "text/plain": [
       "A JuMP Model\n",
       "Feasibility problem with:\n",
       "Variables: 0\n",
       "Model mode: AUTOMATIC\n",
       "CachingOptimizer state: EMPTY_OPTIMIZER\n",
       "Solver name: Gurobi"
      ]
     },
     "metadata": {},
     "output_type": "display_data"
    }
   ],
   "source": [
    "model = Model(Gurobi.Optimizer)"
   ]
  },
  {
   "cell_type": "code",
   "execution_count": null,
   "metadata": {},
   "outputs": [],
   "source": [
    "## Variables\n",
    "# Hint: you can make your variables Integer as follows:\n",
    "# @variable(model, x[1:9, 1:9] ≥ 0, Int)\n",
    "# Hint: you can make your variables Binary as follows:\n",
    "# @variable(model, x[1:9, 1:9, 1:9] ≥ 0, Bin)\n",
    "# What is the best representation? Depends on the sudoku-specific constraints below"
   ]
  },
  {
   "cell_type": "code",
   "execution_count": null,
   "metadata": {},
   "outputs": [],
   "source": [
    "## Sudoku-specific constraints\n",
    "# Hint: you should use the @constraint macro"
   ]
  },
  {
   "cell_type": "code",
   "execution_count": 9,
   "metadata": {},
   "outputs": [
    {
     "name": "stdout",
     "output_type": "stream",
     "text": [
      "row 1 column 9 has 2\n",
      "row 2 column 7 has 9\n",
      "row 2 column 8 has 4\n",
      "row 3 column 3 has 3\n",
      "row 3 column 9 has 5\n",
      "row 4 column 2 has 9\n",
      "row 4 column 3 has 2\n",
      "row 4 column 4 has 3\n",
      "row 4 column 6 has 5\n",
      "row 4 column 8 has 7\n",
      "row 4 column 9 has 4\n",
      "row 5 column 1 has 8\n",
      "row 5 column 2 has 4\n",
      "row 6 column 2 has 6\n",
      "row 6 column 3 has 7\n",
      "row 6 column 5 has 9\n",
      "row 6 column 6 has 8\n",
      "row 7 column 4 has 7\n",
      "row 7 column 6 has 6\n",
      "row 8 column 4 has 9\n",
      "row 8 column 8 has 2\n",
      "row 9 column 1 has 4\n",
      "row 9 column 3 has 8\n",
      "row 9 column 4 has 5\n",
      "row 9 column 7 has 3\n",
      "row 9 column 8 has 6\n"
     ]
    }
   ],
   "source": [
    "## Given Sudoku inputs:\n",
    "# Hint: you should use @constraint to constrain the entries in certain rows and columns to be equal to a value\n",
    "for r in eachrow(data)\n",
    "    println(\"row $(r.row) column $(r.col) has $(r.val)\")\n",
    "    # @constraint(model, ...)\n",
    "end"
   ]
  },
  {
   "attachments": {},
   "cell_type": "markdown",
   "metadata": {},
   "source": [
    "### Model explanation\n",
    "\n",
    "`TODO`: insert your explanation here."
   ]
  },
  {
   "attachments": {},
   "cell_type": "markdown",
   "metadata": {},
   "source": [
    "## Solve model, read outputs"
   ]
  },
  {
   "cell_type": "code",
   "execution_count": 10,
   "metadata": {},
   "outputs": [
    {
     "name": "stdout",
     "output_type": "stream",
     "text": [
      "Gurobi Optimizer version 10.0.0 build v10.0.0rc2 (mac64[arm])\n",
      "\n",
      "CPU model: Apple M2 Pro\n",
      "Thread count: 12 physical cores, 12 logical processors, using up to 12 threads\n",
      "\n",
      "Optimize a model with 0 rows, 0 columns and 0 nonzeros\n",
      "Model fingerprint: 0xf9715da1\n",
      "Coefficient statistics:\n",
      "  Matrix range     [0e+00, 0e+00]\n",
      "  Objective range  [0e+00, 0e+00]\n",
      "  Bounds range     [0e+00, 0e+00]\n",
      "  RHS range        [0e+00, 0e+00]\n",
      "Presolve time: 0.00s\n",
      "Presolve: All rows and columns removed\n",
      "Iteration    Objective       Primal Inf.    Dual Inf.      Time\n",
      "       0    0.0000000e+00   0.000000e+00   0.000000e+00      0s\n",
      "\n",
      "Solved in 0 iterations and 0.00 seconds (0.00 work units)\n",
      "Optimal objective  0.000000000e+00\n",
      "\n",
      "User-callback calls 23, time in user-callback 0.00 sec\n"
     ]
    }
   ],
   "source": [
    "optimize!(model)"
   ]
  },
  {
   "attachments": {},
   "cell_type": "markdown",
   "metadata": {},
   "source": [
    "## Visualization"
   ]
  },
  {
   "cell_type": "code",
   "execution_count": 11,
   "metadata": {},
   "outputs": [],
   "source": [
    "using Plots"
   ]
  },
  {
   "cell_type": "code",
   "execution_count": 42,
   "metadata": {},
   "outputs": [
    {
     "data": {
      "text/plain": [
       "visualize_sudoku_inputs (generic function with 1 method)"
      ]
     },
     "metadata": {},
     "output_type": "display_data"
    }
   ],
   "source": [
    "function visualize_sudoku_inputs(\n",
    "    data::DataFrame,\n",
    "    ;\n",
    "    show_solved_data::Bool = false,\n",
    "    solved_data::Union{DataFrame, Nothing} = nothing,\n",
    ")\n",
    "    # data should be in the format provided in sudoku_inputs.csv\n",
    "    # solved_data should be in the same format, but for non-provided inputs\n",
    "    p = Plots.plot(\n",
    "        xlim = (-0.5, 9.5), ylim = (-0.5, 9.5), \n",
    "        xaxis = false, yaxis = false,\n",
    "        aspect_ratio = :equal,\n",
    "    )\n",
    "    for i in 0:9\n",
    "        if i in [0, 3, 6, 9]\n",
    "            lw = 2\n",
    "        else\n",
    "            lw = 1\n",
    "        end\n",
    "        Plots.plot!([i, i], [0, 9], label = false, color = :black, lw = lw)\n",
    "        Plots.plot!([0, 9], [i, i], label = false, color = :black, lw = lw)\n",
    "    end\n",
    "    for r in eachrow(data)\n",
    "        xpos = r.col - 0.5\n",
    "        ypos = 9 - (r.row - 0.5)\n",
    "        Plots.annotate!(xpos, ypos, text(\"$(r.val)\", :black, :center, 10))\n",
    "    end\n",
    "    if show_solved_data\n",
    "        for r in eachrow(solved_data)\n",
    "            xpos = r.col - 0.5\n",
    "            ypos = 9 - (r.row - 0.5)\n",
    "            Plots.annotate!(xpos, ypos, text(\"$(r.val)\", :blue, :center, 10))\n",
    "        end\n",
    "    end\n",
    "    return p\n",
    "end"
   ]
  },
  {
   "cell_type": "code",
   "execution_count": 43,
   "metadata": {},
   "outputs": [
    {
     "data": {
      "image/png": "[encoded data removed]",
      "image/svg+xml": [
       "<?xml version=\"1.0\" encoding=\"utf-8\"?>\n",
       "<svg xmlns=\"http://www.w3.org/2000/svg\" xmlns:xlink=\"http://www.w3.org/1999/xlink\" width=\"600\" height=\"400\" viewBox=\"0 0 2400 1600\">\n",
       "<defs>\n",
       "  <clipPath id=\"clip450\">\n",
       "    <rect x=\"0\" y=\"0\" width=\"2400\" height=\"1600\"/>\n",
       "  </clipPath>\n",
       "</defs>\n",
       "<path clip-path=\"url(#clip450)\" d=\"M0 1600 L2400 1600 L2400 0 L0 0  Z\" fill=\"#ffffff\" fill-rule=\"evenodd\" fill-opacity=\"1\"/>\n",
       "<defs>\n",
       "  <clipPath id=\"clip451\">\n",
       "    <rect x=\"480\" y=\"0\" width=\"1681\" height=\"1600\"/>\n",
       "  </clipPath>\n",
       "</defs>\n",
       "<path clip-path=\"url(#clip450)\" d=\"M512.865 1486.45 L1952.07 1486.45 L1952.07 47.2441 L512.865 47.2441  Z\" fill=\"#ffffff\" fill-rule=\"evenodd\" fill-opacity=\"1\"/>\n",
       "<defs>\n",
       "  <clipPath id=\"clip452\">\n",
       "    <rect x=\"512\" y=\"47\" width=\"1440\" height=\"1440\"/>\n",
       "  </clipPath>\n",
       "</defs>\n",
       "<polyline clip-path=\"url(#clip452)\" style=\"stroke:#000000; stroke-linecap:round; stroke-linejoin:round; stroke-width:2; stroke-opacity:0.1; fill:none\" points=\"584.825,1486.45 584.825,47.2441 \"/>\n",
       "<polyline clip-path=\"url(#clip452)\" style=\"stroke:#000000; stroke-linecap:round; stroke-linejoin:round; stroke-width:2; stroke-opacity:0.1; fill:none\" points=\"872.666,1486.45 872.666,47.2441 \"/>\n",
       "<polyline clip-path=\"url(#clip452)\" style=\"stroke:#000000; stroke-linecap:round; stroke-linejoin:round; stroke-width:2; stroke-opacity:0.1; fill:none\" points=\"1160.51,1486.45 1160.51,47.2441 \"/>\n",
       "<polyline clip-path=\"url(#clip452)\" style=\"stroke:#000000; stroke-linecap:round; stroke-linejoin:round; stroke-width:2; stroke-opacity:0.1; fill:none\" points=\"1448.35,1486.45 1448.35,47.2441 \"/>\n",
       "<polyline clip-path=\"url(#clip452)\" style=\"stroke:#000000; stroke-linecap:round; stroke-linejoin:round; stroke-width:2; stroke-opacity:0.1; fill:none\" points=\"1736.19,1486.45 1736.19,47.2441 \"/>\n",
       "<polyline clip-path=\"url(#clip452)\" style=\"stroke:#000000; stroke-linecap:round; stroke-linejoin:round; stroke-width:2; stroke-opacity:0.1; fill:none\" points=\"512.865,1414.49 1952.07,1414.49 \"/>\n",
       "<polyline clip-path=\"url(#clip452)\" style=\"stroke:#000000; stroke-linecap:round; stroke-linejoin:round; stroke-width:2; stroke-opacity:0.1; fill:none\" points=\"512.865,1126.65 1952.07,1126.65 \"/>\n",
       "<polyline clip-path=\"url(#clip452)\" style=\"stroke:#000000; stroke-linecap:round; stroke-linejoin:round; stroke-width:2; stroke-opacity:0.1; fill:none\" points=\"512.865,838.806 1952.07,838.806 \"/>\n",
       "<polyline clip-path=\"url(#clip452)\" style=\"stroke:#000000; stroke-linecap:round; stroke-linejoin:round; stroke-width:2; stroke-opacity:0.1; fill:none\" points=\"512.865,550.965 1952.07,550.965 \"/>\n",
       "<polyline clip-path=\"url(#clip452)\" style=\"stroke:#000000; stroke-linecap:round; stroke-linejoin:round; stroke-width:2; stroke-opacity:0.1; fill:none\" points=\"512.865,263.125 1952.07,263.125 \"/>\n",
       "<polyline clip-path=\"url(#clip452)\" style=\"stroke:#000000; stroke-linecap:round; stroke-linejoin:round; stroke-width:8; stroke-opacity:1; fill:none\" points=\"584.825,1414.49 584.825,119.204 \"/>\n",
       "<polyline clip-path=\"url(#clip452)\" style=\"stroke:#000000; stroke-linecap:round; stroke-linejoin:round; stroke-width:8; stroke-opacity:1; fill:none\" points=\"584.825,1414.49 1880.11,1414.49 \"/>\n",
       "<polyline clip-path=\"url(#clip452)\" style=\"stroke:#000000; stroke-linecap:round; stroke-linejoin:round; stroke-width:4; stroke-opacity:1; fill:none\" points=\"728.745,1414.49 728.745,119.204 \"/>\n",
       "<polyline clip-path=\"url(#clip452)\" style=\"stroke:#000000; stroke-linecap:round; stroke-linejoin:round; stroke-width:4; stroke-opacity:1; fill:none\" points=\"584.825,1270.57 1880.11,1270.57 \"/>\n",
       "<polyline clip-path=\"url(#clip452)\" style=\"stroke:#000000; stroke-linecap:round; stroke-linejoin:round; stroke-width:4; stroke-opacity:1; fill:none\" points=\"872.666,1414.49 872.666,119.204 \"/>\n",
       "<polyline clip-path=\"url(#clip452)\" style=\"stroke:#000000; stroke-linecap:round; stroke-linejoin:round; stroke-width:4; stroke-opacity:1; fill:none\" points=\"584.825,1126.65 1880.11,1126.65 \"/>\n",
       "<polyline clip-path=\"url(#clip452)\" style=\"stroke:#000000; stroke-linecap:round; stroke-linejoin:round; stroke-width:8; stroke-opacity:1; fill:none\" points=\"1016.59,1414.49 1016.59,119.204 \"/>\n",
       "<polyline clip-path=\"url(#clip452)\" style=\"stroke:#000000; stroke-linecap:round; stroke-linejoin:round; stroke-width:8; stroke-opacity:1; fill:none\" points=\"584.825,982.727 1880.11,982.727 \"/>\n",
       "<polyline clip-path=\"url(#clip452)\" style=\"stroke:#000000; stroke-linecap:round; stroke-linejoin:round; stroke-width:4; stroke-opacity:1; fill:none\" points=\"1160.51,1414.49 1160.51,119.204 \"/>\n",
       "<polyline clip-path=\"url(#clip452)\" style=\"stroke:#000000; stroke-linecap:round; stroke-linejoin:round; stroke-width:4; stroke-opacity:1; fill:none\" points=\"584.825,838.806 1880.11,838.806 \"/>\n",
       "<polyline clip-path=\"url(#clip452)\" style=\"stroke:#000000; stroke-linecap:round; stroke-linejoin:round; stroke-width:4; stroke-opacity:1; fill:none\" points=\"1304.43,1414.49 1304.43,119.204 \"/>\n",
       "<polyline clip-path=\"url(#clip452)\" style=\"stroke:#000000; stroke-linecap:round; stroke-linejoin:round; stroke-width:4; stroke-opacity:1; fill:none\" points=\"584.825,694.886 1880.11,694.886 \"/>\n",
       "<polyline clip-path=\"url(#clip452)\" style=\"stroke:#000000; stroke-linecap:round; stroke-linejoin:round; stroke-width:8; stroke-opacity:1; fill:none\" points=\"1448.35,1414.49 1448.35,119.204 \"/>\n",
       "<polyline clip-path=\"url(#clip452)\" style=\"stroke:#000000; stroke-linecap:round; stroke-linejoin:round; stroke-width:8; stroke-opacity:1; fill:none\" points=\"584.825,550.965 1880.11,550.965 \"/>\n",
       "<polyline clip-path=\"url(#clip452)\" style=\"stroke:#000000; stroke-linecap:round; stroke-linejoin:round; stroke-width:4; stroke-opacity:1; fill:none\" points=\"1592.27,1414.49 1592.27,119.204 \"/>\n",
       "<polyline clip-path=\"url(#clip452)\" style=\"stroke:#000000; stroke-linecap:round; stroke-linejoin:round; stroke-width:4; stroke-opacity:1; fill:none\" points=\"584.825,407.045 1880.11,407.045 \"/>\n",
       "<polyline clip-path=\"url(#clip452)\" style=\"stroke:#000000; stroke-linecap:round; stroke-linejoin:round; stroke-width:4; stroke-opacity:1; fill:none\" points=\"1736.19,1414.49 1736.19,119.204 \"/>\n",
       "<polyline clip-path=\"url(#clip452)\" style=\"stroke:#000000; stroke-linecap:round; stroke-linejoin:round; stroke-width:4; stroke-opacity:1; fill:none\" points=\"584.825,263.125 1880.11,263.125 \"/>\n",
       "<polyline clip-path=\"url(#clip452)\" style=\"stroke:#000000; stroke-linecap:round; stroke-linejoin:round; stroke-width:8; stroke-opacity:1; fill:none\" points=\"1880.11,1414.49 1880.11,119.204 \"/>\n",
       "<polyline clip-path=\"url(#clip452)\" style=\"stroke:#000000; stroke-linecap:round; stroke-linejoin:round; stroke-width:8; stroke-opacity:1; fill:none\" points=\"584.825,119.204 1880.11,119.204 \"/>\n",
       "<path clip-path=\"url(#clip450)\" d=\"M1801.46 207.846 L1821.86 207.846 L1821.86 212.764 L1794.43 212.764 L1794.43 207.846 Q1797.76 204.402 1803.49 198.615 Q1809.25 192.799 1810.72 191.121 Q1813.53 187.967 1814.63 185.797 Q1815.76 183.598 1815.76 181.486 Q1815.76 178.042 1813.33 175.872 Q1810.93 173.702 1807.05 173.702 Q1804.3 173.702 1801.23 174.657 Q1798.19 175.612 1794.72 177.551 L1794.72 171.648 Q1798.25 170.23 1801.32 169.507 Q1804.39 168.783 1806.93 168.783 Q1813.65 168.783 1817.64 172.14 Q1821.63 175.496 1821.63 181.11 Q1821.63 183.772 1820.62 186.173 Q1819.64 188.546 1817 191.787 Q1816.28 192.626 1812.4 196.648 Q1808.52 200.641 1801.46 207.846 Z\" fill=\"#000000\" fill-rule=\"nonzero\" fill-opacity=\"1\" /><path clip-path=\"url(#clip450)\" d=\"M1508.18 355.788 L1508.18 350.464 Q1510.38 351.505 1512.64 352.055 Q1514.9 352.605 1517.07 352.605 Q1522.85 352.605 1525.89 348.728 Q1528.96 344.821 1529.39 336.893 Q1527.71 339.382 1525.14 340.713 Q1522.56 342.044 1519.44 342.044 Q1512.96 342.044 1509.17 338.137 Q1505.41 334.202 1505.41 327.403 Q1505.41 320.748 1509.34 316.726 Q1513.28 312.704 1519.82 312.704 Q1527.31 312.704 1531.24 318.462 Q1535.21 324.191 1535.21 335.128 Q1535.21 345.342 1530.35 351.448 Q1525.52 357.524 1517.33 357.524 Q1515.13 357.524 1512.87 357.09 Q1510.61 356.656 1508.18 355.788 M1519.82 337.472 Q1523.75 337.472 1526.04 334.781 Q1528.35 332.09 1528.35 327.403 Q1528.35 322.744 1526.04 320.053 Q1523.75 317.333 1519.82 317.333 Q1515.88 317.333 1513.57 320.053 Q1511.28 322.744 1511.28 327.403 Q1511.28 332.09 1513.57 334.781 Q1515.88 337.472 1519.82 337.472 Z\" fill=\"#000000\" fill-rule=\"nonzero\" fill-opacity=\"1\" /><path clip-path=\"url(#clip450)\" d=\"M1667.99 318.577 L1653.23 341.639 L1667.99 341.639 L1667.99 318.577 M1666.46 313.485 L1673.81 313.485 L1673.81 341.639 L1679.97 341.639 L1679.97 346.5 L1673.81 346.5 L1673.81 356.685 L1667.99 356.685 L1667.99 346.5 L1648.49 346.5 L1648.49 340.857 L1666.46 313.485 Z\" fill=\"#000000\" fill-rule=\"nonzero\" fill-opacity=\"1\" /><path clip-path=\"url(#clip450)\" d=\"M949.935 477.313 Q954.131 478.21 956.475 481.045 Q958.847 483.881 958.847 488.047 Q958.847 494.442 954.449 497.943 Q950.051 501.444 941.949 501.444 Q939.229 501.444 936.336 500.895 Q933.471 500.374 930.404 499.303 L930.404 493.661 Q932.835 495.079 935.728 495.802 Q938.622 496.525 941.776 496.525 Q947.273 496.525 950.138 494.355 Q953.031 492.185 953.031 488.047 Q953.031 484.228 950.34 482.087 Q947.678 479.917 942.904 479.917 L937.869 479.917 L937.869 475.113 L943.136 475.113 Q947.447 475.113 949.733 473.406 Q952.019 471.67 952.019 468.429 Q952.019 465.102 949.646 463.337 Q947.302 461.543 942.904 461.543 Q940.503 461.543 937.754 462.064 Q935.005 462.585 931.706 463.684 L931.706 458.476 Q935.034 457.55 937.927 457.087 Q940.85 456.624 943.425 456.624 Q950.08 456.624 953.957 459.662 Q957.835 462.671 957.835 467.822 Q957.835 471.41 955.78 473.898 Q953.726 476.358 949.935 477.313 Z\" fill=\"#000000\" fill-rule=\"nonzero\" fill-opacity=\"1\" /><path clip-path=\"url(#clip450)\" d=\"M1796 457.405 L1818.94 457.405 L1818.94 462.324 L1801.35 462.324 L1801.35 472.914 Q1802.62 472.48 1803.89 472.278 Q1805.17 472.046 1806.44 472.046 Q1813.67 472.046 1817.9 476.01 Q1822.12 479.975 1822.12 486.745 Q1822.12 493.719 1817.78 497.596 Q1813.44 501.444 1805.54 501.444 Q1802.82 501.444 1799.99 500.981 Q1797.18 500.518 1794.17 499.593 L1794.17 493.719 Q1796.78 495.137 1799.55 495.831 Q1802.33 496.525 1805.43 496.525 Q1810.43 496.525 1813.36 493.892 Q1816.28 491.259 1816.28 486.745 Q1816.28 482.231 1813.36 479.598 Q1810.43 476.965 1805.43 476.965 Q1803.08 476.965 1800.74 477.486 Q1798.43 478.007 1796 479.107 L1796 457.405 Z\" fill=\"#000000\" fill-rule=\"nonzero\" fill-opacity=\"1\" /><path clip-path=\"url(#clip450)\" d=\"M788.582 643.629 L788.582 638.305 Q790.781 639.346 793.038 639.896 Q795.295 640.446 797.465 640.446 Q803.252 640.446 806.29 636.568 Q809.357 632.662 809.791 624.734 Q808.113 627.222 805.538 628.553 Q802.962 629.884 799.837 629.884 Q793.356 629.884 789.565 625.978 Q785.804 622.043 785.804 615.243 Q785.804 608.588 789.739 604.566 Q793.674 600.544 800.214 600.544 Q807.708 600.544 811.643 606.302 Q815.607 612.032 815.607 622.969 Q815.607 633.183 810.746 639.288 Q805.914 645.365 797.725 645.365 Q795.526 645.365 793.269 644.931 Q791.012 644.497 788.582 643.629 M800.214 625.313 Q804.149 625.313 806.435 622.622 Q808.749 619.931 808.749 615.243 Q808.749 610.585 806.435 607.894 Q804.149 605.174 800.214 605.174 Q796.278 605.174 793.964 607.894 Q791.678 610.585 791.678 615.243 Q791.678 619.931 793.964 622.622 Q796.278 625.313 800.214 625.313 Z\" fill=\"#000000\" fill-rule=\"nonzero\" fill-opacity=\"1\" /><path clip-path=\"url(#clip450)\" d=\"M937.942 639.607 L958.341 639.607 L958.341 644.526 L930.911 644.526 L930.911 639.607 Q934.238 636.163 939.967 630.376 Q945.725 624.56 947.201 622.882 Q950.008 619.728 951.107 617.558 Q952.236 615.359 952.236 613.247 Q952.236 609.804 949.805 607.633 Q947.404 605.463 943.526 605.463 Q940.777 605.463 937.71 606.418 Q934.672 607.373 931.2 609.312 L931.2 603.409 Q934.73 601.991 937.797 601.268 Q940.864 600.544 943.411 600.544 Q950.123 600.544 954.116 603.901 Q958.11 607.257 958.11 612.871 Q958.11 615.533 957.097 617.934 Q956.113 620.307 953.48 623.548 Q952.757 624.387 948.879 628.409 Q945.002 632.402 937.942 639.607 Z\" fill=\"#000000\" fill-rule=\"nonzero\" fill-opacity=\"1\" /><path clip-path=\"url(#clip450)\" d=\"M1093.86 621.233 Q1098.05 622.13 1100.4 624.966 Q1102.77 627.801 1102.77 631.968 Q1102.77 638.362 1098.37 641.864 Q1093.97 645.365 1085.87 645.365 Q1083.15 645.365 1080.26 644.815 Q1077.39 644.294 1074.32 643.224 L1074.32 637.581 Q1076.76 638.999 1079.65 639.722 Q1082.54 640.446 1085.7 640.446 Q1091.19 640.446 1094.06 638.276 Q1096.95 636.106 1096.95 631.968 Q1096.95 628.148 1094.26 626.007 Q1091.6 623.837 1086.82 623.837 L1081.79 623.837 L1081.79 619.034 L1087.06 619.034 Q1091.37 619.034 1093.65 617.327 Q1095.94 615.591 1095.94 612.35 Q1095.94 609.022 1093.57 607.257 Q1091.22 605.463 1086.82 605.463 Q1084.42 605.463 1081.67 605.984 Q1078.93 606.505 1075.63 607.605 L1075.63 602.396 Q1078.95 601.47 1081.85 601.007 Q1084.77 600.544 1087.35 600.544 Q1094 600.544 1097.88 603.583 Q1101.76 606.592 1101.76 611.742 Q1101.76 615.33 1099.7 617.819 Q1097.65 620.278 1093.86 621.233 Z\" fill=\"#000000\" fill-rule=\"nonzero\" fill-opacity=\"1\" /><path clip-path=\"url(#clip450)\" d=\"M1364.23 601.326 L1387.18 601.326 L1387.18 606.245 L1369.59 606.245 L1369.59 616.835 Q1370.86 616.401 1372.13 616.198 Q1373.41 615.967 1374.68 615.967 Q1381.91 615.967 1386.14 619.931 Q1390.36 623.895 1390.36 630.666 Q1390.36 637.639 1386.02 641.516 Q1381.68 645.365 1373.78 645.365 Q1371.06 645.365 1368.23 644.902 Q1365.42 644.439 1362.41 643.513 L1362.41 637.639 Q1365.02 639.057 1367.79 639.751 Q1370.57 640.446 1373.67 640.446 Q1378.67 640.446 1381.6 637.813 Q1384.52 635.18 1384.52 630.666 Q1384.52 626.152 1381.6 623.519 Q1378.67 620.886 1373.67 620.886 Q1371.32 620.886 1368.98 621.407 Q1366.66 621.927 1364.23 623.027 L1364.23 601.326 Z\" fill=\"#000000\" fill-rule=\"nonzero\" fill-opacity=\"1\" /><path clip-path=\"url(#clip450)\" d=\"M1650.34 601.326 L1678.12 601.326 L1678.12 603.814 L1662.43 644.526 L1656.33 644.526 L1671.09 606.245 L1650.34 606.245 L1650.34 601.326 Z\" fill=\"#000000\" fill-rule=\"nonzero\" fill-opacity=\"1\" /><path clip-path=\"url(#clip450)\" d=\"M1811.91 606.418 L1797.15 629.479 L1811.91 629.479 L1811.91 606.418 M1810.38 601.326 L1817.73 601.326 L1817.73 629.479 L1823.89 629.479 L1823.89 634.34 L1817.73 634.34 L1817.73 644.526 L1811.91 644.526 L1811.91 634.34 L1792.41 634.34 L1792.41 628.698 L1810.38 601.326 Z\" fill=\"#000000\" fill-rule=\"nonzero\" fill-opacity=\"1\" /><path clip-path=\"url(#clip450)\" d=\"M656.785 767.931 Q652.618 767.931 650.217 770.159 Q647.844 772.387 647.844 776.293 Q647.844 780.2 650.217 782.427 Q652.618 784.655 656.785 784.655 Q660.952 784.655 663.353 782.427 Q665.755 780.171 665.755 776.293 Q665.755 772.387 663.353 770.159 Q660.981 767.931 656.785 767.931 M650.94 765.443 Q647.179 764.517 645.066 761.941 Q642.983 759.366 642.983 755.663 Q642.983 750.483 646.658 747.474 Q650.361 744.465 656.785 744.465 Q663.238 744.465 666.912 747.474 Q670.587 750.483 670.587 755.663 Q670.587 759.366 668.475 761.941 Q666.391 764.517 662.659 765.443 Q666.883 766.426 669.227 769.291 Q671.6 772.156 671.6 776.293 Q671.6 782.572 667.751 785.929 Q663.932 789.285 656.785 789.285 Q649.638 789.285 645.79 785.929 Q641.97 782.572 641.97 776.293 Q641.97 772.156 644.343 769.291 Q646.716 766.426 650.94 765.443 M648.799 756.212 Q648.799 759.569 650.882 761.45 Q652.995 763.33 656.785 763.33 Q660.547 763.33 662.659 761.45 Q664.8 759.569 664.8 756.212 Q664.8 752.856 662.659 750.975 Q660.547 749.094 656.785 749.094 Q652.995 749.094 650.882 750.975 Q648.799 752.856 648.799 756.212 Z\" fill=\"#000000\" fill-rule=\"nonzero\" fill-opacity=\"1\" /><path clip-path=\"url(#clip450)\" d=\"M804.467 750.339 L789.71 773.4 L804.467 773.4 L804.467 750.339 M802.933 745.246 L810.283 745.246 L810.283 773.4 L816.446 773.4 L816.446 778.261 L810.283 778.261 L810.283 788.446 L804.467 788.446 L804.467 778.261 L784.965 778.261 L784.965 772.619 L802.933 745.246 Z\" fill=\"#000000\" fill-rule=\"nonzero\" fill-opacity=\"1\" /><path clip-path=\"url(#clip450)\" d=\"M801.212 908.437 Q797.277 908.437 794.962 911.128 Q792.676 913.819 792.676 918.506 Q792.676 923.165 794.962 925.885 Q797.277 928.576 801.212 928.576 Q805.147 928.576 807.433 925.885 Q809.748 923.165 809.748 918.506 Q809.748 913.819 807.433 911.128 Q805.147 908.437 801.212 908.437 M812.815 890.121 L812.815 895.445 Q810.616 894.404 808.359 893.854 Q806.131 893.304 803.932 893.304 Q798.145 893.304 795.078 897.21 Q792.039 901.117 791.605 909.016 Q793.313 906.498 795.888 905.167 Q798.463 903.807 801.559 903.807 Q808.069 903.807 811.831 907.772 Q815.621 911.707 815.621 918.506 Q815.621 925.162 811.686 929.184 Q807.751 933.205 801.212 933.205 Q793.718 933.205 789.753 927.476 Q785.789 921.718 785.789 910.81 Q785.789 900.567 790.65 894.49 Q795.512 888.385 803.7 888.385 Q805.899 888.385 808.127 888.819 Q810.384 889.253 812.815 890.121 Z\" fill=\"#000000\" fill-rule=\"nonzero\" fill-opacity=\"1\" /><path clip-path=\"url(#clip450)\" d=\"M930.737 889.166 L958.515 889.166 L958.515 891.655 L942.832 932.366 L936.727 932.366 L951.483 894.085 L930.737 894.085 L930.737 889.166 Z\" fill=\"#000000\" fill-rule=\"nonzero\" fill-opacity=\"1\" /><path clip-path=\"url(#clip450)\" d=\"M1220.34 931.469 L1220.34 926.145 Q1222.54 927.187 1224.8 927.737 Q1227.06 928.287 1229.23 928.287 Q1235.01 928.287 1238.05 924.409 Q1241.12 920.503 1241.55 912.575 Q1239.87 915.063 1237.3 916.394 Q1234.72 917.725 1231.6 917.725 Q1225.12 917.725 1221.33 913.819 Q1217.57 909.884 1217.57 903.084 Q1217.57 896.429 1221.5 892.407 Q1225.44 888.385 1231.97 888.385 Q1239.47 888.385 1243.4 894.143 Q1247.37 899.872 1247.37 910.81 Q1247.37 921.024 1242.51 927.129 Q1237.67 933.205 1229.49 933.205 Q1227.29 933.205 1225.03 932.771 Q1222.77 932.337 1220.34 931.469 M1231.97 913.154 Q1235.91 913.154 1238.2 910.463 Q1240.51 907.772 1240.51 903.084 Q1240.51 898.426 1238.2 895.735 Q1235.91 893.015 1231.97 893.015 Q1228.04 893.015 1225.72 895.735 Q1223.44 898.426 1223.44 903.084 Q1223.44 907.772 1225.72 910.463 Q1228.04 913.154 1231.97 913.154 Z\" fill=\"#000000\" fill-rule=\"nonzero\" fill-opacity=\"1\" /><path clip-path=\"url(#clip450)\" d=\"M1376.39 911.851 Q1372.22 911.851 1369.82 914.079 Q1367.45 916.307 1367.45 920.214 Q1367.45 924.12 1369.82 926.348 Q1372.22 928.576 1376.39 928.576 Q1380.55 928.576 1382.96 926.348 Q1385.36 924.091 1385.36 920.214 Q1385.36 916.307 1382.96 914.079 Q1380.58 911.851 1376.39 911.851 M1370.54 909.363 Q1366.78 908.437 1364.67 905.862 Q1362.58 903.287 1362.58 899.583 Q1362.58 894.404 1366.26 891.394 Q1369.96 888.385 1376.39 888.385 Q1382.84 888.385 1386.51 891.394 Q1390.19 894.404 1390.19 899.583 Q1390.19 903.287 1388.08 905.862 Q1385.99 908.437 1382.26 909.363 Q1386.49 910.347 1388.83 913.211 Q1391.2 916.076 1391.2 920.214 Q1391.2 926.493 1387.35 929.849 Q1383.53 933.205 1376.39 933.205 Q1369.24 933.205 1365.39 929.849 Q1361.57 926.493 1361.57 920.214 Q1361.57 916.076 1363.94 913.211 Q1366.32 910.347 1370.54 909.363 M1368.4 900.133 Q1368.4 903.489 1370.48 905.37 Q1372.6 907.251 1376.39 907.251 Q1380.15 907.251 1382.26 905.37 Q1384.4 903.489 1384.4 900.133 Q1384.4 896.776 1382.26 894.895 Q1380.15 893.015 1376.39 893.015 Q1372.6 893.015 1370.48 894.895 Q1368.4 896.776 1368.4 900.133 Z\" fill=\"#000000\" fill-rule=\"nonzero\" fill-opacity=\"1\" /><path clip-path=\"url(#clip450)\" d=\"M1074.66 1033.09 L1102.43 1033.09 L1102.43 1035.58 L1086.75 1076.29 L1080.65 1076.29 L1095.4 1038.01 L1074.66 1038.01 L1074.66 1033.09 Z\" fill=\"#000000\" fill-rule=\"nonzero\" fill-opacity=\"1\" /><path clip-path=\"url(#clip450)\" d=\"M1376.89 1052.36 Q1372.96 1052.36 1370.64 1055.05 Q1368.36 1057.74 1368.36 1062.43 Q1368.36 1067.09 1370.64 1069.81 Q1372.96 1072.5 1376.89 1072.5 Q1380.83 1072.5 1383.11 1069.81 Q1385.43 1067.09 1385.43 1062.43 Q1385.43 1057.74 1383.11 1055.05 Q1380.83 1052.36 1376.89 1052.36 M1388.5 1034.04 L1388.5 1039.37 Q1386.3 1038.32 1384.04 1037.77 Q1381.81 1037.22 1379.61 1037.22 Q1373.83 1037.22 1370.76 1041.13 Q1367.72 1045.04 1367.29 1052.94 Q1368.99 1050.42 1371.57 1049.09 Q1374.14 1047.73 1377.24 1047.73 Q1383.75 1047.73 1387.51 1051.69 Q1391.3 1055.63 1391.3 1062.43 Q1391.3 1069.08 1387.37 1073.1 Q1383.43 1077.13 1376.89 1077.13 Q1369.4 1077.13 1365.44 1071.4 Q1361.47 1065.64 1361.47 1054.73 Q1361.47 1044.49 1366.33 1038.41 Q1371.19 1032.31 1379.38 1032.31 Q1381.58 1032.31 1383.81 1032.74 Q1386.07 1033.17 1388.5 1034.04 Z\" fill=\"#000000\" fill-rule=\"nonzero\" fill-opacity=\"1\" /><path clip-path=\"url(#clip450)\" d=\"M1076.42 1219.31 L1076.42 1213.99 Q1078.62 1215.03 1080.88 1215.58 Q1083.14 1216.13 1085.31 1216.13 Q1091.09 1216.13 1094.13 1212.25 Q1097.2 1208.34 1097.63 1200.42 Q1095.95 1202.9 1093.38 1204.23 Q1090.8 1205.57 1087.68 1205.57 Q1081.2 1205.57 1077.41 1201.66 Q1073.64 1197.72 1073.64 1190.92 Q1073.64 1184.27 1077.58 1180.25 Q1081.51 1176.23 1088.05 1176.23 Q1095.55 1176.23 1099.48 1181.98 Q1103.45 1187.71 1103.45 1198.65 Q1103.45 1208.86 1098.59 1214.97 Q1093.75 1221.05 1085.57 1221.05 Q1083.37 1221.05 1081.11 1220.61 Q1078.85 1220.18 1076.42 1219.31 M1088.05 1200.99 Q1091.99 1200.99 1094.28 1198.3 Q1096.59 1195.61 1096.59 1190.92 Q1096.59 1186.27 1094.28 1183.58 Q1091.99 1180.86 1088.05 1180.86 Q1084.12 1180.86 1081.8 1183.58 Q1079.52 1186.27 1079.52 1190.92 Q1079.52 1195.61 1081.8 1198.3 Q1084.12 1200.99 1088.05 1200.99 Z\" fill=\"#000000\" fill-rule=\"nonzero\" fill-opacity=\"1\" /><path clip-path=\"url(#clip450)\" d=\"M1657.54 1215.29 L1677.94 1215.29 L1677.94 1220.21 L1650.51 1220.21 L1650.51 1215.29 Q1653.84 1211.84 1659.57 1206.06 Q1665.33 1200.24 1666.8 1198.56 Q1669.61 1195.41 1670.71 1193.24 Q1671.84 1191.04 1671.84 1188.93 Q1671.84 1185.49 1669.41 1183.31 Q1667.01 1181.14 1663.13 1181.14 Q1660.38 1181.14 1657.31 1182.1 Q1654.27 1183.05 1650.8 1184.99 L1650.8 1179.09 Q1654.33 1177.67 1657.4 1176.95 Q1660.47 1176.23 1663.01 1176.23 Q1669.73 1176.23 1673.72 1179.58 Q1677.71 1182.94 1677.71 1188.55 Q1677.71 1191.21 1676.7 1193.62 Q1675.71 1195.99 1673.08 1199.23 Q1672.36 1200.07 1668.48 1204.09 Q1664.6 1208.08 1657.54 1215.29 Z\" fill=\"#000000\" fill-rule=\"nonzero\" fill-opacity=\"1\" /><path clip-path=\"url(#clip450)\" d=\"M660.547 1326.02 L645.79 1349.08 L660.547 1349.08 L660.547 1326.02 M659.013 1320.93 L666.363 1320.93 L666.363 1349.08 L672.526 1349.08 L672.526 1353.94 L666.363 1353.94 L666.363 1364.13 L660.547 1364.13 L660.547 1353.94 L641.044 1353.94 L641.044 1348.3 L659.013 1320.93 Z\" fill=\"#000000\" fill-rule=\"nonzero\" fill-opacity=\"1\" /><path clip-path=\"url(#clip450)\" d=\"M944.626 1343.61 Q940.459 1343.61 938.058 1345.84 Q935.685 1348.07 935.685 1351.97 Q935.685 1355.88 938.058 1358.11 Q940.459 1360.34 944.626 1360.34 Q948.792 1360.34 951.194 1358.11 Q953.596 1355.85 953.596 1351.97 Q953.596 1348.07 951.194 1345.84 Q948.821 1343.61 944.626 1343.61 M938.781 1341.12 Q935.019 1340.2 932.907 1337.62 Q930.824 1335.05 930.824 1331.34 Q930.824 1326.16 934.499 1323.16 Q938.202 1320.15 944.626 1320.15 Q951.078 1320.15 954.753 1323.16 Q958.428 1326.16 958.428 1331.34 Q958.428 1335.05 956.316 1337.62 Q954.232 1340.2 950.5 1341.12 Q954.724 1342.11 957.068 1344.97 Q959.441 1347.84 959.441 1351.97 Q959.441 1358.25 955.592 1361.61 Q951.773 1364.97 944.626 1364.97 Q937.479 1364.97 933.63 1361.61 Q929.811 1358.25 929.811 1351.97 Q929.811 1347.84 932.184 1344.97 Q934.556 1342.11 938.781 1341.12 M936.64 1331.89 Q936.64 1335.25 938.723 1337.13 Q940.835 1339.01 944.626 1339.01 Q948.387 1339.01 950.5 1337.13 Q952.641 1335.25 952.641 1331.89 Q952.641 1328.54 950.5 1326.66 Q948.387 1324.78 944.626 1324.78 Q940.835 1324.78 938.723 1326.66 Q936.64 1328.54 936.64 1331.89 Z\" fill=\"#000000\" fill-rule=\"nonzero\" fill-opacity=\"1\" /><path clip-path=\"url(#clip450)\" d=\"M1076.39 1320.93 L1099.34 1320.93 L1099.34 1325.85 L1081.75 1325.85 L1081.75 1336.44 Q1083.02 1336 1084.29 1335.8 Q1085.57 1335.57 1086.84 1335.57 Q1094.07 1335.57 1098.3 1339.53 Q1102.52 1343.5 1102.52 1350.27 Q1102.52 1357.24 1098.18 1361.12 Q1093.84 1364.97 1085.94 1364.97 Q1083.22 1364.97 1080.39 1364.5 Q1077.58 1364.04 1074.57 1363.11 L1074.57 1357.24 Q1077.17 1358.66 1079.95 1359.35 Q1082.73 1360.05 1085.83 1360.05 Q1090.83 1360.05 1093.75 1357.41 Q1096.68 1354.78 1096.68 1350.27 Q1096.68 1345.75 1093.75 1343.12 Q1090.83 1340.49 1085.83 1340.49 Q1083.48 1340.49 1081.14 1341.01 Q1078.82 1341.53 1076.39 1342.63 L1076.39 1320.93 Z\" fill=\"#000000\" fill-rule=\"nonzero\" fill-opacity=\"1\" /><path clip-path=\"url(#clip450)\" d=\"M1525.62 1340.83 Q1529.81 1341.73 1532.16 1344.57 Q1534.53 1347.4 1534.53 1351.57 Q1534.53 1357.96 1530.13 1361.47 Q1525.73 1364.97 1517.63 1364.97 Q1514.91 1364.97 1512.02 1364.42 Q1509.15 1363.9 1506.09 1362.83 L1506.09 1357.18 Q1508.52 1358.6 1511.41 1359.32 Q1514.3 1360.05 1517.46 1360.05 Q1522.95 1360.05 1525.82 1357.88 Q1528.71 1355.71 1528.71 1351.57 Q1528.71 1347.75 1526.02 1345.61 Q1523.36 1343.44 1518.59 1343.44 L1513.55 1343.44 L1513.55 1338.64 L1518.82 1338.64 Q1523.13 1338.64 1525.41 1336.93 Q1527.7 1335.19 1527.7 1331.95 Q1527.7 1328.62 1525.33 1326.86 Q1522.98 1325.07 1518.59 1325.07 Q1516.18 1325.07 1513.44 1325.59 Q1510.69 1326.11 1507.39 1327.21 L1507.39 1322 Q1510.72 1321.07 1513.61 1320.61 Q1516.53 1320.15 1519.11 1320.15 Q1525.76 1320.15 1529.64 1323.18 Q1533.52 1326.19 1533.52 1331.34 Q1533.52 1334.93 1531.46 1337.42 Q1529.41 1339.88 1525.62 1340.83 Z\" fill=\"#000000\" fill-rule=\"nonzero\" fill-opacity=\"1\" /><path clip-path=\"url(#clip450)\" d=\"M1664.73 1340.2 Q1660.8 1340.2 1658.48 1342.89 Q1656.2 1345.58 1656.2 1350.27 Q1656.2 1354.93 1658.48 1357.65 Q1660.8 1360.34 1664.73 1360.34 Q1668.67 1360.34 1670.96 1357.65 Q1673.27 1354.93 1673.27 1350.27 Q1673.27 1345.58 1670.96 1342.89 Q1668.67 1340.2 1664.73 1340.2 M1676.34 1321.88 L1676.34 1327.21 Q1674.14 1326.16 1671.88 1325.61 Q1669.65 1325.07 1667.45 1325.07 Q1661.67 1325.07 1658.6 1328.97 Q1655.56 1332.88 1655.13 1340.78 Q1656.83 1338.26 1659.41 1336.93 Q1661.99 1335.57 1665.08 1335.57 Q1671.59 1335.57 1675.35 1339.53 Q1679.14 1343.47 1679.14 1350.27 Q1679.14 1356.92 1675.21 1360.94 Q1671.27 1364.97 1664.73 1364.97 Q1657.24 1364.97 1653.28 1359.24 Q1649.31 1353.48 1649.31 1342.57 Q1649.31 1332.33 1654.17 1326.25 Q1659.03 1320.15 1667.22 1320.15 Q1669.42 1320.15 1671.65 1320.58 Q1673.91 1321.01 1676.34 1321.88 Z\" fill=\"#000000\" fill-rule=\"nonzero\" fill-opacity=\"1\" /></svg>\n"
      ],
      "text/html": [
       "<?xml version=\"1.0\" encoding=\"utf-8\"?>\n",
       "<svg xmlns=\"http://www.w3.org/2000/svg\" xmlns:xlink=\"http://www.w3.org/1999/xlink\" width=\"600\" height=\"400\" viewBox=\"0 0 2400 1600\">\n",
       "<defs>\n",
       "  <clipPath id=\"clip500\">\n",
       "    <rect x=\"0\" y=\"0\" width=\"2400\" height=\"1600\"/>\n",
       "  </clipPath>\n",
       "</defs>\n",
       "<path clip-path=\"url(#clip500)\" d=\"M0 1600 L2400 1600 L2400 0 L0 0  Z\" fill=\"#ffffff\" fill-rule=\"evenodd\" fill-opacity=\"1\"/>\n",
       "<defs>\n",
       "  <clipPath id=\"clip501\">\n",
       "    <rect x=\"480\" y=\"0\" width=\"1681\" height=\"1600\"/>\n",
       "  </clipPath>\n",
       "</defs>\n",
       "<path clip-path=\"url(#clip500)\" d=\"M512.865 1486.45 L1952.07 1486.45 L1952.07 47.2441 L512.865 47.2441  Z\" fill=\"#ffffff\" fill-rule=\"evenodd\" fill-opacity=\"1\"/>\n",
       "<defs>\n",
       "  <clipPath id=\"clip502\">\n",
       "    <rect x=\"512\" y=\"47\" width=\"1440\" height=\"1440\"/>\n",
       "  </clipPath>\n",
       "</defs>\n",
       "<polyline clip-path=\"url(#clip502)\" style=\"stroke:#000000; stroke-linecap:round; stroke-linejoin:round; stroke-width:2; stroke-opacity:0.1; fill:none\" points=\"584.825,1486.45 584.825,47.2441 \"/>\n",
       "<polyline clip-path=\"url(#clip502)\" style=\"stroke:#000000; stroke-linecap:round; stroke-linejoin:round; stroke-width:2; stroke-opacity:0.1; fill:none\" points=\"872.666,1486.45 872.666,47.2441 \"/>\n",
       "<polyline clip-path=\"url(#clip502)\" style=\"stroke:#000000; stroke-linecap:round; stroke-linejoin:round; stroke-width:2; stroke-opacity:0.1; fill:none\" points=\"1160.51,1486.45 1160.51,47.2441 \"/>\n",
       "<polyline clip-path=\"url(#clip502)\" style=\"stroke:#000000; stroke-linecap:round; stroke-linejoin:round; stroke-width:2; stroke-opacity:0.1; fill:none\" points=\"1448.35,1486.45 1448.35,47.2441 \"/>\n",
       "<polyline clip-path=\"url(#clip502)\" style=\"stroke:#000000; stroke-linecap:round; stroke-linejoin:round; stroke-width:2; stroke-opacity:0.1; fill:none\" points=\"1736.19,1486.45 1736.19,47.2441 \"/>\n",
       "<polyline clip-path=\"url(#clip502)\" style=\"stroke:#000000; stroke-linecap:round; stroke-linejoin:round; stroke-width:2; stroke-opacity:0.1; fill:none\" points=\"512.865,1414.49 1952.07,1414.49 \"/>\n",
       "<polyline clip-path=\"url(#clip502)\" style=\"stroke:#000000; stroke-linecap:round; stroke-linejoin:round; stroke-width:2; stroke-opacity:0.1; fill:none\" points=\"512.865,1126.65 1952.07,1126.65 \"/>\n",
       "<polyline clip-path=\"url(#clip502)\" style=\"stroke:#000000; stroke-linecap:round; stroke-linejoin:round; stroke-width:2; stroke-opacity:0.1; fill:none\" points=\"512.865,838.806 1952.07,838.806 \"/>\n",
       "<polyline clip-path=\"url(#clip502)\" style=\"stroke:#000000; stroke-linecap:round; stroke-linejoin:round; stroke-width:2; stroke-opacity:0.1; fill:none\" points=\"512.865,550.965 1952.07,550.965 \"/>\n",
       "<polyline clip-path=\"url(#clip502)\" style=\"stroke:#000000; stroke-linecap:round; stroke-linejoin:round; stroke-width:2; stroke-opacity:0.1; fill:none\" points=\"512.865,263.125 1952.07,263.125 \"/>\n",
       "<polyline clip-path=\"url(#clip502)\" style=\"stroke:#000000; stroke-linecap:round; stroke-linejoin:round; stroke-width:8; stroke-opacity:1; fill:none\" points=\"584.825,1414.49 584.825,119.204 \"/>\n",
       "<polyline clip-path=\"url(#clip502)\" style=\"stroke:#000000; stroke-linecap:round; stroke-linejoin:round; stroke-width:8; stroke-opacity:1; fill:none\" points=\"584.825,1414.49 1880.11,1414.49 \"/>\n",
       "<polyline clip-path=\"url(#clip502)\" style=\"stroke:#000000; stroke-linecap:round; stroke-linejoin:round; stroke-width:4; stroke-opacity:1; fill:none\" points=\"728.745,1414.49 728.745,119.204 \"/>\n",
       "<polyline clip-path=\"url(#clip502)\" style=\"stroke:#000000; stroke-linecap:round; stroke-linejoin:round; stroke-width:4; stroke-opacity:1; fill:none\" points=\"584.825,1270.57 1880.11,1270.57 \"/>\n",
       "<polyline clip-path=\"url(#clip502)\" style=\"stroke:#000000; stroke-linecap:round; stroke-linejoin:round; stroke-width:4; stroke-opacity:1; fill:none\" points=\"872.666,1414.49 872.666,119.204 \"/>\n",
       "<polyline clip-path=\"url(#clip502)\" style=\"stroke:#000000; stroke-linecap:round; stroke-linejoin:round; stroke-width:4; stroke-opacity:1; fill:none\" points=\"584.825,1126.65 1880.11,1126.65 \"/>\n",
       "<polyline clip-path=\"url(#clip502)\" style=\"stroke:#000000; stroke-linecap:round; stroke-linejoin:round; stroke-width:8; stroke-opacity:1; fill:none\" points=\"1016.59,1414.49 1016.59,119.204 \"/>\n",
       "<polyline clip-path=\"url(#clip502)\" style=\"stroke:#000000; stroke-linecap:round; stroke-linejoin:round; stroke-width:8; stroke-opacity:1; fill:none\" points=\"584.825,982.727 1880.11,982.727 \"/>\n",
       "<polyline clip-path=\"url(#clip502)\" style=\"stroke:#000000; stroke-linecap:round; stroke-linejoin:round; stroke-width:4; stroke-opacity:1; fill:none\" points=\"1160.51,1414.49 1160.51,119.204 \"/>\n",
       "<polyline clip-path=\"url(#clip502)\" style=\"stroke:#000000; stroke-linecap:round; stroke-linejoin:round; stroke-width:4; stroke-opacity:1; fill:none\" points=\"584.825,838.806 1880.11,838.806 \"/>\n",
       "<polyline clip-path=\"url(#clip502)\" style=\"stroke:#000000; stroke-linecap:round; stroke-linejoin:round; stroke-width:4; stroke-opacity:1; fill:none\" points=\"1304.43,1414.49 1304.43,119.204 \"/>\n",
       "<polyline clip-path=\"url(#clip502)\" style=\"stroke:#000000; stroke-linecap:round; stroke-linejoin:round; stroke-width:4; stroke-opacity:1; fill:none\" points=\"584.825,694.886 1880.11,694.886 \"/>\n",
       "<polyline clip-path=\"url(#clip502)\" style=\"stroke:#000000; stroke-linecap:round; stroke-linejoin:round; stroke-width:8; stroke-opacity:1; fill:none\" points=\"1448.35,1414.49 1448.35,119.204 \"/>\n",
       "<polyline clip-path=\"url(#clip502)\" style=\"stroke:#000000; stroke-linecap:round; stroke-linejoin:round; stroke-width:8; stroke-opacity:1; fill:none\" points=\"584.825,550.965 1880.11,550.965 \"/>\n",
       "<polyline clip-path=\"url(#clip502)\" style=\"stroke:#000000; stroke-linecap:round; stroke-linejoin:round; stroke-width:4; stroke-opacity:1; fill:none\" points=\"1592.27,1414.49 1592.27,119.204 \"/>\n",
       "<polyline clip-path=\"url(#clip502)\" style=\"stroke:#000000; stroke-linecap:round; stroke-linejoin:round; stroke-width:4; stroke-opacity:1; fill:none\" points=\"584.825,407.045 1880.11,407.045 \"/>\n",
       "<polyline clip-path=\"url(#clip502)\" style=\"stroke:#000000; stroke-linecap:round; stroke-linejoin:round; stroke-width:4; stroke-opacity:1; fill:none\" points=\"1736.19,1414.49 1736.19,119.204 \"/>\n",
       "<polyline clip-path=\"url(#clip502)\" style=\"stroke:#000000; stroke-linecap:round; stroke-linejoin:round; stroke-width:4; stroke-opacity:1; fill:none\" points=\"584.825,263.125 1880.11,263.125 \"/>\n",
       "<polyline clip-path=\"url(#clip502)\" style=\"stroke:#000000; stroke-linecap:round; stroke-linejoin:round; stroke-width:8; stroke-opacity:1; fill:none\" points=\"1880.11,1414.49 1880.11,119.204 \"/>\n",
       "<polyline clip-path=\"url(#clip502)\" style=\"stroke:#000000; stroke-linecap:round; stroke-linejoin:round; stroke-width:8; stroke-opacity:1; fill:none\" points=\"584.825,119.204 1880.11,119.204 \"/>\n",
       "<path clip-path=\"url(#clip500)\" d=\"M1801.46 207.846 L1821.86 207.846 L1821.86 212.764 L1794.43 212.764 L1794.43 207.846 Q1797.76 204.402 1803.49 198.615 Q1809.25 192.799 1810.72 191.121 Q1813.53 187.967 1814.63 185.797 Q1815.76 183.598 1815.76 181.486 Q1815.76 178.042 1813.33 175.872 Q1810.93 173.702 1807.05 173.702 Q1804.3 173.702 1801.23 174.657 Q1798.19 175.612 1794.72 177.551 L1794.72 171.648 Q1798.25 170.23 1801.32 169.507 Q1804.39 168.783 1806.93 168.783 Q1813.65 168.783 1817.64 172.14 Q1821.63 175.496 1821.63 181.11 Q1821.63 183.772 1820.62 186.173 Q1819.64 188.546 1817 191.787 Q1816.28 192.626 1812.4 196.648 Q1808.52 200.641 1801.46 207.846 Z\" fill=\"#000000\" fill-rule=\"nonzero\" fill-opacity=\"1\" /><path clip-path=\"url(#clip500)\" d=\"M1508.18 355.788 L1508.18 350.464 Q1510.38 351.505 1512.64 352.055 Q1514.9 352.605 1517.07 352.605 Q1522.85 352.605 1525.89 348.728 Q1528.96 344.821 1529.39 336.893 Q1527.71 339.382 1525.14 340.713 Q1522.56 342.044 1519.44 342.044 Q1512.96 342.044 1509.17 338.137 Q1505.41 334.202 1505.41 327.403 Q1505.41 320.748 1509.34 316.726 Q1513.28 312.704 1519.82 312.704 Q1527.31 312.704 1531.24 318.462 Q1535.21 324.191 1535.21 335.128 Q1535.21 345.342 1530.35 351.448 Q1525.52 357.524 1517.33 357.524 Q1515.13 357.524 1512.87 357.09 Q1510.61 356.656 1508.18 355.788 M1519.82 337.472 Q1523.75 337.472 1526.04 334.781 Q1528.35 332.09 1528.35 327.403 Q1528.35 322.744 1526.04 320.053 Q1523.75 317.333 1519.82 317.333 Q1515.88 317.333 1513.57 320.053 Q1511.28 322.744 1511.28 327.403 Q1511.28 332.09 1513.57 334.781 Q1515.88 337.472 1519.82 337.472 Z\" fill=\"#000000\" fill-rule=\"nonzero\" fill-opacity=\"1\" /><path clip-path=\"url(#clip500)\" d=\"M1667.99 318.577 L1653.23 341.639 L1667.99 341.639 L1667.99 318.577 M1666.46 313.485 L1673.81 313.485 L1673.81 341.639 L1679.97 341.639 L1679.97 346.5 L1673.81 346.5 L1673.81 356.685 L1667.99 356.685 L1667.99 346.5 L1648.49 346.5 L1648.49 340.857 L1666.46 313.485 Z\" fill=\"#000000\" fill-rule=\"nonzero\" fill-opacity=\"1\" /><path clip-path=\"url(#clip500)\" d=\"M949.935 477.313 Q954.131 478.21 956.475 481.045 Q958.847 483.881 958.847 488.047 Q958.847 494.442 954.449 497.943 Q950.051 501.444 941.949 501.444 Q939.229 501.444 936.336 500.895 Q933.471 500.374 930.404 499.303 L930.404 493.661 Q932.835 495.079 935.728 495.802 Q938.622 496.525 941.776 496.525 Q947.273 496.525 950.138 494.355 Q953.031 492.185 953.031 488.047 Q953.031 484.228 950.34 482.087 Q947.678 479.917 942.904 479.917 L937.869 479.917 L937.869 475.113 L943.136 475.113 Q947.447 475.113 949.733 473.406 Q952.019 471.67 952.019 468.429 Q952.019 465.102 949.646 463.337 Q947.302 461.543 942.904 461.543 Q940.503 461.543 937.754 462.064 Q935.005 462.585 931.706 463.684 L931.706 458.476 Q935.034 457.55 937.927 457.087 Q940.85 456.624 943.425 456.624 Q950.08 456.624 953.957 459.662 Q957.835 462.671 957.835 467.822 Q957.835 471.41 955.78 473.898 Q953.726 476.358 949.935 477.313 Z\" fill=\"#000000\" fill-rule=\"nonzero\" fill-opacity=\"1\" /><path clip-path=\"url(#clip500)\" d=\"M1796 457.405 L1818.94 457.405 L1818.94 462.324 L1801.35 462.324 L1801.35 472.914 Q1802.62 472.48 1803.89 472.278 Q1805.17 472.046 1806.44 472.046 Q1813.67 472.046 1817.9 476.01 Q1822.12 479.975 1822.12 486.745 Q1822.12 493.719 1817.78 497.596 Q1813.44 501.444 1805.54 501.444 Q1802.82 501.444 1799.99 500.981 Q1797.18 500.518 1794.17 499.593 L1794.17 493.719 Q1796.78 495.137 1799.55 495.831 Q1802.33 496.525 1805.43 496.525 Q1810.43 496.525 1813.36 493.892 Q1816.28 491.259 1816.28 486.745 Q1816.28 482.231 1813.36 479.598 Q1810.43 476.965 1805.43 476.965 Q1803.08 476.965 1800.74 477.486 Q1798.43 478.007 1796 479.107 L1796 457.405 Z\" fill=\"#000000\" fill-rule=\"nonzero\" fill-opacity=\"1\" /><path clip-path=\"url(#clip500)\" d=\"M788.582 643.629 L788.582 638.305 Q790.781 639.346 793.038 639.896 Q795.295 640.446 797.465 640.446 Q803.252 640.446 806.29 636.568 Q809.357 632.662 809.791 624.734 Q808.113 627.222 805.538 628.553 Q802.962 629.884 799.837 629.884 Q793.356 629.884 789.565 625.978 Q785.804 622.043 785.804 615.243 Q785.804 608.588 789.739 604.566 Q793.674 600.544 800.214 600.544 Q807.708 600.544 811.643 606.302 Q815.607 612.032 815.607 622.969 Q815.607 633.183 810.746 639.288 Q805.914 645.365 797.725 645.365 Q795.526 645.365 793.269 644.931 Q791.012 644.497 788.582 643.629 M800.214 625.313 Q804.149 625.313 806.435 622.622 Q808.749 619.931 808.749 615.243 Q808.749 610.585 806.435 607.894 Q804.149 605.174 800.214 605.174 Q796.278 605.174 793.964 607.894 Q791.678 610.585 791.678 615.243 Q791.678 619.931 793.964 622.622 Q796.278 625.313 800.214 625.313 Z\" fill=\"#000000\" fill-rule=\"nonzero\" fill-opacity=\"1\" /><path clip-path=\"url(#clip500)\" d=\"M937.942 639.607 L958.341 639.607 L958.341 644.526 L930.911 644.526 L930.911 639.607 Q934.238 636.163 939.967 630.376 Q945.725 624.56 947.201 622.882 Q950.008 619.728 951.107 617.558 Q952.236 615.359 952.236 613.247 Q952.236 609.804 949.805 607.633 Q947.404 605.463 943.526 605.463 Q940.777 605.463 937.71 606.418 Q934.672 607.373 931.2 609.312 L931.2 603.409 Q934.73 601.991 937.797 601.268 Q940.864 600.544 943.411 600.544 Q950.123 600.544 954.116 603.901 Q958.11 607.257 958.11 612.871 Q958.11 615.533 957.097 617.934 Q956.113 620.307 953.48 623.548 Q952.757 624.387 948.879 628.409 Q945.002 632.402 937.942 639.607 Z\" fill=\"#000000\" fill-rule=\"nonzero\" fill-opacity=\"1\" /><path clip-path=\"url(#clip500)\" d=\"M1093.86 621.233 Q1098.05 622.13 1100.4 624.966 Q1102.77 627.801 1102.77 631.968 Q1102.77 638.362 1098.37 641.864 Q1093.97 645.365 1085.87 645.365 Q1083.15 645.365 1080.26 644.815 Q1077.39 644.294 1074.32 643.224 L1074.32 637.581 Q1076.76 638.999 1079.65 639.722 Q1082.54 640.446 1085.7 640.446 Q1091.19 640.446 1094.06 638.276 Q1096.95 636.106 1096.95 631.968 Q1096.95 628.148 1094.26 626.007 Q1091.6 623.837 1086.82 623.837 L1081.79 623.837 L1081.79 619.034 L1087.06 619.034 Q1091.37 619.034 1093.65 617.327 Q1095.94 615.591 1095.94 612.35 Q1095.94 609.022 1093.57 607.257 Q1091.22 605.463 1086.82 605.463 Q1084.42 605.463 1081.67 605.984 Q1078.93 606.505 1075.63 607.605 L1075.63 602.396 Q1078.95 601.47 1081.85 601.007 Q1084.77 600.544 1087.35 600.544 Q1094 600.544 1097.88 603.583 Q1101.76 606.592 1101.76 611.742 Q1101.76 615.33 1099.7 617.819 Q1097.65 620.278 1093.86 621.233 Z\" fill=\"#000000\" fill-rule=\"nonzero\" fill-opacity=\"1\" /><path clip-path=\"url(#clip500)\" d=\"M1364.23 601.326 L1387.18 601.326 L1387.18 606.245 L1369.59 606.245 L1369.59 616.835 Q1370.86 616.401 1372.13 616.198 Q1373.41 615.967 1374.68 615.967 Q1381.91 615.967 1386.14 619.931 Q1390.36 623.895 1390.36 630.666 Q1390.36 637.639 1386.02 641.516 Q1381.68 645.365 1373.78 645.365 Q1371.06 645.365 1368.23 644.902 Q1365.42 644.439 1362.41 643.513 L1362.41 637.639 Q1365.02 639.057 1367.79 639.751 Q1370.57 640.446 1373.67 640.446 Q1378.67 640.446 1381.6 637.813 Q1384.52 635.18 1384.52 630.666 Q1384.52 626.152 1381.6 623.519 Q1378.67 620.886 1373.67 620.886 Q1371.32 620.886 1368.98 621.407 Q1366.66 621.927 1364.23 623.027 L1364.23 601.326 Z\" fill=\"#000000\" fill-rule=\"nonzero\" fill-opacity=\"1\" /><path clip-path=\"url(#clip500)\" d=\"M1650.34 601.326 L1678.12 601.326 L1678.12 603.814 L1662.43 644.526 L1656.33 644.526 L1671.09 606.245 L1650.34 606.245 L1650.34 601.326 Z\" fill=\"#000000\" fill-rule=\"nonzero\" fill-opacity=\"1\" /><path clip-path=\"url(#clip500)\" d=\"M1811.91 606.418 L1797.15 629.479 L1811.91 629.479 L1811.91 606.418 M1810.38 601.326 L1817.73 601.326 L1817.73 629.479 L1823.89 629.479 L1823.89 634.34 L1817.73 634.34 L1817.73 644.526 L1811.91 644.526 L1811.91 634.34 L1792.41 634.34 L1792.41 628.698 L1810.38 601.326 Z\" fill=\"#000000\" fill-rule=\"nonzero\" fill-opacity=\"1\" /><path clip-path=\"url(#clip500)\" d=\"M656.785 767.931 Q652.618 767.931 650.217 770.159 Q647.844 772.387 647.844 776.293 Q647.844 780.2 650.217 782.427 Q652.618 784.655 656.785 784.655 Q660.952 784.655 663.353 782.427 Q665.755 780.171 665.755 776.293 Q665.755 772.387 663.353 770.159 Q660.981 767.931 656.785 767.931 M650.94 765.443 Q647.179 764.517 645.066 761.941 Q642.983 759.366 642.983 755.663 Q642.983 750.483 646.658 747.474 Q650.361 744.465 656.785 744.465 Q663.238 744.465 666.912 747.474 Q670.587 750.483 670.587 755.663 Q670.587 759.366 668.475 761.941 Q666.391 764.517 662.659 765.443 Q666.883 766.426 669.227 769.291 Q671.6 772.156 671.6 776.293 Q671.6 782.572 667.751 785.929 Q663.932 789.285 656.785 789.285 Q649.638 789.285 645.79 785.929 Q641.97 782.572 641.97 776.293 Q641.97 772.156 644.343 769.291 Q646.716 766.426 650.94 765.443 M648.799 756.212 Q648.799 759.569 650.882 761.45 Q652.995 763.33 656.785 763.33 Q660.547 763.33 662.659 761.45 Q664.8 759.569 664.8 756.212 Q664.8 752.856 662.659 750.975 Q660.547 749.094 656.785 749.094 Q652.995 749.094 650.882 750.975 Q648.799 752.856 648.799 756.212 Z\" fill=\"#000000\" fill-rule=\"nonzero\" fill-opacity=\"1\" /><path clip-path=\"url(#clip500)\" d=\"M804.467 750.339 L789.71 773.4 L804.467 773.4 L804.467 750.339 M802.933 745.246 L810.283 745.246 L810.283 773.4 L816.446 773.4 L816.446 778.261 L810.283 778.261 L810.283 788.446 L804.467 788.446 L804.467 778.261 L784.965 778.261 L784.965 772.619 L802.933 745.246 Z\" fill=\"#000000\" fill-rule=\"nonzero\" fill-opacity=\"1\" /><path clip-path=\"url(#clip500)\" d=\"M801.212 908.437 Q797.277 908.437 794.962 911.128 Q792.676 913.819 792.676 918.506 Q792.676 923.165 794.962 925.885 Q797.277 928.576 801.212 928.576 Q805.147 928.576 807.433 925.885 Q809.748 923.165 809.748 918.506 Q809.748 913.819 807.433 911.128 Q805.147 908.437 801.212 908.437 M812.815 890.121 L812.815 895.445 Q810.616 894.404 808.359 893.854 Q806.131 893.304 803.932 893.304 Q798.145 893.304 795.078 897.21 Q792.039 901.117 791.605 909.016 Q793.313 906.498 795.888 905.167 Q798.463 903.807 801.559 903.807 Q808.069 903.807 811.831 907.772 Q815.621 911.707 815.621 918.506 Q815.621 925.162 811.686 929.184 Q807.751 933.205 801.212 933.205 Q793.718 933.205 789.753 927.476 Q785.789 921.718 785.789 910.81 Q785.789 900.567 790.65 894.49 Q795.512 888.385 803.7 888.385 Q805.899 888.385 808.127 888.819 Q810.384 889.253 812.815 890.121 Z\" fill=\"#000000\" fill-rule=\"nonzero\" fill-opacity=\"1\" /><path clip-path=\"url(#clip500)\" d=\"M930.737 889.166 L958.515 889.166 L958.515 891.655 L942.832 932.366 L936.727 932.366 L951.483 894.085 L930.737 894.085 L930.737 889.166 Z\" fill=\"#000000\" fill-rule=\"nonzero\" fill-opacity=\"1\" /><path clip-path=\"url(#clip500)\" d=\"M1220.34 931.469 L1220.34 926.145 Q1222.54 927.187 1224.8 927.737 Q1227.06 928.287 1229.23 928.287 Q1235.01 928.287 1238.05 924.409 Q1241.12 920.503 1241.55 912.575 Q1239.87 915.063 1237.3 916.394 Q1234.72 917.725 1231.6 917.725 Q1225.12 917.725 1221.33 913.819 Q1217.57 909.884 1217.57 903.084 Q1217.57 896.429 1221.5 892.407 Q1225.44 888.385 1231.97 888.385 Q1239.47 888.385 1243.4 894.143 Q1247.37 899.872 1247.37 910.81 Q1247.37 921.024 1242.51 927.129 Q1237.67 933.205 1229.49 933.205 Q1227.29 933.205 1225.03 932.771 Q1222.77 932.337 1220.34 931.469 M1231.97 913.154 Q1235.91 913.154 1238.2 910.463 Q1240.51 907.772 1240.51 903.084 Q1240.51 898.426 1238.2 895.735 Q1235.91 893.015 1231.97 893.015 Q1228.04 893.015 1225.72 895.735 Q1223.44 898.426 1223.44 903.084 Q1223.44 907.772 1225.72 910.463 Q1228.04 913.154 1231.97 913.154 Z\" fill=\"#000000\" fill-rule=\"nonzero\" fill-opacity=\"1\" /><path clip-path=\"url(#clip500)\" d=\"M1376.39 911.851 Q1372.22 911.851 1369.82 914.079 Q1367.45 916.307 1367.45 920.214 Q1367.45 924.12 1369.82 926.348 Q1372.22 928.576 1376.39 928.576 Q1380.55 928.576 1382.96 926.348 Q1385.36 924.091 1385.36 920.214 Q1385.36 916.307 1382.96 914.079 Q1380.58 911.851 1376.39 911.851 M1370.54 909.363 Q1366.78 908.437 1364.67 905.862 Q1362.58 903.287 1362.58 899.583 Q1362.58 894.404 1366.26 891.394 Q1369.96 888.385 1376.39 888.385 Q1382.84 888.385 1386.51 891.394 Q1390.19 894.404 1390.19 899.583 Q1390.19 903.287 1388.08 905.862 Q1385.99 908.437 1382.26 909.363 Q1386.49 910.347 1388.83 913.211 Q1391.2 916.076 1391.2 920.214 Q1391.2 926.493 1387.35 929.849 Q1383.53 933.205 1376.39 933.205 Q1369.24 933.205 1365.39 929.849 Q1361.57 926.493 1361.57 920.214 Q1361.57 916.076 1363.94 913.211 Q1366.32 910.347 1370.54 909.363 M1368.4 900.133 Q1368.4 903.489 1370.48 905.37 Q1372.6 907.251 1376.39 907.251 Q1380.15 907.251 1382.26 905.37 Q1384.4 903.489 1384.4 900.133 Q1384.4 896.776 1382.26 894.895 Q1380.15 893.015 1376.39 893.015 Q1372.6 893.015 1370.48 894.895 Q1368.4 896.776 1368.4 900.133 Z\" fill=\"#000000\" fill-rule=\"nonzero\" fill-opacity=\"1\" /><path clip-path=\"url(#clip500)\" d=\"M1074.66 1033.09 L1102.43 1033.09 L1102.43 1035.58 L1086.75 1076.29 L1080.65 1076.29 L1095.4 1038.01 L1074.66 1038.01 L1074.66 1033.09 Z\" fill=\"#000000\" fill-rule=\"nonzero\" fill-opacity=\"1\" /><path clip-path=\"url(#clip500)\" d=\"M1376.89 1052.36 Q1372.96 1052.36 1370.64 1055.05 Q1368.36 1057.74 1368.36 1062.43 Q1368.36 1067.09 1370.64 1069.81 Q1372.96 1072.5 1376.89 1072.5 Q1380.83 1072.5 1383.11 1069.81 Q1385.43 1067.09 1385.43 1062.43 Q1385.43 1057.74 1383.11 1055.05 Q1380.83 1052.36 1376.89 1052.36 M1388.5 1034.04 L1388.5 1039.37 Q1386.3 1038.32 1384.04 1037.77 Q1381.81 1037.22 1379.61 1037.22 Q1373.83 1037.22 1370.76 1041.13 Q1367.72 1045.04 1367.29 1052.94 Q1368.99 1050.42 1371.57 1049.09 Q1374.14 1047.73 1377.24 1047.73 Q1383.75 1047.73 1387.51 1051.69 Q1391.3 1055.63 1391.3 1062.43 Q1391.3 1069.08 1387.37 1073.1 Q1383.43 1077.13 1376.89 1077.13 Q1369.4 1077.13 1365.44 1071.4 Q1361.47 1065.64 1361.47 1054.73 Q1361.47 1044.49 1366.33 1038.41 Q1371.19 1032.31 1379.38 1032.31 Q1381.58 1032.31 1383.81 1032.74 Q1386.07 1033.17 1388.5 1034.04 Z\" fill=\"#000000\" fill-rule=\"nonzero\" fill-opacity=\"1\" /><path clip-path=\"url(#clip500)\" d=\"M1076.42 1219.31 L1076.42 1213.99 Q1078.62 1215.03 1080.88 1215.58 Q1083.14 1216.13 1085.31 1216.13 Q1091.09 1216.13 1094.13 1212.25 Q1097.2 1208.34 1097.63 1200.42 Q1095.95 1202.9 1093.38 1204.23 Q1090.8 1205.57 1087.68 1205.57 Q1081.2 1205.57 1077.41 1201.66 Q1073.64 1197.72 1073.64 1190.92 Q1073.64 1184.27 1077.58 1180.25 Q1081.51 1176.23 1088.05 1176.23 Q1095.55 1176.23 1099.48 1181.98 Q1103.45 1187.71 1103.45 1198.65 Q1103.45 1208.86 1098.59 1214.97 Q1093.75 1221.05 1085.57 1221.05 Q1083.37 1221.05 1081.11 1220.61 Q1078.85 1220.18 1076.42 1219.31 M1088.05 1200.99 Q1091.99 1200.99 1094.28 1198.3 Q1096.59 1195.61 1096.59 1190.92 Q1096.59 1186.27 1094.28 1183.58 Q1091.99 1180.86 1088.05 1180.86 Q1084.12 1180.86 1081.8 1183.58 Q1079.52 1186.27 1079.52 1190.92 Q1079.52 1195.61 1081.8 1198.3 Q1084.12 1200.99 1088.05 1200.99 Z\" fill=\"#000000\" fill-rule=\"nonzero\" fill-opacity=\"1\" /><path clip-path=\"url(#clip500)\" d=\"M1657.54 1215.29 L1677.94 1215.29 L1677.94 1220.21 L1650.51 1220.21 L1650.51 1215.29 Q1653.84 1211.84 1659.57 1206.06 Q1665.33 1200.24 1666.8 1198.56 Q1669.61 1195.41 1670.71 1193.24 Q1671.84 1191.04 1671.84 1188.93 Q1671.84 1185.49 1669.41 1183.31 Q1667.01 1181.14 1663.13 1181.14 Q1660.38 1181.14 1657.31 1182.1 Q1654.27 1183.05 1650.8 1184.99 L1650.8 1179.09 Q1654.33 1177.67 1657.4 1176.95 Q1660.47 1176.23 1663.01 1176.23 Q1669.73 1176.23 1673.72 1179.58 Q1677.71 1182.94 1677.71 1188.55 Q1677.71 1191.21 1676.7 1193.62 Q1675.71 1195.99 1673.08 1199.23 Q1672.36 1200.07 1668.48 1204.09 Q1664.6 1208.08 1657.54 1215.29 Z\" fill=\"#000000\" fill-rule=\"nonzero\" fill-opacity=\"1\" /><path clip-path=\"url(#clip500)\" d=\"M660.547 1326.02 L645.79 1349.08 L660.547 1349.08 L660.547 1326.02 M659.013 1320.93 L666.363 1320.93 L666.363 1349.08 L672.526 1349.08 L672.526 1353.94 L666.363 1353.94 L666.363 1364.13 L660.547 1364.13 L660.547 1353.94 L641.044 1353.94 L641.044 1348.3 L659.013 1320.93 Z\" fill=\"#000000\" fill-rule=\"nonzero\" fill-opacity=\"1\" /><path clip-path=\"url(#clip500)\" d=\"M944.626 1343.61 Q940.459 1343.61 938.058 1345.84 Q935.685 1348.07 935.685 1351.97 Q935.685 1355.88 938.058 1358.11 Q940.459 1360.34 944.626 1360.34 Q948.792 1360.34 951.194 1358.11 Q953.596 1355.85 953.596 1351.97 Q953.596 1348.07 951.194 1345.84 Q948.821 1343.61 944.626 1343.61 M938.781 1341.12 Q935.019 1340.2 932.907 1337.62 Q930.824 1335.05 930.824 1331.34 Q930.824 1326.16 934.499 1323.16 Q938.202 1320.15 944.626 1320.15 Q951.078 1320.15 954.753 1323.16 Q958.428 1326.16 958.428 1331.34 Q958.428 1335.05 956.316 1337.62 Q954.232 1340.2 950.5 1341.12 Q954.724 1342.11 957.068 1344.97 Q959.441 1347.84 959.441 1351.97 Q959.441 1358.25 955.592 1361.61 Q951.773 1364.97 944.626 1364.97 Q937.479 1364.97 933.63 1361.61 Q929.811 1358.25 929.811 1351.97 Q929.811 1347.84 932.184 1344.97 Q934.556 1342.11 938.781 1341.12 M936.64 1331.89 Q936.64 1335.25 938.723 1337.13 Q940.835 1339.01 944.626 1339.01 Q948.387 1339.01 950.5 1337.13 Q952.641 1335.25 952.641 1331.89 Q952.641 1328.54 950.5 1326.66 Q948.387 1324.78 944.626 1324.78 Q940.835 1324.78 938.723 1326.66 Q936.64 1328.54 936.64 1331.89 Z\" fill=\"#000000\" fill-rule=\"nonzero\" fill-opacity=\"1\" /><path clip-path=\"url(#clip500)\" d=\"M1076.39 1320.93 L1099.34 1320.93 L1099.34 1325.85 L1081.75 1325.85 L1081.75 1336.44 Q1083.02 1336 1084.29 1335.8 Q1085.57 1335.57 1086.84 1335.57 Q1094.07 1335.57 1098.3 1339.53 Q1102.52 1343.5 1102.52 1350.27 Q1102.52 1357.24 1098.18 1361.12 Q1093.84 1364.97 1085.94 1364.97 Q1083.22 1364.97 1080.39 1364.5 Q1077.58 1364.04 1074.57 1363.11 L1074.57 1357.24 Q1077.17 1358.66 1079.95 1359.35 Q1082.73 1360.05 1085.83 1360.05 Q1090.83 1360.05 1093.75 1357.41 Q1096.68 1354.78 1096.68 1350.27 Q1096.68 1345.75 1093.75 1343.12 Q1090.83 1340.49 1085.83 1340.49 Q1083.48 1340.49 1081.14 1341.01 Q1078.82 1341.53 1076.39 1342.63 L1076.39 1320.93 Z\" fill=\"#000000\" fill-rule=\"nonzero\" fill-opacity=\"1\" /><path clip-path=\"url(#clip500)\" d=\"M1525.62 1340.83 Q1529.81 1341.73 1532.16 1344.57 Q1534.53 1347.4 1534.53 1351.57 Q1534.53 1357.96 1530.13 1361.47 Q1525.73 1364.97 1517.63 1364.97 Q1514.91 1364.97 1512.02 1364.42 Q1509.15 1363.9 1506.09 1362.83 L1506.09 1357.18 Q1508.52 1358.6 1511.41 1359.32 Q1514.3 1360.05 1517.46 1360.05 Q1522.95 1360.05 1525.82 1357.88 Q1528.71 1355.71 1528.71 1351.57 Q1528.71 1347.75 1526.02 1345.61 Q1523.36 1343.44 1518.59 1343.44 L1513.55 1343.44 L1513.55 1338.64 L1518.82 1338.64 Q1523.13 1338.64 1525.41 1336.93 Q1527.7 1335.19 1527.7 1331.95 Q1527.7 1328.62 1525.33 1326.86 Q1522.98 1325.07 1518.59 1325.07 Q1516.18 1325.07 1513.44 1325.59 Q1510.69 1326.11 1507.39 1327.21 L1507.39 1322 Q1510.72 1321.07 1513.61 1320.61 Q1516.53 1320.15 1519.11 1320.15 Q1525.76 1320.15 1529.64 1323.18 Q1533.52 1326.19 1533.52 1331.34 Q1533.52 1334.93 1531.46 1337.42 Q1529.41 1339.88 1525.62 1340.83 Z\" fill=\"#000000\" fill-rule=\"nonzero\" fill-opacity=\"1\" /><path clip-path=\"url(#clip500)\" d=\"M1664.73 1340.2 Q1660.8 1340.2 1658.48 1342.89 Q1656.2 1345.58 1656.2 1350.27 Q1656.2 1354.93 1658.48 1357.65 Q1660.8 1360.34 1664.73 1360.34 Q1668.67 1360.34 1670.96 1357.65 Q1673.27 1354.93 1673.27 1350.27 Q1673.27 1345.58 1670.96 1342.89 Q1668.67 1340.2 1664.73 1340.2 M1676.34 1321.88 L1676.34 1327.21 Q1674.14 1326.16 1671.88 1325.61 Q1669.65 1325.07 1667.45 1325.07 Q1661.67 1325.07 1658.6 1328.97 Q1655.56 1332.88 1655.13 1340.78 Q1656.83 1338.26 1659.41 1336.93 Q1661.99 1335.57 1665.08 1335.57 Q1671.59 1335.57 1675.35 1339.53 Q1679.14 1343.47 1679.14 1350.27 Q1679.14 1356.92 1675.21 1360.94 Q1671.27 1364.97 1664.73 1364.97 Q1657.24 1364.97 1653.28 1359.24 Q1649.31 1353.48 1649.31 1342.57 Q1649.31 1332.33 1654.17 1326.25 Q1659.03 1320.15 1667.22 1320.15 Q1669.42 1320.15 1671.65 1320.58 Q1673.91 1321.01 1676.34 1321.88 Z\" fill=\"#000000\" fill-rule=\"nonzero\" fill-opacity=\"1\" /></svg>\n"
      ]
     },
     "metadata": {},
     "output_type": "display_data"
    }
   ],
   "source": [
    "visualize_sudoku_inputs(data)"
   ]
  },
  {
   "cell_type": "code",
   "execution_count": null,
   "metadata": {},
   "outputs": [],
   "source": [
    "# visualize your solution here:\n",
    "# solved_data = ... # TODO\n",
    "# visualize_sudoku_inputs(data, show_solved_data = true, solved_data = solved_data = solved_data)"
   ]
  }
 ],
 "metadata": {
  "kernelspec": {
   "display_name": "Julia 1.10.0",
   "language": "julia",
   "name": "julia-1.10"
  },
  "language_info": {
   "file_extension": ".jl",
   "mimetype": "application/julia",
   "name": "julia",
   "version": "1.10.0"
  },
  "orig_nbformat": 4
 },
 "nbformat": 4,
 "nbformat_minor": 2
}
