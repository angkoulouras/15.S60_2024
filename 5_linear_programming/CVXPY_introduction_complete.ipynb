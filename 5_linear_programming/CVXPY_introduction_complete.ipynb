{
 "cells": [
  {
   "cell_type": "markdown",
   "metadata": {},
   "source": [
    "# Introduction to CVXPY for Optimization"
   ]
  },
  {
   "cell_type": "markdown",
   "metadata": {},
   "source": [
    "CVXPY is an open source Python-embedded modeling language for convex optimization problems. It lets you express your problem in a natural way that follows the math, rather than in the restrictive standard form required by solvers.\n",
    "\n",
    "It basically the \"JuMP\" in Python. If you really hate using Julia, then CVXPY is the alternative in Python that can help you out. \n",
    "\n",
    "The documentation of CVXPY https://www.cvxpy.org/"
   ]
  },
  {
   "cell_type": "code",
   "execution_count": 1,
   "metadata": {},
   "outputs": [],
   "source": [
    "# Step 1: Install necessary packages\n",
    "# !pip install cvxpy\n",
    "# !pip install numpy\n",
    "# !pip install gurobipy\n",
    "# !pip install ortools==9.7.2996 (The version after 9.8 is not supported for cvxpy)"
   ]
  },
  {
   "cell_type": "code",
   "execution_count": 2,
   "metadata": {},
   "outputs": [],
   "source": [
    "# Step 2: import cvxpy and numpy packages\n",
    "import cvxpy as cp\n",
    "import numpy as np"
   ]
  },
  {
   "cell_type": "code",
   "execution_count": 3,
   "metadata": {},
   "outputs": [
    {
     "name": "stdout",
     "output_type": "stream",
     "text": [
      "['CLARABEL', 'ECOS', 'ECOS_BB', 'GLOP', 'GUROBI', 'OSQP', 'PDLP', 'SCIPY', 'SCS']\n"
     ]
    }
   ],
   "source": [
    "# Step 3: check installed solvers\n",
    "print(cp.installed_solvers())"
   ]
  },
  {
   "cell_type": "markdown",
   "metadata": {},
   "source": [
    "## Section 1: Linear Optimization Problem"
   ]
  },
  {
   "cell_type": "markdown",
   "metadata": {},
   "source": [
    "Define the optimization variables"
   ]
  },
  {
   "cell_type": "code",
   "execution_count": 4,
   "metadata": {},
   "outputs": [],
   "source": [
    "x = cp.Variable()\n",
    "y = cp.Variable()"
   ]
  },
  {
   "cell_type": "markdown",
   "metadata": {},
   "source": [
    "Define the objective function and constraints"
   ]
  },
  {
   "cell_type": "code",
   "execution_count": 5,
   "metadata": {},
   "outputs": [],
   "source": [
    "objective = cp.Maximize(3*x + 2*y)\n",
    "constraints = [2*x + y <= 10, x + 3*y <= 12, x >= 0, y >= 0]"
   ]
  },
  {
   "cell_type": "markdown",
   "metadata": {},
   "source": [
    "Create the optimization problem"
   ]
  },
  {
   "cell_type": "code",
   "execution_count": 6,
   "metadata": {},
   "outputs": [],
   "source": [
    "linear_problem = cp.Problem(objective, constraints)"
   ]
  },
  {
   "cell_type": "markdown",
   "metadata": {},
   "source": [
    "Solve the problem (We use the solver Gurobi but you can also use other solvers. )"
   ]
  },
  {
   "cell_type": "code",
   "execution_count": 7,
   "metadata": {
    "scrolled": true
   },
   "outputs": [
    {
     "name": "stdout",
     "output_type": "stream",
     "text": [
      "===============================================================================\n",
      "                                     CVXPY                                     \n",
      "                                     v1.4.2                                    \n",
      "===============================================================================\n",
      "(CVXPY) Jan 20 05:05:15 PM: Your problem has 2 variables, 4 constraints, and 0 parameters.\n",
      "(CVXPY) Jan 20 05:05:15 PM: It is compliant with the following grammars: DCP, DQCP\n",
      "(CVXPY) Jan 20 05:05:15 PM: (If you need to solve this problem multiple times, but with different data, consider using parameters.)\n",
      "(CVXPY) Jan 20 05:05:15 PM: CVXPY will first compile your problem; then, it will invoke a numerical solver to obtain a solution.\n",
      "(CVXPY) Jan 20 05:05:15 PM: Your problem is compiled with the CPP canonicalization backend.\n",
      "-------------------------------------------------------------------------------\n",
      "                                  Compilation                                  \n",
      "-------------------------------------------------------------------------------\n",
      "(CVXPY) Jan 20 05:05:15 PM: Compiling problem (target solver=GUROBI).\n",
      "(CVXPY) Jan 20 05:05:15 PM: Reduction chain: FlipObjective -> CvxAttr2Constr -> Qp2SymbolicQp -> QpMatrixStuffing -> GUROBI\n",
      "(CVXPY) Jan 20 05:05:15 PM: Applying reduction FlipObjective\n",
      "(CVXPY) Jan 20 05:05:15 PM: Applying reduction CvxAttr2Constr\n",
      "(CVXPY) Jan 20 05:05:15 PM: Applying reduction Qp2SymbolicQp\n",
      "(CVXPY) Jan 20 05:05:15 PM: Applying reduction QpMatrixStuffing\n",
      "(CVXPY) Jan 20 05:05:15 PM: Applying reduction GUROBI\n",
      "(CVXPY) Jan 20 05:05:15 PM: Finished problem compilation (took 1.138e-02 seconds).\n",
      "-------------------------------------------------------------------------------\n",
      "                                Numerical solver                               \n",
      "-------------------------------------------------------------------------------\n",
      "(CVXPY) Jan 20 05:05:15 PM: Invoking solver GUROBI  to obtain a solution.\n",
      "Set parameter Username\n",
      "Academic license - for non-commercial use only - expires 2025-01-08\n",
      "Set parameter QCPDual to value 1\n",
      "Gurobi Optimizer version 11.0.0 build v11.0.0rc2 (mac64[rosetta2] - Darwin 23.0.0 23A344)\n",
      "\n",
      "CPU model: Apple M1 Pro\n",
      "Thread count: 10 physical cores, 10 logical processors, using up to 10 threads\n",
      "\n",
      "Optimize a model with 4 rows, 2 columns and 6 nonzeros\n",
      "Model fingerprint: 0xd8975180\n",
      "Coefficient statistics:\n",
      "  Matrix range     [1e+00, 3e+00]\n",
      "  Objective range  [2e+00, 3e+00]\n",
      "  Bounds range     [0e+00, 0e+00]\n",
      "  RHS range        [1e+01, 1e+01]\n",
      "Presolve removed 2 rows and 0 columns\n",
      "Presolve time: 0.00s\n",
      "Presolved: 2 rows, 2 columns, 4 nonzeros\n",
      "\n",
      "Iteration    Objective       Primal Inf.    Dual Inf.      Time\n",
      "       0   -2.0000000e+01   1.049500e+01   0.000000e+00      0s\n",
      "       2   -1.6400000e+01   0.000000e+00   0.000000e+00      0s\n",
      "\n",
      "Solved in 2 iterations and 0.00 seconds (0.00 work units)\n",
      "Optimal objective -1.640000000e+01\n",
      "-------------------------------------------------------------------------------\n",
      "                                    Summary                                    \n",
      "-------------------------------------------------------------------------------\n",
      "(CVXPY) Jan 20 05:05:15 PM: Problem status: optimal\n",
      "(CVXPY) Jan 20 05:05:15 PM: Optimal value: 1.640e+01\n",
      "(CVXPY) Jan 20 05:05:15 PM: Compilation took 1.138e-02 seconds\n",
      "(CVXPY) Jan 20 05:05:15 PM: Solver (including time spent in interface) took 1.824e-02 seconds\n"
     ]
    },
    {
     "data": {
      "text/plain": [
       "16.4"
      ]
     },
     "execution_count": 7,
     "metadata": {},
     "output_type": "execute_result"
    }
   ],
   "source": [
    "linear_problem.solve(solver=cp.GUROBI,verbose=True)"
   ]
  },
  {
   "cell_type": "markdown",
   "metadata": {},
   "source": [
    "Display the results"
   ]
  },
  {
   "cell_type": "code",
   "execution_count": 8,
   "metadata": {},
   "outputs": [
    {
     "name": "stdout",
     "output_type": "stream",
     "text": [
      "Optimal value: 16.4\n",
      "Optimal x: 3.5999999999999996\n",
      "Optimal y: 2.8000000000000003\n"
     ]
    }
   ],
   "source": [
    "print(\"Optimal value:\", linear_problem.value)\n",
    "print(\"Optimal x:\", x.value)\n",
    "print(\"Optimal y:\", y.value)"
   ]
  },
  {
   "cell_type": "code",
   "execution_count": null,
   "metadata": {},
   "outputs": [],
   "source": []
  },
  {
   "cell_type": "markdown",
   "metadata": {},
   "source": [
    "## Section 2: A First-Order LP Solver (PDLP)"
   ]
  },
  {
   "cell_type": "markdown",
   "metadata": {},
   "source": [
    "In this section we solve a randomly generated \"big\" LP instance using cvxpy and different solvers.\n",
    "\n",
    "The problem is \n",
    "$$\n",
    "\\min c^\\top x, \\ s.t. Ax \\le b \\ ,\n",
    "$$\n",
    "in which $A$ has $m$ rows and $n$ columns. \n",
    "\n",
    "The data is created as follows:"
   ]
  },
  {
   "cell_type": "code",
   "execution_count": 9,
   "metadata": {},
   "outputs": [],
   "source": [
    "np.random.seed(123)\n",
    "m = 5000\n",
    "n = 3000\n",
    "\n",
    "# Generate A, b, c so that (x0,y0) is an optimal primal-dual solution to the LP problem \n",
    "s0 = np.random.randn(m)\n",
    "y0 = np.maximum(-s0, 0)\n",
    "s0 = np.maximum(s0, 0)\n",
    "x0 = np.random.randn(n)\n",
    "A = np.random.randn(m, n)\n",
    "b = A @ x0 + s0\n",
    "c = -A.T @ y0\n",
    "\n",
    "# Define the LP using CVXPY\n",
    "x = cp.Variable(n)\n",
    "big_LP = cp.Problem(cp.Minimize(c.T@x), [A @ x <= b])"
   ]
  },
  {
   "cell_type": "markdown",
   "metadata": {},
   "source": [
    "Solve the problem using the primal simplex method of GUROBI (about 700 seconds)."
   ]
  },
  {
   "cell_type": "code",
   "execution_count": 11,
   "metadata": {
    "scrolled": true
   },
   "outputs": [
    {
     "name": "stdout",
     "output_type": "stream",
     "text": [
      "===============================================================================\n",
      "                                     CVXPY                                     \n",
      "                                     v1.4.2                                    \n",
      "===============================================================================\n",
      "(CVXPY) Jan 20 05:06:27 PM: Your problem has 3000 variables, 1 constraints, and 0 parameters.\n",
      "(CVXPY) Jan 20 05:06:27 PM: It is compliant with the following grammars: DCP, DQCP\n",
      "(CVXPY) Jan 20 05:06:27 PM: (If you need to solve this problem multiple times, but with different data, consider using parameters.)\n",
      "(CVXPY) Jan 20 05:06:27 PM: CVXPY will first compile your problem; then, it will invoke a numerical solver to obtain a solution.\n",
      "(CVXPY) Jan 20 05:06:27 PM: Your problem is compiled with the CPP canonicalization backend.\n",
      "-------------------------------------------------------------------------------\n",
      "                                  Compilation                                  \n",
      "-------------------------------------------------------------------------------\n",
      "(CVXPY) Jan 20 05:06:27 PM: Compiling problem (target solver=GUROBI).\n",
      "(CVXPY) Jan 20 05:06:27 PM: Reduction chain: CvxAttr2Constr -> Qp2SymbolicQp -> QpMatrixStuffing -> GUROBI\n",
      "(CVXPY) Jan 20 05:06:27 PM: Applying reduction CvxAttr2Constr\n",
      "(CVXPY) Jan 20 05:06:27 PM: Applying reduction Qp2SymbolicQp\n",
      "(CVXPY) Jan 20 05:06:27 PM: Applying reduction QpMatrixStuffing\n",
      "(CVXPY) Jan 20 05:06:31 PM: Applying reduction GUROBI\n",
      "(CVXPY) Jan 20 05:06:31 PM: Finished problem compilation (took 3.966e+00 seconds).\n",
      "-------------------------------------------------------------------------------\n",
      "                                Numerical solver                               \n",
      "-------------------------------------------------------------------------------\n",
      "(CVXPY) Jan 20 05:06:31 PM: Invoking solver GUROBI  to obtain a solution.\n",
      "Set parameter QCPDual to value 1\n",
      "Set parameter Method to value 0\n",
      "Gurobi Optimizer version 11.0.0 build v11.0.0rc2 (mac64[rosetta2] - Darwin 23.0.0 23A344)\n",
      "\n",
      "CPU model: Apple M1 Pro\n",
      "Thread count: 10 physical cores, 10 logical processors, using up to 10 threads\n",
      "\n",
      "Optimize a model with 5000 rows, 3000 columns and 15000000 nonzeros\n",
      "Model fingerprint: 0x2839e8a0\n",
      "Coefficient statistics:\n",
      "  Matrix range     [1e-07, 5e+00]\n",
      "  Objective range  [3e-02, 2e+02]\n",
      "  Bounds range     [0e+00, 0e+00]\n",
      "  RHS range        [1e-02, 2e+02]\n",
      "Presolve time: 4.08s\n",
      "Presolved: 5000 rows, 3000 columns, 15000000 nonzeros\n",
      "\n",
      "Iteration    Objective       Primal Inf.    Dual Inf.      Time\n",
      "       0    0.0000000e+00   2.498590e+04   3.442385e+10      5s\n",
      "     285    1.0618199e+03   2.433307e+04   2.216836e+11      5s\n",
      "     565    1.5534706e+03   2.421847e+04   2.939691e+11     10s\n",
      "     845    9.9225575e+02   2.397298e+04   4.646808e+11     15s\n",
      "    1125    1.5718099e+03   2.408858e+04   5.033401e+11     21s\n",
      "    1365    1.2100206e+03   2.437265e+04   6.025316e+11     26s\n",
      "    1605    3.5968537e+02   2.430849e+04   5.842497e+11     31s\n",
      "    1845    1.2525381e+03   2.430535e+04   8.143497e+11     37s\n",
      "    1965    1.3704481e+03   2.444644e+04   8.576266e+11     41s\n",
      "    2205    7.2142980e+02   2.388424e+04   3.104865e+11     48s\n",
      "    2325    7.9399458e+02   2.417961e+04   4.208678e+11     52s\n",
      "    2445   -8.7221755e+00   2.412186e+04   2.949397e+11     56s\n",
      "    2565    6.8230833e+02   2.362732e+04   5.248555e+11     62s\n",
      "    2685    1.4655477e+03   2.346794e+04   1.740697e+11     66s\n",
      "    2805    1.2855822e+03   2.349948e+04   1.987767e+11     72s\n",
      "    2925    6.4195222e+02   2.507790e+04   3.344867e+11     79s\n",
      "    3045    3.1996814e+03   7.635593e+03   6.147549e+12     84s\n",
      "    3165    3.7591664e+03   2.629195e+03   1.948568e+13     90s\n",
      "    3285    3.8997117e+03   1.655595e+03   1.541291e+12     96s\n",
      "    3405    4.0076463e+03   1.178375e+03   1.490356e+12    101s\n",
      "    3525    4.0542538e+03   9.634849e+02   1.944381e+12    107s\n",
      "    3645    4.1136472e+03   8.030909e+02   2.387704e+12    113s\n",
      "    3765    4.1552475e+03   6.770297e+02   5.205496e+11    119s\n",
      "    3885    4.2103933e+03   5.651781e+02   4.271587e+11    125s\n",
      "    4005    4.2067266e+03   4.842322e+02   9.483700e+11    130s\n",
      "    4125    4.2217519e+03   4.220343e+02   8.905662e+10    137s\n",
      "    4245    4.2503825e+03   3.721645e+02   3.325867e+11    143s\n",
      "    4365    4.2864219e+03   3.245194e+02   5.706390e+11    149s\n",
      "    4485    4.3087385e+03   2.904800e+02   2.889850e+11    155s\n",
      "    4605    4.3414720e+03   2.541768e+02   4.625984e+11    160s\n",
      "    4725    4.3585625e+03   2.235891e+02   5.311968e+10    166s\n",
      "    4855    4.3781203e+03   2.005429e+02   6.316893e+10    172s\n",
      "    4975    4.4010085e+03   1.802626e+02   1.591489e+11    178s\n",
      "    5095    4.4078213e+03   1.644291e+02   3.077177e+10    184s\n",
      "    5215    4.4239896e+03   1.504462e+02   2.942124e+10    190s\n",
      "    5335    4.4517849e+03   1.365907e+02   8.399291e+11    196s\n",
      "    5455    4.4617372e+03   1.244191e+02   1.288881e+12    201s\n",
      "    5575    4.4693111e+03   1.124641e+02   3.361315e+10    207s\n",
      "    5695    4.4843100e+03   1.018691e+02   2.967919e+10    213s\n",
      "    5815    4.4948161e+03   9.348278e+01   7.084790e+10    219s\n",
      "    5935    4.5063635e+03   8.560487e+01   4.127572e+10    225s\n",
      "    6055    4.5256100e+03   7.723633e+01   9.753908e+10    231s\n",
      "    6175    4.5441749e+03   6.948065e+01   4.133419e+10    236s\n",
      "    6295    4.5553890e+03   6.256182e+01   5.927192e+10    242s\n",
      "    6415    4.5653377e+03   5.616099e+01   1.168242e+11    248s\n",
      "    6535    4.5720940e+03   4.902701e+01   2.842852e+11    254s\n",
      "    6655    4.5786343e+03   4.200831e+01   2.046329e+11    260s\n",
      "    6775    4.5922430e+03   3.751555e+01   3.692881e+10    266s\n",
      "    6895    4.6145732e+03   3.229614e+01   5.967022e+10    271s\n",
      "    7015    4.6328406e+03   2.815668e+01   2.879198e+11    277s\n",
      "    7135    4.6517137e+03   2.399875e+01   1.178771e+11    283s\n",
      "    7255    4.6627420e+03   2.141550e+01   2.667897e+10    289s\n",
      "    7375    4.6688912e+03   1.837181e+01   8.896861e+10    295s\n",
      "    7495    4.6934595e+03   1.485873e+01   5.548680e+10    300s\n",
      "    7615    4.7075600e+03   1.232532e+01   1.304623e+11    306s\n",
      "    7735    4.7213875e+03   9.534796e+00   1.694741e+10    312s\n",
      "    7855    4.7334521e+03   6.950145e+00   3.941347e+10    318s\n",
      "    7985    4.7465322e+03   4.710499e+00   1.241693e+11    324s\n",
      "    8105    4.7640752e+03   3.074472e+00   5.472285e+10    329s\n",
      "    8225    4.7724529e+03   1.551676e+00   2.660380e+10    335s\n",
      "    8345    4.7659344e+03   7.121936e-01   1.083542e+10    341s\n",
      "    8465    4.7809509e+03   2.088465e-01   1.696249e+09    347s\n",
      "    8585    4.7815530e+03   0.000000e+00   3.139247e+05    352s\n",
      "    8705    4.7255703e+03   0.000000e+00   8.907062e+05    358s\n",
      "    8825    4.6749946e+03   0.000000e+00   1.914563e+06    364s\n",
      "    8945    4.6278887e+03   0.000000e+00   2.440155e+05    370s\n",
      "    9065    4.5756011e+03   0.000000e+00   1.096970e+06    376s\n",
      "    9185    4.5289660e+03   0.000000e+00   3.677328e+05    382s\n",
      "    9305    4.4865710e+03   0.000000e+00   8.788726e+05    388s\n",
      "    9425    4.4476942e+03   0.000000e+00   1.399896e+05    394s\n",
      "    9545    4.4121170e+03   0.000000e+00   2.318057e+05    400s\n",
      "    9665    4.3789627e+03   0.000000e+00   2.184140e+05    406s\n",
      "    9785    4.3533081e+03   0.000000e+00   6.100085e+05    412s\n",
      "    9905    4.3223423e+03   0.000000e+00   2.194341e+05    417s\n",
      "   10025    4.2896773e+03   0.000000e+00   1.065362e+05    423s\n",
      "   10145    4.2668867e+03   0.000000e+00   1.120464e+06    429s\n",
      "   10265    4.2407803e+03   0.000000e+00   2.824860e+05    435s\n",
      "   10385    4.2198324e+03   0.000000e+00   2.001683e+05    441s\n",
      "   10505    4.2025036e+03   0.000000e+00   5.915005e+05    447s\n",
      "   10625    4.1807903e+03   0.000000e+00   7.728985e+04    452s\n",
      "   10745    4.1660555e+03   0.000000e+00   2.549638e+05    458s\n",
      "   10865    4.1508123e+03   0.000000e+00   2.809577e+05    464s\n",
      "   10985    4.1364871e+03   0.000000e+00   2.204869e+05    470s\n",
      "   11105    4.1254067e+03   0.000000e+00   7.162451e+05    476s\n",
      "   11225    4.1145897e+03   0.000000e+00   2.885012e+05    481s\n",
      "   11345    4.1025595e+03   0.000000e+00   7.846699e+05    488s\n",
      "   11465    4.0926369e+03   0.000000e+00   1.434008e+05    495s\n",
      "   11585    4.0846649e+03   0.000000e+00   3.342163e+04    501s\n",
      "   11705    4.0764063e+03   0.000000e+00   8.905819e+04    507s\n",
      "   11825    4.0680252e+03   0.000000e+00   2.100433e+05    512s\n",
      "   11945    4.0611609e+03   0.000000e+00   5.015631e+04    518s\n",
      "   12065    4.0545616e+03   0.000000e+00   6.873875e+04    524s\n",
      "   12185    4.0476886e+03   0.000000e+00   1.097126e+05    530s\n",
      "   12305    4.0412093e+03   0.000000e+00   6.615214e+04    536s\n",
      "   12425    4.0347844e+03   0.000000e+00   3.244704e+05    541s\n",
      "   12545    4.0269026e+03   0.000000e+00   1.024054e+05    547s\n",
      "   12665    4.0215275e+03   0.000000e+00   1.186399e+05    553s\n",
      "   12785    4.0155970e+03   0.000000e+00   1.055343e+05    559s\n",
      "   12905    4.0098069e+03   0.000000e+00   3.990805e+04    565s\n",
      "   13025    4.0045831e+03   0.000000e+00   4.134355e+04    570s\n",
      "   13145    4.0004911e+03   0.000000e+00   1.306021e+05    576s\n",
      "   13265    3.9968712e+03   0.000000e+00   3.616261e+05    582s\n",
      "   13385    3.9927578e+03   0.000000e+00   4.064707e+04    588s\n",
      "   13515    3.9886799e+03   0.000000e+00   2.960377e+04    593s\n",
      "   13635    3.9848637e+03   0.000000e+00   5.092455e+04    600s\n",
      "   13755    3.9813607e+03   0.000000e+00   1.293675e+04    606s\n",
      "   13875    3.9780873e+03   0.000000e+00   3.565751e+04    612s\n",
      "   13995    3.9758312e+03   0.000000e+00   4.703522e+04    618s\n",
      "   14115    3.9732499e+03   0.000000e+00   5.375868e+03    623s\n",
      "   14235    3.9712959e+03   0.000000e+00   1.007646e+04    629s\n",
      "   14355    3.9696896e+03   0.000000e+00   4.089341e+04    635s\n",
      "   14475    3.9686640e+03   0.000000e+00   1.693843e+04    641s\n",
      "   14595    3.9677530e+03   0.000000e+00   1.197167e+04    646s\n",
      "   14715    3.9669012e+03   0.000000e+00   2.868112e+03    652s\n",
      "   14835    3.9661372e+03   0.000000e+00   2.433629e+03    658s\n",
      "   14955    3.9654445e+03   0.000000e+00   2.864812e+03    664s\n",
      "   15075    3.9650896e+03   0.000000e+00   1.262906e+03    669s\n",
      "   15195    3.9649084e+03   0.000000e+00   1.373327e+02    675s\n",
      "   15315    3.9647771e+03   0.000000e+00   2.085325e+02    681s\n",
      "   15435    3.9647350e+03   0.000000e+00   1.087222e+01    688s\n",
      "   15511    3.9647312e+03   0.000000e+00   0.000000e+00    693s\n",
      "\n",
      "Solved in 15511 iterations and 692.89 seconds (1552.01 work units)\n",
      "Optimal objective  3.964731190e+03\n",
      "-------------------------------------------------------------------------------\n",
      "                                    Summary                                    \n",
      "-------------------------------------------------------------------------------\n",
      "(CVXPY) Jan 20 05:18:05 PM: Problem status: optimal\n",
      "(CVXPY) Jan 20 05:18:05 PM: Optimal value: 3.965e+03\n",
      "(CVXPY) Jan 20 05:18:05 PM: Compilation took 3.966e+00 seconds\n",
      "(CVXPY) Jan 20 05:18:05 PM: Solver (including time spent in interface) took 6.933e+02 seconds\n",
      "3964.7311895503603\n",
      "[ 0.32929495  1.48125231 -1.12778975 ... -1.59524077 -0.38611929\n",
      "  1.13486458]\n"
     ]
    }
   ],
   "source": [
    "opt_val=big_LP.solve(solver=cp.GUROBI, verbose=True, Method=0)\n",
    "solution=x.value\n",
    "print(opt_val)\n",
    "print(solution)"
   ]
  },
  {
   "cell_type": "markdown",
   "metadata": {},
   "source": [
    "Solve the problem using the dual simplex method of GUROBI (about 800 seconds.)"
   ]
  },
  {
   "cell_type": "code",
   "execution_count": 13,
   "metadata": {
    "scrolled": true
   },
   "outputs": [
    {
     "name": "stdout",
     "output_type": "stream",
     "text": [
      "===============================================================================\n",
      "                                     CVXPY                                     \n",
      "                                     v1.4.2                                    \n",
      "===============================================================================\n",
      "(CVXPY) Jan 20 05:18:12 PM: Your problem has 3000 variables, 1 constraints, and 0 parameters.\n",
      "(CVXPY) Jan 20 05:18:12 PM: It is compliant with the following grammars: DCP, DQCP\n",
      "(CVXPY) Jan 20 05:18:12 PM: (If you need to solve this problem multiple times, but with different data, consider using parameters.)\n",
      "(CVXPY) Jan 20 05:18:12 PM: CVXPY will first compile your problem; then, it will invoke a numerical solver to obtain a solution.\n",
      "(CVXPY) Jan 20 05:18:12 PM: Your problem is compiled with the CPP canonicalization backend.\n",
      "-------------------------------------------------------------------------------\n",
      "                                  Compilation                                  \n",
      "-------------------------------------------------------------------------------\n",
      "(CVXPY) Jan 20 05:18:12 PM: Using cached ASA map, for faster compilation (bypassing reduction chain).\n",
      "(CVXPY) Jan 20 05:18:12 PM: Finished problem compilation (took 2.638e-01 seconds).\n",
      "-------------------------------------------------------------------------------\n",
      "                                Numerical solver                               \n",
      "-------------------------------------------------------------------------------\n",
      "(CVXPY) Jan 20 05:18:12 PM: Invoking solver GUROBI  to obtain a solution.\n",
      "Set parameter QCPDual to value 1\n",
      "Set parameter Method to value 1\n",
      "Gurobi Optimizer version 11.0.0 build v11.0.0rc2 (mac64[rosetta2] - Darwin 23.0.0 23A344)\n",
      "\n",
      "CPU model: Apple M1 Pro\n",
      "Thread count: 10 physical cores, 10 logical processors, using up to 10 threads\n",
      "\n",
      "Optimize a model with 5000 rows, 3000 columns and 15000000 nonzeros\n",
      "Model fingerprint: 0x9b0a8f4e\n",
      "Coefficient statistics:\n",
      "  Matrix range     [1e-07, 5e+00]\n",
      "  Objective range  [3e-02, 2e+02]\n",
      "  Bounds range     [0e+00, 0e+00]\n",
      "  RHS range        [1e-02, 2e+02]\n",
      "Presolve time: 3.74s\n",
      "Presolved: 5000 rows, 3000 columns, 15000000 nonzeros\n",
      "\n",
      "Iteration    Objective       Primal Inf.    Dual Inf.      Time\n",
      "       0      handle free variables                          4s\n",
      "     724      handle free variables                          5s\n",
      "    1494      handle free variables                         11s\n",
      "    1922      handle free variables                         16s\n",
      "    2165      handle free variables                         20s\n",
      "    2475      handle free variables                         27s\n",
      "    2624      handle free variables                         31s\n",
      "    2841      handle free variables                         37s\n",
      "    3000   -3.7567185e+34   5.070495e+34   3.756719e+04     44s\n",
      "    3111   -3.2162777e+34   1.727264e+36   3.216278e+04     50s\n",
      "Warning: Markowitz tolerance tightened to 0.125\n",
      "    3251   -2.6411324e+34   1.276039e+36   2.641132e+04     57s\n",
      "    3391   -2.1554768e+34   7.632546e+35   2.155477e+04     64s\n",
      "    3531   -1.7703239e+34   7.737835e+36   1.770324e+04     71s\n",
      "    3671   -1.5011051e+34   4.702518e+35   1.501105e+04     78s\n",
      "    3811   -1.2668727e+34   2.097050e+35   1.266873e+04     84s\n",
      "    3951   -1.1180078e+34   6.107063e+36   1.118008e+04     91s\n",
      "    4091   -9.8038480e+33   9.566322e+35   9.803848e+03     98s\n",
      "    4231   -8.6490580e+33   1.861302e+35   8.649058e+03    104s\n",
      "    4371   -7.6265797e+33   5.030408e+35   7.626580e+03    111s\n",
      "    4511   -6.7930042e+33   3.095343e+35   6.793004e+03    118s\n",
      "    4651   -6.0438545e+33   1.981906e+35   6.043855e+03    125s\n",
      "    4791   -5.2376562e+33   3.844822e+35   5.237656e+03    132s\n",
      "Warning: Markowitz tolerance tightened to 0.25\n",
      "    4931   -4.8059903e+33   1.371951e+37   4.805990e+03    138s\n",
      "    5071   -4.4263156e+33   9.453876e+34   4.426316e+03    145s\n",
      "    5211   -4.0648139e+33   1.615766e+36   4.064814e+03    151s\n",
      "    5351   -3.7845858e+33   5.500884e+35   3.784586e+03    158s\n",
      "    5491   -3.4970458e+33   1.109326e+35   3.497046e+03    164s\n",
      "    5631   -3.2137549e+33   6.897282e+34   3.213755e+03    171s\n",
      "    5771   -2.8769915e+33   5.101912e+35   2.876992e+03    178s\n",
      "    5911   -2.6080481e+33   5.808590e+34   2.608048e+03    184s\n",
      "    6051   -2.4140573e+33   1.955409e+35   2.414057e+03    191s\n",
      "    6191   -2.2218678e+33   7.702771e+34   2.221868e+03    197s\n",
      "    6331   -2.0420328e+33   3.109518e+35   2.042033e+03    205s\n",
      "    6471   -1.8497496e+33   1.116745e+35   1.849750e+03    212s\n",
      "    6611   -1.6964714e+33   1.072652e+35   1.696471e+03    219s\n",
      "    6751   -1.5434648e+33   1.630521e+35   1.543465e+03    225s\n",
      "    6891   -1.3876319e+33   9.277645e+34   1.387632e+03    232s\n",
      "    7031   -1.2811717e+33   2.244181e+35   1.281172e+03    239s\n",
      "    7171   -1.1812007e+33   6.724807e+34   1.181201e+03    245s\n",
      "    7311   -1.0888709e+33   2.982397e+34   1.088871e+03    252s\n",
      "    7451   -9.9560172e+32   5.012555e+34   9.956017e+02    259s\n",
      "    7591   -9.1283078e+32   2.212821e+35   9.128308e+02    266s\n",
      "    7731   -8.5535019e+32   6.682669e+34   8.553502e+02    272s\n",
      "    7871   -7.7435286e+32   2.605973e+34   7.743529e+02    279s\n",
      "    8011   -7.1962894e+32   2.778125e+34   7.196289e+02    286s\n",
      "    8151   -6.4983548e+32   6.090506e+34   6.498355e+02    292s\n",
      "    8291   -5.9222523e+32   9.841415e+33   5.922252e+02    299s\n",
      "    8431   -5.3521416e+32   4.012809e+34   5.352142e+02    306s\n",
      "    8571   -4.8402155e+32   1.839906e+34   4.840216e+02    313s\n",
      "    8710   -4.3004956e+32   1.029240e+34   4.300496e+02    320s\n",
      "    8850   -3.7795476e+32   5.710506e+34   3.779548e+02    327s\n",
      "    8990   -3.2853666e+32   2.352374e+34   3.285367e+02    333s\n",
      "    9130   -2.9255985e+32   1.893078e+34   2.925599e+02    340s\n",
      "    9270   -2.5546170e+32   5.957277e+34   2.554617e+02    347s\n",
      "    9410   -2.2437648e+32   2.351260e+34   2.243765e+02    354s\n",
      "    9550   -1.9482309e+32   2.287136e+34   1.948231e+02    361s\n",
      "    9690   -1.7373106e+32   2.299202e+34   1.737311e+02    368s\n",
      "    9830   -1.4757975e+32   7.320797e+34   1.475798e+02    374s\n",
      "    9970   -1.2409330e+32   1.118152e+34   1.240933e+02    381s\n",
      "   10110   -1.0130619e+32   1.358279e+34   1.013062e+02    387s\n",
      "   10250   -8.2984080e+31   3.791056e+34   8.298408e+01    394s\n",
      "   10390   -6.5637106e+31   1.085758e+34   6.563711e+01    401s\n",
      "   10530   -5.0573739e+31   3.468973e+33   5.057374e+01    407s\n",
      "   10670   -3.9012115e+31   1.224146e+34   3.901212e+01    414s\n",
      "   10810   -2.7748528e+31   6.745518e+34   2.774853e+01    421s\n",
      "   10950   -1.8619910e+31   9.563391e+33   1.861991e+01    427s\n",
      "   11090   -1.0351746e+31   3.621362e+33   1.035175e+01    434s\n",
      "   11230   -4.9263388e+30   1.992867e+33   4.926339e+00    441s\n",
      "   11369   -1.6052628e+30   1.489782e+33   1.605263e+00    447s\n",
      "   11508    3.5993414e+03   3.038337e+04   0.000000e+00    454s\n",
      "   11648    3.6229230e+03   1.492388e+04   0.000000e+00    461s\n",
      "   11788    3.6470840e+03   8.146081e+03   0.000000e+00    467s\n",
      "   11928    3.6654905e+03   5.899619e+03   0.000000e+00    474s\n",
      "   12066    3.6894680e+03   9.474486e+03   0.000000e+00    481s\n",
      "   12206    3.7111456e+03   1.187219e+04   0.000000e+00    488s\n",
      "   12346    3.7309045e+03   6.586345e+03   0.000000e+00    494s\n",
      "   12484    3.7462142e+03   9.686185e+03   0.000000e+00    501s\n",
      "   12623    3.7625695e+03   2.293233e+04   0.000000e+00    508s\n",
      "   12762    3.7796154e+03   3.094107e+04   0.000000e+00    514s\n",
      "   12901    3.7906143e+03   4.616390e+03   0.000000e+00    521s\n",
      "   13041    3.8023663e+03   1.085314e+05   0.000000e+00    528s\n",
      "   13181    3.8160535e+03   3.300354e+04   0.000000e+00    534s\n",
      "   13321    3.8277396e+03   3.377697e+04   0.000000e+00    541s\n",
      "   13460    3.8403414e+03   8.104526e+03   0.000000e+00    548s\n",
      "   13599    3.8507802e+03   1.262366e+04   0.000000e+00    554s\n",
      "   13738    3.8590643e+03   1.287863e+04   0.000000e+00    561s\n",
      "   13878    3.8665303e+03   1.234310e+05   0.000000e+00    568s\n",
      "   14018    3.8757664e+03   4.756228e+04   0.000000e+00    574s\n",
      "   14158    3.8828438e+03   2.338440e+04   0.000000e+00    581s\n",
      "   14297    3.8896606e+03   4.690806e+04   0.000000e+00    588s\n",
      "   14437    3.8951555e+03   5.254105e+04   0.000000e+00    594s\n",
      "   14576    3.9005027e+03   1.976406e+03   0.000000e+00    601s\n",
      "   14716    3.9061490e+03   6.816907e+03   0.000000e+00    607s\n",
      "   14856    3.9125536e+03   5.852336e+04   0.000000e+00    614s\n",
      "   14996    3.9183731e+03   3.330718e+03   0.000000e+00    621s\n",
      "   15136    3.9236903e+03   4.036421e+03   0.000000e+00    628s\n",
      "   15275    3.9284057e+03   5.654141e+04   0.000000e+00    634s\n",
      "   15414    3.9332605e+03   5.211881e+03   0.000000e+00    641s\n",
      "   15554    3.9376474e+03   1.024329e+04   0.000000e+00    648s\n",
      "   15693    3.9422121e+03   8.304541e+04   0.000000e+00    655s\n",
      "   15832    3.9459607e+03   5.686112e+03   0.000000e+00    662s\n",
      "   15970    3.9489567e+03   1.633519e+03   0.000000e+00    668s\n",
      "   16110    3.9505625e+03   8.280294e+03   0.000000e+00    675s\n",
      "   16250    3.9529783e+03   2.599755e+04   0.000000e+00    681s\n",
      "   16389    3.9549708e+03   1.445639e+04   0.000000e+00    688s\n",
      "   16529    3.9569356e+03   7.344600e+03   0.000000e+00    695s\n",
      "   16669    3.9589173e+03   4.489582e+03   0.000000e+00    702s\n",
      "   16808    3.9604991e+03   1.815560e+04   0.000000e+00    709s\n",
      "   16948    3.9620543e+03   3.015902e+04   0.000000e+00    715s\n",
      "   17088    3.9628093e+03   5.749815e+03   0.000000e+00    722s\n",
      "   17228    3.9635061e+03   9.445714e+04   0.000000e+00    728s\n",
      "   17368    3.9639188e+03   8.256393e+03   0.000000e+00    735s\n",
      "   17508    3.9644520e+03   3.436894e+04   0.000000e+00    745s\n",
      "   17647    3.9646505e+03   5.998635e+05   0.000000e+00    751s\n",
      "   17786    3.9647125e+03   4.584014e+04   0.000000e+00    758s\n",
      "   17924    3.9647310e+03   5.261015e+03   0.000000e+00    764s\n",
      "   18064    3.9647313e+03   2.465045e+02   0.000000e+00    771s\n",
      "   18202    3.9647315e+03   1.710090e+03   0.000000e+00    778s\n",
      "   18342    3.9647317e+03   3.016199e+02   0.000000e+00    784s\n",
      "   18481    3.9647319e+03   1.146740e+02   0.000000e+00    791s\n",
      "   18621    3.9647320e+03   2.151190e+02   0.000000e+00    798s\n",
      "   18761    3.9647321e+03   4.038501e+01   0.000000e+00    805s\n",
      "   18887    3.9647321e+03   0.000000e+00   0.000000e+00    811s\n",
      "\n",
      "Solved in 18887 iterations and 812.82 seconds (1768.68 work units)\n",
      "Optimal objective  3.964731190e+03\n",
      "-------------------------------------------------------------------------------\n",
      "                                    Summary                                    \n",
      "-------------------------------------------------------------------------------\n",
      "(CVXPY) Jan 20 05:31:46 PM: Problem status: optimal\n",
      "(CVXPY) Jan 20 05:31:46 PM: Optimal value: 3.965e+03\n",
      "(CVXPY) Jan 20 05:31:46 PM: Compilation took 2.638e-01 seconds\n",
      "(CVXPY) Jan 20 05:31:46 PM: Solver (including time spent in interface) took 8.133e+02 seconds\n"
     ]
    }
   ],
   "source": [
    "# Solve the problem using the default GUROBI dual simplex method\n",
    "opt_val=big_LP.solve(solver=cp.GUROBI, verbose=True, Method=1)"
   ]
  },
  {
   "cell_type": "markdown",
   "metadata": {},
   "source": [
    "Solve the problem using PDLP (a first-order method for LP).  \n",
    "\n",
    "The PDLP is the primal-dual hybrid gradient (PDHG) method with some practical enhancements. \n",
    "See more details of the mathematical background in https://developers.google.com/optimization/lp/pdlp_math. "
   ]
  },
  {
   "cell_type": "code",
   "execution_count": 14,
   "metadata": {},
   "outputs": [
    {
     "name": "stdout",
     "output_type": "stream",
     "text": [
      "===============================================================================\n",
      "                                     CVXPY                                     \n",
      "                                     v1.4.2                                    \n",
      "===============================================================================\n",
      "(CVXPY) Jan 20 06:06:28 PM: Your problem has 3000 variables, 1 constraints, and 0 parameters.\n",
      "(CVXPY) Jan 20 06:06:28 PM: It is compliant with the following grammars: DCP, DQCP\n",
      "(CVXPY) Jan 20 06:06:28 PM: (If you need to solve this problem multiple times, but with different data, consider using parameters.)\n",
      "(CVXPY) Jan 20 06:06:28 PM: CVXPY will first compile your problem; then, it will invoke a numerical solver to obtain a solution.\n",
      "(CVXPY) Jan 20 06:06:28 PM: Your problem is compiled with the CPP canonicalization backend.\n",
      "-------------------------------------------------------------------------------\n",
      "                                  Compilation                                  \n",
      "-------------------------------------------------------------------------------\n",
      "(CVXPY) Jan 20 06:06:28 PM: Compiling problem (target solver=PDLP).\n",
      "(CVXPY) Jan 20 06:06:28 PM: Reduction chain: Dcp2Cone -> CvxAttr2Constr -> ConeMatrixStuffing -> PDLP\n",
      "(CVXPY) Jan 20 06:06:28 PM: Applying reduction Dcp2Cone\n",
      "(CVXPY) Jan 20 06:06:28 PM: Applying reduction CvxAttr2Constr\n",
      "(CVXPY) Jan 20 06:06:28 PM: Applying reduction ConeMatrixStuffing\n",
      "(CVXPY) Jan 20 06:06:31 PM: Applying reduction PDLP\n",
      "(CVXPY) Jan 20 06:06:47 PM: Finished problem compilation (took 1.982e+01 seconds).\n",
      "-------------------------------------------------------------------------------\n",
      "                                Numerical solver                               \n",
      "-------------------------------------------------------------------------------\n",
      "(CVXPY) Jan 20 06:06:47 PM: Invoking solver PDLP  to obtain a solution.\n"
     ]
    },
    {
     "name": "stderr",
     "output_type": "stream",
     "text": [
      "WARNING: All log messages before absl::InitializeLog() is called are written to STDERR\n",
      "Problem stats before presolving and rescaling:\n",
      "There are 3000 variables, 5000 constraints, and 15000000 constraint matrix nonzeros.\n",
      "Absolute values of nonzero constraint matrix elements: largest=5.381140, smallest=0.000000, avg=0.798038\n",
      "Constraint matrix, infinity norm: max(row & col)=5.381140, min_col=3.082680, min_row=2.955656\n",
      "Constraint bounds statistics (max absolute value per row): largest=220.898111, smallest=0.012123, avg=43.719825, l2_norm=3867.939661\n",
      "Absolute values of objective vector elements: largest=200.838012, smallest=0.034710, avg=40.066409, l2_norm=2732.719799\n",
      "Gaps between variable upper and lower bounds: #finite=0 of 3000, largest=0.000000, smallest=0.000000, avg=nan\n",
      "Problem stats after presolving and rescaling:\n",
      "There are 3000 variables, 5000 constraints, and 15000000 constraint matrix nonzeros.\n",
      "Absolute values of nonzero constraint matrix elements: largest=0.071478, smallest=0.000000, avg=0.012799\n",
      "Constraint matrix, infinity norm: max(row & col)=0.071478, min_col=0.054541, min_row=0.051823\n",
      "Constraint bounds statistics (max absolute value per row): largest=29.545659, smallest=0.001612, avg=5.996467, l2_norm=530.908412\n",
      "Absolute values of objective vector elements: largest=23.527338, smallest=0.004025, avg=4.689926, l2_norm=320.174419\n",
      "Gaps between variable upper and lower bounds: #finite=0 of 3000, largest=0.000000, smallest=0.000000, avg=nan\n",
      " iter# kkt_pass   time | rel_prim_res rel_dual_res      rel_gap |   prim_resid   dual_resid      obj_gap |     prim_obj     dual_obj |  prim_var_l2  dual_var_l2\n",
      "     0      0.0    3.3 |     0.703725     0.999634      0.00000 |      2722.67      2732.72      0.00000 |      0.00000      0.00000 |      0.00000      0.00000\n",
      "    64     71.0    5.8 |      0.00000     0.781225     0.999605 |      0.00000      2135.65  3.44440e+06 |  3.44508e+06      679.384 |      3770.98      30.0459\n",
      "   128    140.0    8.1 |   0.00562034     0.417675     0.999640 |      21.7448      1141.81  2.10108e+06 |  2.10146e+06      377.955 |      3370.67      49.0904\n",
      "   192    207.0   10.3 |    0.0378635     0.153758     0.991662 |      146.492      420.330      719715. |      722740.      3025.12 |      2458.91      59.3918\n",
      "   256    274.0   12.4 |    0.0195036     0.104864     0.987576 |      75.4582      286.668      509628. |      512833.      3205.08 |      2048.64      60.4106\n",
      "   320    341.0   14.6 |    0.0774883    0.0476218     0.929855 |      299.798      130.185      88011.9 |      91331.0      3319.16 |      628.265      65.3186\n",
      "   384    405.0   16.7 |    0.0377596    0.0243369     0.874836 |      146.090      66.5303      46162.1 |      49463.9      3301.74 |      327.816      65.2168\n",
      "   448    469.0   18.8 |    0.0252844    0.0166666     0.827764 |      97.8237      45.5618      31779.0 |      35084.7      3305.68 |      227.613      65.1124\n",
      "   512    533.0   20.8 |   0.00434185  0.000126289    0.0901038 |      16.7984     0.345240      661.215 |      3999.29      3338.08 |      54.5026      64.7302\n",
      "   576    597.0   22.8 |   0.00344481  4.04755e-05    0.0890209 |      13.3278     0.110649      653.929 |      3999.36      3345.43 |      54.4896      64.6415\n",
      "   640    661.0   24.9 |   0.00297228  7.15225e-05    0.0834018 |      11.4996     0.195522      614.950 |      3993.65      3378.70 |      54.4902      64.2072\n",
      "   704    725.0   26.9 |   0.00277960  2.94967e-05    0.0814770 |      10.7541    0.0806356      602.471 |      3997.92      3395.45 |      54.4889      63.9559\n",
      "   768    789.0   29.0 |   0.00263316  2.07414e-05    0.0796874 |      10.1875    0.0567011      590.764 |      4001.64      3410.87 |      54.4884      63.7045\n",
      "   832    853.0   31.0 |   0.00252541  1.67304e-05    0.0777545 |      9.77067    0.0457362      577.674 |      4003.07      3425.39 |      54.4873      63.4537\n",
      "   896    917.0   33.0 |   0.00203555  0.000283003    0.0601187 |      7.87543     0.773650      454.608 |      4007.72      3553.12 |      54.4939      61.0363\n",
      " iter# kkt_pass   time | rel_prim_res rel_dual_res      rel_gap |   prim_resid   dual_resid      obj_gap |     prim_obj     dual_obj |  prim_var_l2  dual_var_l2\n",
      "   960    981.0   35.1 |   0.00178717  0.000162575    0.0524991 |      6.91444     0.444435      399.706 |      4006.14      3606.43 |      54.4918      59.7700\n",
      "  1024   1045.0   37.2 |   0.00157699  0.000123272    0.0462747 |      6.10129     0.336991      354.312 |      4005.01      3650.70 |      54.4903      58.6229\n",
      "  1088   1109.0   39.3 |   0.00139700  9.90617e-05    0.0410740 |      5.40490     0.270807      315.937 |      4003.42      3687.48 |      54.4872      57.5694\n",
      "  1152   1173.0   41.4 |  0.000972539   0.00164586    0.0212008 |      3.76270      4.49933      165.982 |      3997.01      3831.03 |      54.4850      53.5701\n",
      "  1216   1237.0   43.4 |  0.000687524  0.000799025    0.0140007 |      2.65999      2.18431      110.112 |      3986.96      3876.84 |      54.4860      51.4353\n",
      "  1280   1301.0   45.4 |  0.000512101  0.000513663   0.00963111 |      1.98129      1.40421      75.9415 |      3979.98      3904.04 |      54.4814      50.2752\n",
      "  1344   1365.0   47.6 |  0.000388519  0.000353915   0.00708987 |      1.50316     0.967503      55.9909 |      3976.15      3920.15 |      54.4785      49.7033\n",
      "  1408   1429.0   49.6 |  1.56391e-05  0.000552361  0.000332149 |    0.0605068      1.51000      2.63321 |      3964.72      3962.09 |      54.4742      48.8114\n",
      "  1472   1493.0   51.7 |  7.31160e-06  0.000332620  0.000161992 |    0.0282881     0.909290      1.28445 |      3964.70      3963.41 |      54.4744      48.8106\n",
      "  1536   1557.0   53.7 |  3.98268e-06  0.000215095  7.14130e-05 |    0.0154087     0.588009     0.566298 |      3964.73      3964.17 |      54.4744      48.8106\n",
      "  1600   1621.0   55.8 |  2.52131e-06  3.25791e-05 -2.17879e-05 |   0.00975480    0.0890622    -0.172792 |      3964.73      3964.90 |      54.4744      48.8116\n",
      "  1664   1685.0   57.8 |  1.68250e-06  1.77834e-05 -6.34620e-06 |   0.00650948    0.0486149   -0.0503285 |      3964.72      3964.77 |      54.4745      48.8116\n",
      "  1728   1749.0   59.8 |  1.07596e-06  1.22417e-05 -2.68298e-06 |   0.00416281    0.0334653   -0.0212773 |      3964.73      3964.75 |      54.4745      48.8115\n",
      "  1792   1813.0   61.9 |  2.25822e-07  8.67386e-06 -1.66187e-06 |  0.000873691    0.0237119   -0.0131794 |      3964.73      3964.75 |      54.4745      48.8115\n",
      "  1856   1877.0   63.9 |  8.63045e-08  6.99558e-06 -4.85505e-07 |  0.000333907    0.0191239  -0.00385028 |      3964.73      3964.74 |      54.4745      48.8115\n",
      " iter# kkt_pass   time | rel_prim_res rel_dual_res      rel_gap |   prim_resid   dual_resid      obj_gap |     prim_obj     dual_obj |  prim_var_l2  dual_var_l2\n",
      "  1920   1941.0   65.9 |  5.03203e-08  6.89450e-06 -1.70219e-07 |  0.000194686    0.0188476  -0.00134991 |      3964.73      3964.73 |      54.4745      48.8115\n",
      "  1984   2005.0   68.0 |  3.17646e-08  6.84425e-06 -1.48588e-07 |  0.000122895    0.0187103  -0.00117838 |      3964.73      3964.73 |      54.4745      48.8115\n",
      "  2048   2069.0   70.0 |  4.38190e-07  1.44760e-06 -3.78145e-08 |   0.00169533   0.00395733 -0.000299886 |      3964.73      3964.73 |      54.4745      48.8115\n"
     ]
    },
    {
     "name": "stdout",
     "output_type": "stream",
     "text": [
      "-------------------------------------------------------------------------------\n",
      "                                    Summary                                    \n",
      "-------------------------------------------------------------------------------\n",
      "(CVXPY) Jan 20 06:08:01 PM: Problem status: optimal\n",
      "(CVXPY) Jan 20 06:08:01 PM: Optimal value: 3.965e+03\n",
      "(CVXPY) Jan 20 06:08:01 PM: Compilation took 1.982e+01 seconds\n",
      "(CVXPY) Jan 20 06:08:01 PM: Solver (including time spent in interface) took 7.323e+01 seconds\n"
     ]
    },
    {
     "name": "stderr",
     "output_type": "stream",
     "text": [
      "  2112   2133.0   72.1 |  1.97064e-07  9.85880e-07  9.66494e-08 |  0.000762429   0.00269512  0.000766475 |      3964.73      3964.73 |      54.4745      48.8115\n",
      "Termination reason: TERMINATION_REASON_OPTIMAL\n",
      "Solution point type: POINT_TYPE_AVERAGE_ITERATE\n",
      "Final solution stats:\n",
      " iter# kkt_pass   time | rel_prim_res rel_dual_res      rel_gap |   prim_resid   dual_resid      obj_gap |     prim_obj     dual_obj |  prim_var_l2  dual_var_l2\n",
      "  2112   2133.0   72.1 |  1.97064e-07  9.85880e-07  9.66494e-08 |  0.000762429   0.00269512  0.000766475 |      3964.73      3964.73 |      54.4745      48.8115\n"
     ]
    }
   ],
   "source": [
    "opt_val=big_LP.solve(solver=cp.PDLP, verbose=True)"
   ]
  },
  {
   "cell_type": "markdown",
   "metadata": {},
   "source": [
    "It requires no more than 100 seconds!!!"
   ]
  },
  {
   "cell_type": "code",
   "execution_count": null,
   "metadata": {},
   "outputs": [],
   "source": []
  }
 ],
 "metadata": {
  "kernelspec": {
   "display_name": "Python 3.11",
   "language": "python",
   "name": "python3.11"
  },
  "language_info": {
   "codemirror_mode": {
    "name": "ipython",
    "version": 3
   },
   "file_extension": ".py",
   "mimetype": "text/x-python",
   "name": "python",
   "nbconvert_exporter": "python",
   "pygments_lexer": "ipython3",
   "version": "3.11.7"
  },
  "toc": {
   "base_numbering": 1,
   "nav_menu": {},
   "number_sections": true,
   "sideBar": true,
   "skip_h1_title": false,
   "title_cell": "Table of Contents",
   "title_sidebar": "Contents",
   "toc_cell": false,
   "toc_position": {},
   "toc_section_display": true,
   "toc_window_display": false
  }
 },
 "nbformat": 4,
 "nbformat_minor": 4
}
